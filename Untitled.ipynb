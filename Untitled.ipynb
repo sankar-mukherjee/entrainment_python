{
 "cells": [
  {
   "cell_type": "code",
   "execution_count": null,
   "metadata": {},
   "outputs": [],
   "source": [
    "# let's explore some frequency bands\n",
    "iter_freqs = [\n",
    "    ('fr', 1, 3),\n",
    "    ('fr', 4, 6)\n",
    "]\n",
    "\n",
    "\n",
    "raw_fname = data_path + '/data/SurrogateCoherence/SurrogateCoherence-'+ str(remove_first)+'.mat'\n",
    "mat = scipy.io.loadmat(raw_fname)\n",
    "\n",
    "Feature= mat['data']['Feature'][0]\n",
    "Condition= mat['data']['Condition'][0]\n",
    "Delay= mat['data']['Delay'][0]\n",
    "noTrials= mat['data']['noTrials'][0]\n",
    "Subject= mat['data']['Subject'][0]\n",
    "originalCoh= mat['data']['Data'][0]\n",
    "surrogateCoh= mat['data']['Surrogate'][0]\n",
    "\n",
    "Feature=np.concatenate( Feature[0][0,:], axis=0 )\n",
    "Condition=np.concatenate( Condition[0][0,:], axis=0 )\n",
    "Delay=np.concatenate( Delay[0][0,:], axis=0 )\n",
    "noTrials=np.concatenate( noTrials[0][0,:], axis=0 )\n",
    "Subject=np.concatenate( Subject[0][0,:], axis=0 )\n",
    "    \n",
    "\n",
    "frames = []\n",
    "for i in range(0,len(Subject)):\n",
    "    Ocoh = originalCoh[0][0,:][i]\n",
    "    Scoh = surrogateCoh[0][0,:][i]\n",
    "\n",
    "    for band, fmin, fmax in iter_freqs:\n",
    "        a = band+ ' '+str(fmin)+' - '+str(fmax)+'Hz' \n",
    "        x = Ocoh[:,fmin:fmax].mean(axis=1)\n",
    "        y = Scoh[:,fmin:fmax].mean(axis=1)\n",
    "\n",
    "        df = pd.DataFrame({'Feature':Feature[i],'Condition':Condition[i],'Delay':Delay[i],\n",
    "                     'noTrials':noTrials[:,0][i],'Subject':Subject[i],'Freq':a,'Data':[x],'Surrogate':[y]})\n",
    "        frames.append(df)\n",
    "        \n",
    "data_surrogate=pd.concat((frames),axis=0)\n",
    "data_surrogate['Delay'] = data_surrogate['Delay'].astype('float64')\n",
    "data_surrogate['Delay']=data_surrogate['Delay'] - 0.5\n",
    "data_surrogate['Delay']=data_surrogate['Delay'].round(decimals=1)\n",
    "\n",
    "data_surrogate.set_index(['Feature','Freq','Condition','Delay','Subject'], inplace=True)\n",
    "data_surrogate.sort_index(inplace=True)\n",
    "\n",
    "a  = data_surrogate['Data'].apply(lambda x: np.mean(x))\n",
    "data_surrogate['Coherence'] = pd.Series(a, index=data_surrogate.index)\n",
    "a  = data_surrogate['Surrogate'].apply(lambda x: np.mean(x))\n",
    "data_surrogate['SCoherence'] = pd.Series(a, index=data_surrogate.index)\n",
    "data_surrogate.sample(10)"
   ]
  },
  {
   "cell_type": "code",
   "execution_count": null,
   "metadata": {},
   "outputs": [],
   "source": [
    "fname = os.path.dirname(os.path.dirname(os.getcwd())) + '/fieldtrip_eeg_clean\\mat/matlab.mat'\n",
    "connectivity ,ch_names = mne.channels.read_ch_connectivity(fname)\n",
    "\n",
    "connectivity, ch_names = mne.channels.find_ch_connectivity(info.info, ch_type='eeg')\n",
    "\n",
    "\n",
    "plt.imshow(connectivity.toarray(), cmap='gray', origin='lower',\n",
    "           interpolation='nearest')\n",
    "plt.xlabel('{} Magnetometers'.format(len(ch_names)))\n",
    "plt.ylabel('{} Magnetometers'.format(len(ch_names)))\n",
    "plt.title('Between-sensor adjacency')"
   ]
  },
  {
   "cell_type": "code",
   "execution_count": null,
   "metadata": {},
   "outputs": [],
   "source": [
    "aaa = data_surrogate.reset_index()\n",
    "data = aaa[['Feature','Freq','Condition','Delay','Subject','Data','Coherence']].copy()\n",
    "data.set_index(['Feature','Freq','Condition','Delay','Subject'], inplace=True)\n",
    "data.sort_index(inplace=True)\n",
    "\n",
    "data_surrogate = aaa[['Feature','Freq','Condition','Delay','Subject','Surrogate','SCoherence']].copy()\n",
    "data_surrogate = data_surrogate.rename(index=str, columns={\"Surrogate\": \"Data\", \"SCoherence\": \"Coherence\"})\n",
    "data_surrogate.set_index(['Feature','Freq','Condition','Delay','Subject'], inplace=True)\n",
    "data_surrogate.sort_index(inplace=True)"
   ]
  },
  {
   "cell_type": "code",
   "execution_count": null,
   "metadata": {},
   "outputs": [],
   "source": [
    "import nitime\n",
    "#Import the time-series objects:\n",
    "from nitime.timeseries import TimeSeries\n",
    "#Import the analysis objects:\n",
    "from nitime.analysis import CoherenceAnalyzer\n",
    "\n",
    "data = hyper.get_data()\n",
    "data.shape\n",
    "\n",
    "\n",
    "f_lb = 1\n",
    "f_ub = 3\n",
    "\n",
    "T = ts.TimeSeries(data[0], sampling_rate=400)\n",
    "C = CoherenceAnalyzer(T,method={'NFFT': 256})\n",
    "freq_idx = np.where((C.frequencies > f_lb) * (C.frequencies < f_ub))[0]\n",
    "idx1 = np.repeat(59,59)\n",
    "idx2 = np.arange(0,59)\n",
    "idx3 = np.repeat(60,59)\n",
    "\n",
    "A = []\n",
    "for i in range(0,1):\n",
    "    T = ts.TimeSeries(data[i], sampling_rate=400)\n",
    "    C = CoherenceAnalyzer(T,method={'NFFT': 512})\n",
    "    coh = C.coherence_partial[idx1, idx2, idx3]\n",
    "    coh = np.mean(coh[:, freq_idx], -1)\n",
    "    A.append(coh)\n",
    "    print(i)\n",
    "    \n",
    "    \n",
    "C.coherence_partial    \n",
    "C = CoherenceAnalyzer(T,method={'this_method': 'multi_taper_csd','adaptive':'True','low_bias':'True'})\n",
    "C.frequencies\n",
    "C = CoherenceAnalyzer(T,method={'NFFT': 512})\n",
    "C.frequencies[51]\n",
    "C.coherence.shape\n",
    "C.coherence_partial.shape"
   ]
  },
  {
   "cell_type": "code",
   "execution_count": 1,
   "metadata": {},
   "outputs": [
    {
     "name": "stderr",
     "output_type": "stream",
     "text": [
      "C:\\ProgramData\\Anaconda3\\lib\\site-packages\\matplotlib\\cbook\\deprecation.py:106: MatplotlibDeprecationWarning: The mpl_toolkits.axes_grid module was deprecated in version 2.1. Use mpl_toolkits.axes_grid1 and mpl_toolkits.axisartist provies the same functionality instead.\n",
      "  warnings.warn(message, mplDeprecation, stacklevel=1)\n"
     ]
    }
   ],
   "source": [
    "import os\n",
    "\n",
    "#Import from other libraries:\n",
    "import numpy as np\n",
    "import matplotlib.pyplot as plt\n",
    "from matplotlib.mlab import csv2rec\n",
    "\n",
    "import nitime\n",
    "#Import the time-series objects:\n",
    "from nitime.timeseries import TimeSeries\n",
    "#Import the analysis objects:\n",
    "from nitime.analysis import CorrelationAnalyzer, CoherenceAnalyzer\n",
    "#Import utility functions:\n",
    "from nitime.utils import percent_change\n",
    "from nitime.viz import drawmatrix_channels, drawgraph_channels, plot_xcorr\n",
    "\n",
    "#This information (the sampling interval) has to be known in advance:\n",
    "TR = 1.89\n",
    "f_lb = 0.02\n",
    "f_ub = 0.15\n",
    "\n",
    "\"\"\"\n",
    "\n",
    "We use csv2rec to read the data in from file to a recarray:\n",
    "\n",
    "\"\"\"\n",
    "\n",
    "data_path = os.path.join(nitime.__path__[0], 'data')\n",
    "\n",
    "data_rec = csv2rec(os.path.join(data_path, 'fmri_timeseries.csv'))"
   ]
  },
  {
   "cell_type": "code",
   "execution_count": 2,
   "metadata": {},
   "outputs": [],
   "source": [
    "#Extract information:\n",
    "roi_names = np.array(data_rec.dtype.names)\n",
    "n_samples = data_rec.shape[0]\n",
    "\n",
    "\n",
    "#Make an empty container for the data\n",
    "data = np.zeros((len(roi_names), n_samples))\n",
    "\n",
    "for n_idx, roi in enumerate(roi_names):\n",
    "    data[n_idx] = data_rec[roi]\n",
    "\n",
    "#Normalize the data:\n",
    "data = percent_change(data)"
   ]
  },
  {
   "cell_type": "code",
   "execution_count": 3,
   "metadata": {},
   "outputs": [],
   "source": [
    "T = TimeSeries(data, sampling_interval=TR)\n",
    "T.metadata['roi'] = roi_names"
   ]
  },
  {
   "cell_type": "code",
   "execution_count": 19,
   "metadata": {},
   "outputs": [
    {
     "data": {
      "text/plain": [
       "array([0.        , 0.0082672 , 0.01653439, 0.02480159, 0.03306878,\n",
       "       0.04133598, 0.04960317, 0.05787037, 0.06613757, 0.07440476,\n",
       "       0.08267196, 0.09093915, 0.09920635, 0.10747354, 0.11574074,\n",
       "       0.12400794, 0.13227513, 0.14054233, 0.14880952, 0.15707672,\n",
       "       0.16534392, 0.17361111, 0.18187831, 0.1901455 , 0.1984127 ,\n",
       "       0.20667989, 0.21494709, 0.22321429, 0.23148148, 0.23974868,\n",
       "       0.24801587, 0.25628307, 0.26455026])"
      ]
     },
     "execution_count": 19,
     "metadata": {},
     "output_type": "execute_result"
    }
   ],
   "source": [
    "C.frequencies"
   ]
  },
  {
   "cell_type": "code",
   "execution_count": 4,
   "metadata": {},
   "outputs": [
    {
     "data": {
      "image/png": "[encoded data removed]",
      "text/plain": [
       "<matplotlib.figure.Figure at 0x58340b8>"
      ]
     },
     "metadata": {},
     "output_type": "display_data"
    }
   ],
   "source": [
    "#Initialize the correlation analyzer\n",
    "C = CorrelationAnalyzer(T)\n",
    "\n",
    "#Display the correlation matrix\n",
    "fig01 = drawmatrix_channels(C.corrcoef, roi_names, size=[10., 10.], color_anchor=0)"
   ]
  },
  {
   "cell_type": "code",
   "execution_count": 5,
   "metadata": {},
   "outputs": [
    {
     "data": {
      "image/png": "[encoded data removed]",
      "text/plain": [
       "<matplotlib.figure.Figure at 0xafd97f0>"
      ]
     },
     "metadata": {},
     "output_type": "display_data"
    }
   ],
   "source": [
    "xc = C.xcorr_norm\n",
    "\n",
    "idx_lcau = np.where(roi_names == 'lcau')[0]\n",
    "idx_rcau = np.where(roi_names == 'rcau')[0]\n",
    "idx_lput = np.where(roi_names == 'lput')[0]\n",
    "idx_rput = np.where(roi_names == 'rput')[0]\n",
    "\n",
    "fig02 = plot_xcorr(xc,\n",
    "                   ((idx_lcau, idx_rcau),\n",
    "                    (idx_lcau, idx_lput)),\n",
    "                   line_labels=['rcau', 'lput'])"
   ]
  },
  {
   "cell_type": "code",
   "execution_count": 6,
   "metadata": {},
   "outputs": [],
   "source": [
    "C = CoherenceAnalyzer(T)\n",
    "\n",
    "freq_idx = np.where((C.frequencies > f_lb) * (C.frequencies < f_ub))[0]\n"
   ]
  },
  {
   "cell_type": "code",
   "execution_count": 7,
   "metadata": {},
   "outputs": [
    {
     "data": {
      "image/png": "[encoded data removed]",
      "text/plain": [
       "<matplotlib.figure.Figure at 0xaff7438>"
      ]
     },
     "metadata": {},
     "output_type": "display_data"
    }
   ],
   "source": [
    "coh = np.mean(C.coherence[:, :, freq_idx], -1)  # Averaging on the last dimension\n",
    "fig03 = drawmatrix_channels(coh, roi_names, size=[10., 10.], color_anchor=0)"
   ]
  },
  {
   "cell_type": "code",
   "execution_count": 8,
   "metadata": {},
   "outputs": [
    {
     "data": {
      "text/plain": [
       "(31, 31, 33)"
      ]
     },
     "execution_count": 8,
     "metadata": {},
     "output_type": "execute_result"
    }
   ],
   "source": [
    "C.coherence.shape"
   ]
  },
  {
   "cell_type": "code",
   "execution_count": 9,
   "metadata": {},
   "outputs": [
    {
     "data": {
      "text/plain": [
       "(31, 31, 31, 33)"
      ]
     },
     "execution_count": 9,
     "metadata": {},
     "output_type": "execute_result"
    }
   ],
   "source": [
    "C.coherence_partial.shape"
   ]
  },
  {
   "cell_type": "code",
   "execution_count": 10,
   "metadata": {},
   "outputs": [],
   "source": [
    "idx = np.hstack([idx_lcau, idx_rcau, idx_lput, idx_rput])\n",
    "idx1 = np.vstack([[idx[i]] * 4 for i in range(4)]).ravel()\n",
    "idx2 = np.hstack(4 * [idx])\n",
    "\n",
    "coh = C.coherence[idx1, idx2].reshape(4, 4, C.frequencies.shape[0])"
   ]
  },
  {
   "cell_type": "code",
   "execution_count": 18,
   "metadata": {},
   "outputs": [
    {
     "data": {
      "text/plain": [
       "(4, 4)"
      ]
     },
     "execution_count": 18,
     "metadata": {},
     "output_type": "execute_result"
    }
   ],
   "source": [
    "idx3 = np.hstack(16 * [idx_lcau])\n",
    "coh = C.coherence_partial[idx1, idx2, idx3].reshape(4, 4, C.frequencies.shape[0])\n",
    "coh = np.mean(coh[:, :, freq_idx], -1)\n",
    "coh.shape"
   ]
  },
  {
   "cell_type": "code",
   "execution_count": 17,
   "metadata": {},
   "outputs": [
    {
     "data": {
      "text/plain": [
       "(4, 4, 33)"
      ]
     },
     "execution_count": 17,
     "metadata": {},
     "output_type": "execute_result"
    }
   ],
   "source": [
    "coh = C.coherence_partial[idx1, idx2, idx3].reshape(4, 4, C.frequencies.shape[0])\n",
    "coh.shape"
   ]
  },
  {
   "cell_type": "code",
   "execution_count": 12,
   "metadata": {},
   "outputs": [
    {
     "data": {
      "text/plain": [
       "array([ 3,  3,  3,  3, 17, 17, 17, 17,  4,  4,  4,  4, 18, 18, 18, 18],\n",
       "      dtype=int64)"
      ]
     },
     "execution_count": 12,
     "metadata": {},
     "output_type": "execute_result"
    }
   ],
   "source": [
    "idx1"
   ]
  },
  {
   "cell_type": "code",
   "execution_count": 13,
   "metadata": {},
   "outputs": [
    {
     "data": {
      "text/plain": [
       "array([ 3, 17,  4, 18,  3, 17,  4, 18,  3, 17,  4, 18,  3, 17,  4, 18],\n",
       "      dtype=int64)"
      ]
     },
     "execution_count": 13,
     "metadata": {},
     "output_type": "execute_result"
    }
   ],
   "source": [
    "idx2"
   ]
  },
  {
   "cell_type": "code",
   "execution_count": 14,
   "metadata": {},
   "outputs": [
    {
     "data": {
      "text/plain": [
       "array([3, 3, 3, 3, 3, 3, 3, 3, 3, 3, 3, 3, 3, 3, 3, 3], dtype=int64)"
      ]
     },
     "execution_count": 14,
     "metadata": {},
     "output_type": "execute_result"
    }
   ],
   "source": [
    "idx3"
   ]
  },
  {
   "cell_type": "code",
   "execution_count": 24,
   "metadata": {},
   "outputs": [
    {
     "name": "stderr",
     "output_type": "stream",
     "text": [
      "C:\\ProgramData\\Anaconda3\\lib\\site-packages\\nitime\\viz.py:907: MatplotlibDeprecationWarning: The is_string_like function was deprecated in version 2.1.\n",
      "  if not cb.is_string_like(edge_color) \\\n",
      "C:\\ProgramData\\Anaconda3\\lib\\site-packages\\nitime\\viz.py:911: MatplotlibDeprecationWarning: The is_string_like function was deprecated in version 2.1.\n",
      "  for c in edge_color]):\n",
      "C:\\ProgramData\\Anaconda3\\lib\\site-packages\\nitime\\viz.py:917: MatplotlibDeprecationWarning: The is_string_like function was deprecated in version 2.1.\n",
      "  for c in edge_color]):\n"
     ]
    },
    {
     "data": {
      "image/png": "[encoded data removed]",
      "text/plain": [
       "<matplotlib.figure.Figure at 0xc412828>"
      ]
     },
     "metadata": {},
     "output_type": "display_data"
    },
    {
     "data": {
      "image/png": "[encoded data removed]",
      "text/plain": [
       "<matplotlib.figure.Figure at 0xc412ef0>"
      ]
     },
     "metadata": {},
     "output_type": "display_data"
    }
   ],
   "source": [
    "fig05 = drawgraph_channels(coh, roi_names[idx])\n",
    "fig06 = drawmatrix_channels(coh, roi_names[idx], color_anchor=0)"
   ]
  },
  {
   "cell_type": "code",
   "execution_count": 11,
   "metadata": {},
   "outputs": [
    {
     "name": "stdout",
     "output_type": "stream",
     "text": [
      "Opening raw data file C:\\Users\\Sankar\\mne_data\\MNE-sample-data\\MEG\\sample\\sample_audvis_filt-0-40_raw.fif...\n",
      "    Read a total of 4 projection items:\n",
      "        PCA-v1 (1 x 102)  idle\n",
      "        PCA-v2 (1 x 102)  idle\n",
      "        PCA-v3 (1 x 102)  idle\n",
      "        Average EEG reference (1 x 60)  idle\n",
      "    Range : 6450 ... 48149 =     42.956 ...   320.665 secs\n",
      "Ready.\n",
      "Current compensation grade : 0\n",
      "Reading 0 ... 41699  =      0.000 ...   277.709 secs...\n"
     ]
    },
    {
     "ename": "AttributeError",
     "evalue": "'Raw' object has no attribute 'to_nitime'",
     "output_type": "error",
     "traceback": [
      "\u001b[1;31m---------------------------------------------------------------------------\u001b[0m",
      "\u001b[1;31mAttributeError\u001b[0m                            Traceback (most recent call last)",
      "\u001b[1;32m<ipython-input-11-630a55bd3dfb>\u001b[0m in \u001b[0;36m<module>\u001b[1;34m()\u001b[0m\n\u001b[0;32m      6\u001b[0m \u001b[1;33m\u001b[0m\u001b[0m\n\u001b[0;32m      7\u001b[0m \u001b[0mraw\u001b[0m \u001b[1;33m=\u001b[0m \u001b[0mio\u001b[0m\u001b[1;33m.\u001b[0m\u001b[0mRawFIF\u001b[0m\u001b[1;33m(\u001b[0m\u001b[0mraw_fname\u001b[0m\u001b[1;33m,\u001b[0m \u001b[0mpreload\u001b[0m\u001b[1;33m=\u001b[0m\u001b[1;32mTrue\u001b[0m\u001b[1;33m)\u001b[0m\u001b[1;33m\u001b[0m\u001b[0m\n\u001b[1;32m----> 8\u001b[1;33m \u001b[0mraw\u001b[0m\u001b[1;33m.\u001b[0m\u001b[0mto_nitime\u001b[0m\u001b[1;33m(\u001b[0m\u001b[1;33m)\u001b[0m\u001b[1;33m\u001b[0m\u001b[0m\n\u001b[0m",
      "\u001b[1;31mAttributeError\u001b[0m: 'Raw' object has no attribute 'to_nitime'"
     ]
    }
   ],
   "source": [
    "from mne.datasets import sample\n",
    "from mne import io\n",
    "\n",
    "data_path = sample.data_path()\n",
    "raw_fname = data_path + '/MEG/sample/sample_audvis_filt-0-40_raw.fif'\n",
    "\n",
    "raw = io.RawFIF(raw_fname, preload=True)\n",
    "raw.\n",
    "to_nitime()"
   ]
  },
  {
   "cell_type": "code",
   "execution_count": 9,
   "metadata": {},
   "outputs": [
    {
     "name": "stdout",
     "output_type": "stream",
     "text": [
      "This filename (D:\\projects\\current\\listen_italian_motor_entrainment/analysis/python/data/Alice-coh-epo-0-4.51-trialLen-3.fif) does not conform to MNE naming conventions. All epochs files should end with -epo.fif or -epo.fif.gz\n",
      "Reading D:\\projects\\current\\listen_italian_motor_entrainment/analysis/python/data/Alice-coh-epo-0-4.51-trialLen-3.fif ...\n",
      "Isotrak not found\n",
      "    Found the data of interest:\n",
      "        t =       0.00 ...    4507.50 ms\n",
      "        0 CTF compensation matrices available\n",
      "70 matching events found\n",
      "No baseline correction applied\n",
      "70 matching events found\n",
      "No baseline correction applied\n",
      "Not setting metadata\n",
      "0 projection items activated\n"
     ]
    }
   ],
   "source": [
    "Tmin = 0\n",
    "Tmax = 4.51\n",
    "trial_len = 3\n",
    "\n",
    "for s in subject_name:\n",
    "    save_path = data_path + '/analysis/python/data/'+s+'-coh-epo-'+str(Tmin)+'-'+str(Tmax)+'-trialLen-'+str(trial_len)+'.fif'\n",
    "    epochs = mne.read_epochs(save_path)"
   ]
  },
  {
   "cell_type": "code",
   "execution_count": null,
   "metadata": {},
   "outputs": [],
   "source": [
    "epochs.t"
   ]
  },
  {
   "cell_type": "code",
   "execution_count": 7,
   "metadata": {},
   "outputs": [
    {
     "data": {
      "text/plain": [
       "2"
      ]
     },
     "execution_count": 7,
     "metadata": {},
     "output_type": "execute_result"
    }
   ],
   "source": [
    "from numba import cuda\n",
    "len(cuda.gpus)"
   ]
  },
  {
   "cell_type": "code",
   "execution_count": 4,
   "metadata": {},
   "outputs": [
    {
     "name": "stderr",
     "output_type": "stream",
     "text": [
      "C:\\ProgramData\\Anaconda3\\lib\\site-packages\\IPython\\parallel.py:13: ShimWarning: The `IPython.parallel` package has been deprecated since IPython 4.0. You should import from ipyparallel instead.\n",
      "  \"You should import from ipyparallel instead.\", ShimWarning)\n"
     ]
    },
    {
     "name": "stdout",
     "output_type": "stream",
     "text": [
      "Waiting for connection file: ~\\.ipython\\profile_default\\security\\ipcontroller-client.json\n"
     ]
    },
    {
     "ename": "OSError",
     "evalue": "Connection file '~\\\\.ipython\\\\profile_default\\\\security\\\\ipcontroller-client.json' not found.\nYou have attempted to connect to an IPython Cluster but no Controller could be found.\nPlease double-check your configuration and ensure that a cluster is running.",
     "output_type": "error",
     "traceback": [
      "\u001b[1;31m---------------------------------------------------------------------------\u001b[0m",
      "\u001b[1;31mOSError\u001b[0m                                   Traceback (most recent call last)",
      "\u001b[1;32m<ipython-input-4-30158196156e>\u001b[0m in \u001b[0;36m<module>\u001b[1;34m()\u001b[0m\n\u001b[0;32m      1\u001b[0m \u001b[1;32mfrom\u001b[0m \u001b[0mIPython\u001b[0m \u001b[1;32mimport\u001b[0m \u001b[0mparallel\u001b[0m\u001b[1;33m\u001b[0m\u001b[0m\n\u001b[1;32m----> 2\u001b[1;33m \u001b[0mc\u001b[0m \u001b[1;33m=\u001b[0m \u001b[0mparallel\u001b[0m\u001b[1;33m.\u001b[0m\u001b[0mClient\u001b[0m\u001b[1;33m(\u001b[0m\u001b[1;33m)\u001b[0m\u001b[1;33m\u001b[0m\u001b[0m\n\u001b[0m\u001b[0;32m      3\u001b[0m \u001b[0mview\u001b[0m \u001b[1;33m=\u001b[0m \u001b[0mc\u001b[0m\u001b[1;33m.\u001b[0m\u001b[0mload_balanced_view\u001b[0m\u001b[1;33m(\u001b[0m\u001b[1;33m)\u001b[0m\u001b[1;33m\u001b[0m\u001b[0m\n",
      "\u001b[1;32mC:\\ProgramData\\Anaconda3\\lib\\site-packages\\ipyparallel\\client\\client.py\u001b[0m in \u001b[0;36m__init__\u001b[1;34m(self, url_file, profile, profile_dir, ipython_dir, context, debug, sshserver, sshkey, password, paramiko, timeout, cluster_id, **extra_args)\u001b[0m\n\u001b[0;32m    410\u001b[0m                         \u001b[0mno_file_msg\u001b[0m\u001b[1;33m,\u001b[0m\u001b[1;33m\u001b[0m\u001b[0m\n\u001b[0;32m    411\u001b[0m                     ])\n\u001b[1;32m--> 412\u001b[1;33m                     \u001b[1;32mraise\u001b[0m \u001b[0mIOError\u001b[0m\u001b[1;33m(\u001b[0m\u001b[0mmsg\u001b[0m\u001b[1;33m)\u001b[0m\u001b[1;33m\u001b[0m\u001b[0m\n\u001b[0m\u001b[0;32m    413\u001b[0m         \u001b[1;32mif\u001b[0m \u001b[0murl_file\u001b[0m \u001b[1;32mis\u001b[0m \u001b[1;32mNone\u001b[0m\u001b[1;33m:\u001b[0m\u001b[1;33m\u001b[0m\u001b[0m\n\u001b[0;32m    414\u001b[0m             \u001b[1;32mraise\u001b[0m \u001b[0mIOError\u001b[0m\u001b[1;33m(\u001b[0m\u001b[0mno_file_msg\u001b[0m\u001b[1;33m)\u001b[0m\u001b[1;33m\u001b[0m\u001b[0m\n",
      "\u001b[1;31mOSError\u001b[0m: Connection file '~\\\\.ipython\\\\profile_default\\\\security\\\\ipcontroller-client.json' not found.\nYou have attempted to connect to an IPython Cluster but no Controller could be found.\nPlease double-check your configuration and ensure that a cluster is running."
     ]
    }
   ],
   "source": [
    "from IPython import parallel\n",
    "c = parallel.Client()\n",
    "view = c.load_balanced_view()"
   ]
  },
  {
   "cell_type": "code",
   "execution_count": 5,
   "metadata": {},
   "outputs": [
    {
     "ename": "ModuleNotFoundError",
     "evalue": "No module named 'mpi4py'",
     "output_type": "error",
     "traceback": [
      "\u001b[1;31m---------------------------------------------------------------------------\u001b[0m",
      "\u001b[1;31mModuleNotFoundError\u001b[0m                       Traceback (most recent call last)",
      "\u001b[1;32m<ipython-input-5-322050e297be>\u001b[0m in \u001b[0;36m<module>\u001b[1;34m()\u001b[0m\n\u001b[1;32m----> 1\u001b[1;33m \u001b[1;32mfrom\u001b[0m \u001b[0mmpi4py\u001b[0m \u001b[1;32mimport\u001b[0m \u001b[0mMPI\u001b[0m\u001b[1;33m\u001b[0m\u001b[0m\n\u001b[0m\u001b[0;32m      2\u001b[0m \u001b[1;32mimport\u001b[0m \u001b[0mnumpy\u001b[0m \u001b[1;32mas\u001b[0m \u001b[0mnp\u001b[0m\u001b[1;33m\u001b[0m\u001b[0m\n\u001b[0;32m      3\u001b[0m \u001b[1;33m\u001b[0m\u001b[0m\n\u001b[0;32m      4\u001b[0m \u001b[1;32mdef\u001b[0m \u001b[0mpsum\u001b[0m\u001b[1;33m(\u001b[0m\u001b[0ma\u001b[0m\u001b[1;33m)\u001b[0m\u001b[1;33m:\u001b[0m\u001b[1;33m\u001b[0m\u001b[0m\n\u001b[0;32m      5\u001b[0m     \u001b[0mlocsum\u001b[0m \u001b[1;33m=\u001b[0m \u001b[0mnp\u001b[0m\u001b[1;33m.\u001b[0m\u001b[0msum\u001b[0m\u001b[1;33m(\u001b[0m\u001b[0ma\u001b[0m\u001b[1;33m)\u001b[0m\u001b[1;33m\u001b[0m\u001b[0m\n",
      "\u001b[1;31mModuleNotFoundError\u001b[0m: No module named 'mpi4py'"
     ]
    }
   ],
   "source": [
    "from mpi4py import MPI\n",
    "import numpy as np\n",
    "\n",
    "def psum(a):\n",
    "    locsum = np.sum(a)\n",
    "    rcvBuf = np.array(0.0,'d')\n",
    "    MPI.COMM_WORLD.Allreduce([locsum, MPI.DOUBLE],\n",
    "        [rcvBuf, MPI.DOUBLE],\n",
    "        op=MPI.SUM)\n",
    "    return rcvBuf"
   ]
  },
  {
   "cell_type": "code",
   "execution_count": 1,
   "metadata": {},
   "outputs": [
    {
     "name": "stdout",
     "output_type": "stream",
     "text": [
      "Waiting for connection file: ~\\.ipython\\profile_default\\security\\ipcontroller-client.json\n"
     ]
    },
    {
     "ename": "OSError",
     "evalue": "Connection file '~\\\\.ipython\\\\profile_default\\\\security\\\\ipcontroller-client.json' not found.\nYou have attempted to connect to an IPython Cluster but no Controller could be found.\nPlease double-check your configuration and ensure that a cluster is running.",
     "output_type": "error",
     "traceback": [
      "\u001b[1;31m---------------------------------------------------------------------------\u001b[0m",
      "\u001b[1;31mOSError\u001b[0m                                   Traceback (most recent call last)",
      "\u001b[1;32m<ipython-input-1-2c21c389974b>\u001b[0m in \u001b[0;36m<module>\u001b[1;34m()\u001b[0m\n\u001b[0;32m      2\u001b[0m \u001b[1;32mimport\u001b[0m \u001b[0mipyparallel\u001b[0m \u001b[1;32mas\u001b[0m \u001b[0mipp\u001b[0m\u001b[1;33m\u001b[0m\u001b[0m\n\u001b[0;32m      3\u001b[0m \u001b[1;33m\u001b[0m\u001b[0m\n\u001b[1;32m----> 4\u001b[1;33m \u001b[0mrc\u001b[0m \u001b[1;33m=\u001b[0m \u001b[0mipp\u001b[0m\u001b[1;33m.\u001b[0m\u001b[0mClient\u001b[0m\u001b[1;33m(\u001b[0m\u001b[1;33m)\u001b[0m\u001b[1;33m\u001b[0m\u001b[0m\n\u001b[0m\u001b[0;32m      5\u001b[0m \u001b[0mar\u001b[0m \u001b[1;33m=\u001b[0m \u001b[0mrc\u001b[0m\u001b[1;33m[\u001b[0m\u001b[1;33m:\u001b[0m\u001b[1;33m]\u001b[0m\u001b[1;33m.\u001b[0m\u001b[0mapply_async\u001b[0m\u001b[1;33m(\u001b[0m\u001b[0mos\u001b[0m\u001b[1;33m.\u001b[0m\u001b[0mgetpid\u001b[0m\u001b[1;33m)\u001b[0m\u001b[1;33m\u001b[0m\u001b[0m\n\u001b[0;32m      6\u001b[0m \u001b[0mpid_map\u001b[0m \u001b[1;33m=\u001b[0m \u001b[0mar\u001b[0m\u001b[1;33m.\u001b[0m\u001b[0mget_dict\u001b[0m\u001b[1;33m(\u001b[0m\u001b[1;33m)\u001b[0m\u001b[1;33m\u001b[0m\u001b[0m\n",
      "\u001b[1;32mC:\\ProgramData\\Anaconda3\\lib\\site-packages\\ipyparallel\\client\\client.py\u001b[0m in \u001b[0;36m__init__\u001b[1;34m(self, url_file, profile, profile_dir, ipython_dir, context, debug, sshserver, sshkey, password, paramiko, timeout, cluster_id, **extra_args)\u001b[0m\n\u001b[0;32m    410\u001b[0m                         \u001b[0mno_file_msg\u001b[0m\u001b[1;33m,\u001b[0m\u001b[1;33m\u001b[0m\u001b[0m\n\u001b[0;32m    411\u001b[0m                     ])\n\u001b[1;32m--> 412\u001b[1;33m                     \u001b[1;32mraise\u001b[0m \u001b[0mIOError\u001b[0m\u001b[1;33m(\u001b[0m\u001b[0mmsg\u001b[0m\u001b[1;33m)\u001b[0m\u001b[1;33m\u001b[0m\u001b[0m\n\u001b[0m\u001b[0;32m    413\u001b[0m         \u001b[1;32mif\u001b[0m \u001b[0murl_file\u001b[0m \u001b[1;32mis\u001b[0m \u001b[1;32mNone\u001b[0m\u001b[1;33m:\u001b[0m\u001b[1;33m\u001b[0m\u001b[0m\n\u001b[0;32m    414\u001b[0m             \u001b[1;32mraise\u001b[0m \u001b[0mIOError\u001b[0m\u001b[1;33m(\u001b[0m\u001b[0mno_file_msg\u001b[0m\u001b[1;33m)\u001b[0m\u001b[1;33m\u001b[0m\u001b[0m\n",
      "\u001b[1;31mOSError\u001b[0m: Connection file '~\\\\.ipython\\\\profile_default\\\\security\\\\ipcontroller-client.json' not found.\nYou have attempted to connect to an IPython Cluster but no Controller could be found.\nPlease double-check your configuration and ensure that a cluster is running."
     ]
    }
   ],
   "source": [
    "import os\n",
    "import ipyparallel as ipp\n",
    "\n",
    "rc = ipp.Client()\n",
    "ar = rc[:].apply_async(os.getpid)\n",
    "pid_map = ar.get_dict()"
   ]
  },
  {
   "cell_type": "code",
   "execution_count": null,
   "metadata": {},
   "outputs": [],
   "source": [
    "from IPython import parallel\n",
    "c = parallel.Client()\n",
    "view = c.load_balanced_view()\n"
   ]
  },
  {
   "cell_type": "code",
   "execution_count": null,
   "metadata": {},
   "outputs": [],
   "source": [
    "reject = dict(eeg=180e-6)\n",
    "events = mne.find_events(raw, stim_channel='Trigger')\n",
    "event_id = {'Speech onset': 5}\n",
    "tmin, tmax = -0.1, 3  # start and end of an epoch in sec.\n",
    "# Set up indices of channels to include in analysis\n",
    "epochs_params = dict(events=events, picks=picks,event_id=event_id, tmin=tmin, tmax=tmax,reject=reject)\n",
    "epochs = mne.Epochs(raw, **epochs_params)\n",
    "print(epochs)"
   ]
  },
  {
   "cell_type": "code",
   "execution_count": null,
   "metadata": {},
   "outputs": [],
   "source": [
    "import pandas as pd\n",
    "# let's explore some frequency bands\n",
    "iter_freqs = [\n",
    "    ('Delta', 1, 3),\n",
    "    ('Theta', 4, 7),\n",
    "    ('Alpha', 8, 12),\n",
    "    ('Beta', 13, 25),\n",
    "    ('Gamma', 30, 40)\n",
    "]\n",
    "features = ['envelop','jawaopening','lipaparature','lipProtrusion','TTCD','TMCD','TBCD']\n",
    "condition = ['Hyper','Normal','Hypo']\n",
    "\n",
    "frames = []\n",
    "for f in range(0,len(features)):\n",
    "    for band, fmin, fmax in iter_freqs:\n",
    "        feature = features[f]\n",
    "        hyper, normal, hypo = listen_italian_functions.coherence_freq(epochs,fmin, fmax,feature)\n",
    "        a = band+ ' '+str(fmin)+' - '+str(fmax)+'Hz'\n",
    "        df = pd.DataFrame({'Condition':'Hyper','Freq':a,'Feature':feature,'Data':[hyper.flatten()]})\n",
    "        df = df.append(pd.DataFrame({'Condition':'Normal','Freq':a,'Feature':feature,'Data':[normal.flatten()]}))\n",
    "        df = df.append(pd.DataFrame({'Condition':'Hypo','Freq':a,'Feature':feature,'Data':[hypo.flatten()]}))\n",
    "        frames.append(df)\n",
    "    \n",
    "data=pd.concat((frames),axis=0)\n",
    "data.set_index(['Feature','Freq','Condition'], inplace=True)\n",
    "data.sort_index(inplace=True)"
   ]
  },
  {
   "cell_type": "code",
   "execution_count": null,
   "metadata": {},
   "outputs": [],
   "source": [
    "epochs.drop([0], reason='User reason')\n",
    "epochs.drop_bad(reject=dict(grad=2500e-13, mag=4e-12, eog=200e-6), flat=None)\n",
    "print(epochs.drop_log)\n",
    "epochs.plot_drop_log()\n",
    "print('Selection from original events:\\n%s' % epochs.selection)\n",
    "print('Removed events (from numpy setdiff1d):\\n%s'\n",
    "      % (np.setdiff1d(np.arange(len(events)), epochs.selection).tolist(),))\n",
    "print('Removed events (from list comprehension -- should match!):\\n%s'\n",
    "      % ([li for li, log in enumerate(epochs.drop_log) if len(log) > 0]))"
   ]
  },
  {
   "cell_type": "code",
   "execution_count": null,
   "metadata": {},
   "outputs": [],
   "source": [
    "# %matplotlib inline\n",
    "evoked = epochs.average()\n",
    "# evoked.plot_joint(times=[0.105, 0.130, 0.180]);\n",
    "data = epochs.get_data()\n",
    "data_mean = np.mean(data, axis=0)[31:]"
   ]
  },
  {
   "cell_type": "code",
   "execution_count": null,
   "metadata": {},
   "outputs": [],
   "source": [
    "event_id = {'Speech_onset': 5, 'Speech_offset': 6}\n",
    "color = { 5: 'blue', 6: 'red'}\n",
    "\n",
    "a=mne.viz.plot_events(events, raw.info['sfreq'], raw.first_samp, color=color,event_id=event_id)"
   ]
  },
  {
   "cell_type": "code",
   "execution_count": null,
   "metadata": {},
   "outputs": [],
   "source": [
    "# plot magnetometer data as an animation\n",
    "a=hyper.animate_topomap(times=times, frame_rate=10,time_unit='ms')"
   ]
  },
  {
   "cell_type": "code",
   "execution_count": null,
   "metadata": {},
   "outputs": [],
   "source": [
    "reject = dict(eeg=180e-6)\n",
    "events = mne.find_events(raw, stim_channel='trial_no')\n",
    "event_id = {'Speech_onset': 105}\n",
    "tmin, tmax = -0.1, 2  # start and end of an epoch in sec.\n",
    "# Set up indices of channels to include in analysis\n",
    "picks = mne.pick_types(raw.info, meg=False, eeg=True, stim=True, eog=False,misc=True)\n",
    "epochs_params = dict(events=events, picks=picks,event_id=event_id, tmin=tmin, tmax=tmax,reject=reject,preload=True)\n",
    "epochs = mne.Epochs(raw, **epochs_params)\n",
    "print(epochs)"
   ]
  },
  {
   "cell_type": "code",
   "execution_count": null,
   "metadata": {},
   "outputs": [],
   "source": [
    "#behaviour\n",
    "import scipy.io\n",
    "import pandas as pd\n",
    "\n",
    "raw_fname = data_path + '/analysis/behaviour/data/subject/'+subject_name+'_behaviour.mat'\n",
    "mat = scipy.io.loadmat(raw_fname)\n",
    "condition= mat['behaviour']['condition'][0]\n",
    "response= mat['behaviour']['response'][0]\n",
    "a = np.hstack((condition[0],response[0]))\n",
    "\n",
    "df = pd.DataFrame({'condition':a[:,0],'response':a[:,1]})\n",
    "df.index = df.index + 1\n",
    "\n",
    "hyper  = df.loc[(df['condition'] == 1) & (df['response'] == 0)]\n",
    "normal = df.loc[(df['condition'] == 2) & (df['response'] == 0)]\n",
    "hypo   = df.loc[(df['condition'] == 3) & (df['response'] == 0)]\n",
    "\n",
    "events = mne.find_events(raw, stim_channel='trial_no')\n",
    "hyper = np.intersect1d(events[:,2], hyper.index.values)\n",
    "normal = np.intersect1d(events[:,2], normal.index.values)\n",
    "hypo = np.intersect1d(events[:,2], hypo.index.values)\n",
    "\n",
    "hyper = events[hyper-1]\n",
    "hyper[:,2] = 1\n",
    "normal = events[normal-1]\n",
    "normal[:,2] = 2\n",
    "hypo = events[hypo-1]\n",
    "hypo[:,2] = 3\n",
    "a = np.vstack((hyper,normal,hypo))\n",
    "a = np.sort(a, axis=0)\n",
    "\n",
    "# add this events to raw \n",
    "stim_data = np.zeros((1, len(raw.times)))\n",
    "info = mne.create_info(['con'], raw.info['sfreq'], ['misc'])\n",
    "stim_raw = mne.io.RawArray(stim_data, info)\n",
    "raw.add_channels([stim_raw], force_update_info=True)\n",
    "raw.add_events(a, stim_channel='con')"
   ]
  },
  {
   "cell_type": "code",
   "execution_count": null,
   "metadata": {},
   "outputs": [],
   "source": [
    "reject = dict(eeg=180e-6)\n",
    "events = mne.find_events(raw, stim_channel='con')\n",
    "event_id = {'hyper': 1,'normal': 2,'hypo': 3}\n",
    "tmin, tmax = -0.5, 2  # start and end of an epoch in sec.\n",
    "# Set up indices of channels to include in analysis\n",
    "picks = mne.pick_types(raw.info, meg=False, eeg=True, stim=True, eog=False,misc=True)\n",
    "epochs_params = dict(events=events, picks=picks,event_id=event_id, tmin=tmin, tmax=tmax,reject=reject,preload=True)\n",
    "epochs = mne.Epochs(raw, **epochs_params)\n",
    "print(epochs)"
   ]
  },
  {
   "cell_type": "code",
   "execution_count": null,
   "metadata": {},
   "outputs": [],
   "source": [
    "# and order with spectral reordering\n",
    "# If you don't have scikit-learn installed set order_func to None\n",
    "from sklearn.cluster.spectral import spectral_embedding  # noqa\n",
    "from sklearn.metrics.pairwise import rbf_kernel   # noqa\n",
    "import matplotlib.pyplot as plt\n",
    "\n",
    "\n",
    "def order_func(times, data):\n",
    "    this_data = data[:, (times > 0.0) & (times < 0.350)]\n",
    "    this_data /= np.sqrt(np.sum(this_data ** 2, axis=1))[:, np.newaxis]\n",
    "    return np.argsort(spectral_embedding(rbf_kernel(this_data, gamma=1.),\n",
    "                      n_components=1, random_state=0).ravel())\n",
    "\n",
    "good_pick = 10  # channel with a clear evoked response\n",
    "bad_pick = 12  # channel with no evoked response\n",
    "\n",
    "# We'll also plot a sample time onset for each trial\n",
    "plt_times = np.linspace(0, .2, len(epochs))\n",
    "\n",
    "plt.close('all')\n",
    "a=mne.viz.plot_epochs_image(epochs, [good_pick, bad_pick], sigma=.5,order=order_func, vmin=-40, vmax=40,\n",
    "                          overlay_times=plt_times, show=True)"
   ]
  }
 ],
 "metadata": {
  "kernelspec": {
   "display_name": "Python 3",
   "language": "python",
   "name": "python3"
  },
  "language_info": {
   "codemirror_mode": {
    "name": "ipython",
    "version": 3
   },
   "file_extension": ".py",
   "mimetype": "text/x-python",
   "name": "python",
   "nbconvert_exporter": "python",
   "pygments_lexer": "ipython3",
   "version": "3.6.4"
  },
  "latex_envs": {
   "LaTeX_envs_menu_present": true,
   "autoclose": false,
   "autocomplete": true,
   "bibliofile": "biblio.bib",
   "cite_by": "apalike",
   "current_citInitial": 1,
   "eqLabelWithNumbers": true,
   "eqNumInitial": 1,
   "hotkeys": {
    "equation": "Ctrl-E",
    "itemize": "Ctrl-I"
   },
   "labels_anchors": false,
   "latex_user_defs": false,
   "report_style_numbering": false,
   "user_envs_cfg": false
  }
 },
 "nbformat": 4,
 "nbformat_minor": 2
}
