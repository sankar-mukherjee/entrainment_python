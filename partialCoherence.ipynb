{
 "cells": [
  {
   "cell_type": "code",
   "execution_count": null,
   "metadata": {},
   "outputs": [],
   "source": [
    "import mne\n",
    "import os\n",
    "import scipy.io\n",
    "import listen_italian_functions\n",
    "import numpy as np\n",
    "from matplotlib import pyplot as plt\n",
    "import pandas as pd\n",
    "import pickle\n",
    "import warnings\n",
    "warnings.filterwarnings('ignore')\n",
    "from tqdm import tnrange, tqdm_notebook\n",
    "from itertools import combinations\n",
    "\n",
    "data_path = os.path.dirname(os.path.dirname(os.getcwd()))\n",
    "\n",
    "subject_name = ['Alice','Andrea','Daniel','Elena','Elenora','Elisa','Federica','Francesca','Gianluca1','Giada','Giorgia',\n",
    "                'Jonluca','Laura','Leonardo','Linda','Lucrezia','Manu','Marco','Martina','Pagani','Pasquale','Sara',\n",
    "                'Silvia','Silvia2','Tommaso']\n",
    "\n",
    "remove_first = 0.5 #seconds\n"
   ]
  },
  {
   "cell_type": "markdown",
   "metadata": {},
   "source": [
    "# Read the epoches"
   ]
  },
  {
   "cell_type": "code",
   "execution_count": null,
   "metadata": {},
   "outputs": [],
   "source": [
    "Tmin = 0\n",
    "Tmax = 3.51\n",
    "trial_len = 2\n",
    "\n",
    "GA_epoches = []\n",
    "for s in subject_name:\n",
    "    save_path = data_path + '/python/data/coherence_epochs/'+s+'-coh-epo-'+str(Tmin)+'-' \\\n",
    "    +str(Tmax)+'-trialLen-'+str(trial_len)+'.fif'\n",
    "    epochs = mne.read_epochs(save_path)\n",
    "    GA_epoches.append(epochs)\n",
    "    print('----------------------------------------------------------------------------------------------------------------'+s)\n"
   ]
  },
  {
   "cell_type": "markdown",
   "metadata": {},
   "source": [
    "# bandpass filter epoches and save as fieldtrip format for partial coherence"
   ]
  },
  {
   "cell_type": "code",
   "execution_count": null,
   "metadata": {
    "scrolled": true
   },
   "outputs": [],
   "source": [
    "iter_freqs = [\n",
    "    ('fr', 1, 3),\n",
    "    #('fr', 2, 4),\n",
    "    #('fr', 3, 5),\n",
    "    ('fr', 4, 6)\n",
    "    #('fr', 5, 7),\n",
    "    #('fr', 6, 8),\n",
    "    #('fr', 7, 9),\n",
    "    #('fr', 8, 10),\n",
    "    #('fr', 9, 11),\n",
    "    #('fr', 10, 12)\n",
    "]\n",
    "\n",
    "save_path = data_path +'/python/data/partialCoh/partialCoh-trailLen-' +str(trial_len)+'-removedFirst-'+ str(remove_first)\n",
    "\n",
    "features = ['envelop','jawaopening','lipaparature','lipProtrusion','TTCD','TMCD','TBCD']\n",
    "condition = ['Hyper','Normal','Hypo','All']\n",
    "delay = np.arange(0,1.1,0.1)\n",
    "\n",
    "\n",
    "extra_channels = ['envelop','jawaopening','lipaparature','lipProtrusion','TTCD','TMCD','TBCD']\n",
    "eeg_channles = np.setdiff1d(GA_epoches[0].ch_names, extra_channels)\n",
    "event_id = {'Hyper': 1,'Normal': 2,'Hypo': 3}\n",
    "ch_types = np.repeat('eeg', len(features)+59)\n",
    "ch_names = np.hstack((eeg_channles,features))        \n",
    "info = mne.create_info(ch_names = ch_names.tolist(),ch_types = ch_types,sfreq = GA_epoches[0].info['sfreq'])\n",
    "ch_names = np.setdiff1d(extra_channels,features)\n",
    "        \n",
    "for s in range(0,len(subject_name)):\n",
    "    for d in delay:   \n",
    "        for c in condition:\n",
    "            for fr in range(0,len(iter_freqs)):\n",
    "                b = str(iter_freqs[fr][0])+ '-'+str(iter_freqs[fr][1])+'-'+str(iter_freqs[fr][2])+'Hz'\n",
    "\n",
    "                fmin = iter_freqs[fr][1]\n",
    "                fmax = iter_freqs[fr][2]\n",
    "                a = listen_italian_functions.partialCoherence_preprocess_delay(GA_epoches[s],remove_first,d,\n",
    "                                                                               trial_len,extra_channels,eeg_channles,\n",
    "                                                                               info,ch_names,event_id,fmin,fmax,c)   \n",
    "    \n",
    "                d = d.round(decimals=1)\n",
    "                scipy.io.savemat(save_path+'s-'+'condition-'+c+'-delay-'+str(d)+'-'+b+'-' +subject_name[s],a)\n",
    "        \n",
    "        "
   ]
  },
  {
   "cell_type": "markdown",
   "metadata": {},
   "source": [
    "# remove contribution of lipaperature from the envelop delayed version (partial coherence implemented here) "
   ]
  },
  {
   "cell_type": "markdown",
   "metadata": {},
   "source": [
    "coherence\n",
    "<img src=\"http://nipy.org/nitime/_images/math/8b2ad8f5230194bf1f946cdde75e57e513e8fb18.png\">\n",
    "\n",
    "partial coherence\n",
    "<img src=\"http://nipy.org/nitime/_images/math/6f19a896ad7872e2077078e1d5dc1bac04b2049c.png\">"
   ]
  },
  {
   "cell_type": "code",
   "execution_count": null,
   "metadata": {},
   "outputs": [],
   "source": []
  },
  {
   "cell_type": "code",
   "execution_count": null,
   "metadata": {},
   "outputs": [],
   "source": []
  },
  {
   "cell_type": "code",
   "execution_count": null,
   "metadata": {
    "code_folding": [
     0,
     8
    ]
   },
   "outputs": [],
   "source": [
    "def get_coherence(epochs,sfreq,fmin,fmax,indices):\n",
    "    con, freqs, times, n_epochs, n_tapers = mne.connectivity.spectral_connectivity(epochs, method='coh',mode='multitaper', \n",
    "                                                                                   sfreq=sfreq, \n",
    "                                                              fmin=fmin, fmax=fmax,indices=indices,faverage=True, \n",
    "                                                              tmin=0, mt_adaptive=False, block_size=1000,verbose='ERROR')\n",
    "\n",
    "    return con\n",
    "\n",
    "def partialCoherence_preprocess_delay(epochs,remove_first,d,trial_len,feat,eeg_channles,keep_feat,condition):\t\n",
    "\n",
    "    if condition != 'All':\n",
    "        E = epochs[condition].copy()\n",
    "    else:\n",
    "        E = epochs.copy()\n",
    "    \n",
    "    eeg = E.copy().drop_channels(feat)\n",
    "    speech = E.copy().drop_channels(eeg_channles)\n",
    "    \n",
    "    a = np.setdiff1d(feat, keep_feat)\n",
    "    speech.drop_channels(a)\n",
    "\n",
    "    E = eeg.copy().crop(d+remove_first,d+remove_first+trial_len)\n",
    "    S = speech.copy().crop(0.5+remove_first,0.5+remove_first+trial_len)\n",
    "\n",
    "    c = np.concatenate((E.get_data(),S.get_data()),axis=1)   \n",
    "        \n",
    "    return c\n"
   ]
  },
  {
   "cell_type": "code",
   "execution_count": null,
   "metadata": {},
   "outputs": [],
   "source": [
    "features = ['envelop','jawaopening','lipaparature','lipProtrusion','TTCD','TMCD','TBCD']\n",
    "remove_first = 0.5 #seconds\n",
    "channel_names = GA_epoches[0].ch_names\n",
    "eeg_chan = np.setdiff1d(channel_names, features)\n",
    "condition = 'All'\n",
    "\n",
    "iter_freqs = [\n",
    "    ('fr', 1, 3),\n",
    "    ('fr', 4, 6)\n",
    "]\n",
    "\n",
    "keep_feat = ['envelop']\n",
    "FD = np.arange(-5,6) / 10\n",
    "\n",
    "remove_feat = ['lipaparature']\n",
    "RD = np.arange(-5,6) / 10"
   ]
  },
  {
   "cell_type": "code",
   "execution_count": null,
   "metadata": {
    "code_folding": []
   },
   "outputs": [],
   "source": [
    "frame = []\n",
    "for fd in FD:\n",
    "    for rd in RD:\n",
    "        for s in range(0,len(subject_name)):\n",
    "            envelop = partialCoherence_preprocess_delay(GA_epoches[s],remove_first,fd + 0.5,trial_len,features,\n",
    "                                                        eeg_chan,keep_feat,condition)\n",
    "            lipaparature = partialCoherence_preprocess_delay(GA_epoches[s],remove_first,rd + 0.5,trial_len,features,\n",
    "                                                             eeg_chan,remove_feat,condition)\n",
    "\n",
    "            a=np.where(np.array(channel_names)==keep_feat)[0][0]\n",
    "            indicesXY = (np.repeat(a,59),np.arange(0,59))\n",
    "            b=np.where(np.array(channel_names)==remove_feat)[0][0]\n",
    "            indicesXR = (np.repeat(b,59),np.arange(0,59))\n",
    "            indicesRY = (np.repeat(a,1),np.repeat(b,1))\n",
    "\n",
    "            for fr in range(0,len(iter_freqs)):\n",
    "                fmin=iter_freqs[fr][1]\n",
    "                fmax=iter_freqs[fr][2]\n",
    "                b = str(iter_freqs[fr][0])+ ' '+str(iter_freqs[fr][1])+' - '+str(iter_freqs[fr][2])+'Hz'\n",
    "\n",
    "                conXY = get_coherence(envelop,400,fmin,fmax,indicesXY)\n",
    "                conXR = get_coherence(lipaparature,400,fmin,fmax,indicesXR)\n",
    "\n",
    "                c = np.dstack((envelop[:,59,:],lipaparature[:,59,:]))\n",
    "                c = np.swapaxes(c,1,2)\n",
    "                conRY = get_coherence(c,400,fmin,fmax,indicesRY)\n",
    "\n",
    "                partial_coh_XY_R=[]\n",
    "                for i in range(59):\n",
    "                    a = (abs(conXY[i] - conXR[i] * conRY) **2) / ((1 - abs(conXR[i])**2) * (1 - abs(conRY)**2))\n",
    "                    partial_coh_XY_R.append(a[0][0])\n",
    "\n",
    "                partial_coh_XY_R = np.asarray(partial_coh_XY_R)\n",
    "                df = pd.DataFrame({'Feature':keep_feat,'FeatureDelay':fd,'RemoveFeature':remove_feat,\n",
    "                                   'RemoveFeatureDelay':rd,'Freq':b,'Condition':condition,\n",
    "                                   'Subject': subject_name[s], 'Data':[partial_coh_XY_R]})\n",
    "\n",
    "                frame.append(df)\n",
    "            print(str(fd)+'-'+str(rd)+'-'+subject_name[s])\n",
    "        \n",
    "data=pd.concat((frame),axis=0)\n",
    "save_path = data_path + '/python/data/partialCoh/Delayed_partialCoh-removedFirst-'+str(remove_first)+'.pkl'\n",
    "data.to_pickle(save_path)"
   ]
  },
  {
   "cell_type": "code",
   "execution_count": null,
   "metadata": {},
   "outputs": [],
   "source": []
  },
  {
   "cell_type": "code",
   "execution_count": null,
   "metadata": {},
   "outputs": [],
   "source": []
  }
 ],
 "metadata": {
  "kernelspec": {
   "display_name": "Python 3",
   "language": "python",
   "name": "python3"
  },
  "language_info": {
   "codemirror_mode": {
    "name": "ipython",
    "version": 3
   },
   "file_extension": ".py",
   "mimetype": "text/x-python",
   "name": "python",
   "nbconvert_exporter": "python",
   "pygments_lexer": "ipython3",
   "version": "3.6.4"
  },
  "latex_envs": {
   "LaTeX_envs_menu_present": true,
   "autoclose": false,
   "autocomplete": true,
   "bibliofile": "biblio.bib",
   "cite_by": "apalike",
   "current_citInitial": 1,
   "eqLabelWithNumbers": true,
   "eqNumInitial": 1,
   "hotkeys": {
    "equation": "Ctrl-E",
    "itemize": "Ctrl-I"
   },
   "labels_anchors": false,
   "latex_user_defs": false,
   "report_style_numbering": false,
   "user_envs_cfg": false
  }
 },
 "nbformat": 4,
 "nbformat_minor": 2
}
