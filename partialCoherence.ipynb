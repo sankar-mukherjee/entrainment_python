{
 "cells": [
  {
   "cell_type": "code",
   "execution_count": null,
   "metadata": {},
   "outputs": [],
   "source": [
    "import mne\n",
    "import os\n",
    "import scipy.io\n",
    "import listen_italian_functions\n",
    "import numpy as np\n",
    "from matplotlib import pyplot as plt\n",
    "import pandas as pd\n",
    "import pickle\n",
    "import warnings\n",
    "warnings.filterwarnings('ignore')\n",
    "from tqdm import tnrange, tqdm_notebook\n",
    "from itertools import combinations,permutations\n",
    "\n",
    "data_path = os.path.dirname(os.path.dirname(os.getcwd()))\n",
    "\n",
    "subject_name = ['Alice','Andrea','Daniel','Elena','Elenora','Elisa','Federica','Francesca','Gianluca1','Giada','Giorgia',\n",
    "                'Jonluca','Laura','Leonardo','Linda','Lucrezia','Manu','Marco','Martina','Pagani','Pasquale','Sara',\n",
    "                'Silvia','Silvia2','Tommaso']\n",
    "\n",
    "remove_first = 0.5 #seconds\n"
   ]
  },
  {
   "cell_type": "markdown",
   "metadata": {},
   "source": [
    "# Read the epoches"
   ]
  },
  {
   "cell_type": "code",
   "execution_count": 2,
   "metadata": {},
   "outputs": [],
   "source": [
    "Tmin = 0\n",
    "Tmax = 3.51\n",
    "trial_len = 2\n",
    "\n",
    "GA_epoches = []\n",
    "for s in subject_name:\n",
    "    save_path = data_path + '/python/data/coherence_epochs/'+s+'-coh-epo-'+str(Tmin)+'-' \\\n",
    "    +str(Tmax)+'-trialLen-'+str(trial_len)+'.fif'\n",
    "    epochs = mne.read_epochs(save_path)\n",
    "    GA_epoches.append(epochs)\n",
    "    print('----------------------------------------------------------------------------------------------------------------'+s)\n"
   ]
  },
  {
   "cell_type": "markdown",
   "metadata": {},
   "source": [
    "# partial coherence"
   ]
  },
  {
   "cell_type": "markdown",
   "metadata": {},
   "source": [
    "coherence\n",
    "<img src=\"http://nipy.org/nitime/_images/math/8b2ad8f5230194bf1f946cdde75e57e513e8fb18.png\">\n",
    "\n",
    "partial coherence\n",
    "<img src=\"http://nipy.org/nitime/_images/math/6f19a896ad7872e2077078e1d5dc1bac04b2049c.png\">"
   ]
  },
  {
   "cell_type": "code",
   "execution_count": null,
   "metadata": {
    "code_folding": [
     8
    ]
   },
   "outputs": [],
   "source": [
    "def get_coherence(epochs,sfreq,fmin,fmax,indices):\n",
    "    con, freqs, times, n_epochs, n_tapers = mne.connectivity.spectral_connectivity(epochs, method='coh',mode='multitaper', \n",
    "                                                                                   sfreq=sfreq, \n",
    "                                                              fmin=fmin, fmax=fmax,indices=indices,faverage=True, \n",
    "                                                              tmin=0, mt_adaptive=False, block_size=1000,verbose='ERROR')\n",
    "\n",
    "    return con\n",
    "\n",
    "def partialCoherence_preprocess_delay(epochs,remove_first,d,trial_len,feat,eeg_channles,keep_feat,condition):\t\n",
    "\n",
    "    if condition != 'All':\n",
    "        E = epochs[condition].copy()\n",
    "    else:\n",
    "        E = epochs.copy()\n",
    "    \n",
    "    eeg = E.copy().drop_channels(feat)\n",
    "    speech = E.copy().drop_channels(eeg_channles)\n",
    "    \n",
    "    a = np.setdiff1d(feat, keep_feat)\n",
    "    speech.drop_channels(a)\n",
    "\n",
    "    E = eeg.copy().crop(d+remove_first,d+remove_first+trial_len)\n",
    "    S = speech.copy().crop(0.5+remove_first,0.5+remove_first+trial_len)\n",
    "\n",
    "    c = np.concatenate((E.get_data(),S.get_data()),axis=1)   \n",
    "    \n",
    "    \n",
    "    return c\n"
   ]
  },
  {
   "cell_type": "code",
   "execution_count": null,
   "metadata": {
    "code_folding": [
     25
    ]
   },
   "outputs": [],
   "source": [
    "features = ['envelop','jawaopening','lipaparature','lipProtrusion','TTCD','TMCD','TBCD']\n",
    "remove_first = 0.5 #seconds\n",
    "channel_names = GA_epoches[0].ch_names\n",
    "eeg_chan = np.setdiff1d(channel_names, features)\n",
    "condition = 'All'\n",
    "\n",
    "iter_freqs = [\n",
    "    ('fr', 1, 3),\n",
    "    ('fr', 4, 6)\n",
    "]\n",
    "\n",
    "keep_feat = ['envelop']\n",
    "FD = np.arange(-5,6) / 10\n",
    "\n",
    "remove_feat = ['lipaparature']\n",
    "\n",
    "feat_comb = (['envelop','lipaparature'],['lipaparature','envelop'])\n",
    "fmin = []\n",
    "fmax = []\n",
    "for fr in range(0,len(iter_freqs)):\n",
    "    fmin.append(iter_freqs[fr][1])\n",
    "    fmax.append(iter_freqs[fr][2])\n",
    "    \n",
    "    \n",
    "frame = [] \n",
    "for s in range(0,len(subject_name)):\n",
    "    for f in range(0,len(feat_comb)):\n",
    "        keep_feat = feat_comb[f][0]\n",
    "        remove_feat = feat_comb[f][1]\n",
    "        indicesXY = (np.repeat(59,59),np.arange(0,59))\n",
    "        indicesXR = indicesXY\n",
    "        indicesRY = (np.repeat(1,1),np.repeat(2,1))\n",
    "\n",
    "        for fd in FD:\n",
    "            envelop = partialCoherence_preprocess_delay(GA_epoches[s],remove_first,fd + 0.5,trial_len,features,\n",
    "                                                        eeg_chan,keep_feat,condition)\n",
    "            lipaparature = partialCoherence_preprocess_delay(GA_epoches[s],remove_first,fd + 0.5,trial_len,features,\n",
    "                                                             eeg_chan,remove_feat,condition)                \n",
    "\n",
    "            conXY = get_coherence(envelop,400,fmin,fmax,indicesXY)\n",
    "            conXR = get_coherence(lipaparature,400,fmin,fmax,indicesXR)\n",
    "\n",
    "            c = np.dstack((envelop[:,59,:],lipaparature[:,59,:]))\n",
    "            c = np.swapaxes(c,1,2)\n",
    "            conRY = get_coherence(c,400,fmin,fmax,indicesRY)[0]\n",
    "\n",
    "            for fr in range(0,len(iter_freqs)):\n",
    "                b = str(iter_freqs[fr][0])+ ' '+str(iter_freqs[fr][1])+' - '+str(iter_freqs[fr][2])+'Hz'\n",
    "                partial_coh_XY_R=[]\n",
    "                for i in range(59):\n",
    "                    a = (abs(conXY[i,fr]-conXR[i,fr]*conRY[fr])**2) / ((1-abs(conXR[i,fr])**2)*(1-abs(conRY[fr])**2))\n",
    "                    partial_coh_XY_R.append(a)\n",
    "\n",
    "                partial_coh_XY_R = np.asarray(partial_coh_XY_R)                        \n",
    "                df = pd.DataFrame({'Feature':keep_feat,'FeatureDelay':fd,'RemoveFeature':remove_feat,\n",
    "                                   'RemoveFeatureDelay':fd,'Freq':b,'Condition':condition,\n",
    "                                   'Subject': subject_name[s], 'Data':[partial_coh_XY_R]})\n",
    "\n",
    "                frame.append(df)\n",
    "            print(str(fd)+'-'+str(fd)+'-'+subject_name[s])\n",
    "\n",
    "data=pd.concat((frame),axis=0)\n",
    "save_path = data_path + '/python/data/partialCoh/PartialCoh-removedFirst-'+str(remove_first)+'.pkl'\n",
    "data.to_pickle(save_path)    "
   ]
  },
  {
   "cell_type": "markdown",
   "metadata": {},
   "source": [
    "# surrogate distribution partial coherence"
   ]
  },
  {
   "cell_type": "code",
   "execution_count": 3,
   "metadata": {
    "collapsed": true
   },
   "outputs": [
    {
     "name": "stdout",
     "output_type": "stream",
     "text": [
      "--------------------0\n"
     ]
    },
    {
     "ename": "KeyboardInterrupt",
     "evalue": "",
     "output_type": "error",
     "traceback": [
      "\u001b[1;31m---------------------------------------------------------------------------\u001b[0m",
      "\u001b[1;31mKeyboardInterrupt\u001b[0m                         Traceback (most recent call last)",
      "\u001b[1;32m<ipython-input-3-961226bf4df6>\u001b[0m in \u001b[0;36m<module>\u001b[1;34m()\u001b[0m\n\u001b[0;32m     23\u001b[0m                                                                                           \u001b[0md\u001b[0m \u001b[1;33m+\u001b[0m \u001b[1;36m0.5\u001b[0m\u001b[1;33m,\u001b[0m\u001b[0mtrial_len\u001b[0m\u001b[1;33m,\u001b[0m\u001b[0mfeatures\u001b[0m\u001b[1;33m,\u001b[0m\u001b[1;33m\u001b[0m\u001b[0m\n\u001b[0;32m     24\u001b[0m                                                                                                  \u001b[0meeg_chan\u001b[0m\u001b[1;33m,\u001b[0m\u001b[0mfeat_comb\u001b[0m\u001b[1;33m,\u001b[0m\u001b[1;33m\u001b[0m\u001b[0m\n\u001b[1;32m---> 25\u001b[1;33m                                                                                                  condition,iter_freqs)\n\u001b[0m\u001b[0;32m     26\u001b[0m \u001b[1;33m\u001b[0m\u001b[0m\n\u001b[0;32m     27\u001b[0m             \u001b[1;31m# mean or median of the surrogate distribution\u001b[0m\u001b[1;33m\u001b[0m\u001b[1;33m\u001b[0m\u001b[0m\n",
      "\u001b[1;32m~\\Desktop\\projects\\listen_italian_motor_entrainment\\analysis\\python\\entrainment_python\\listen_italian_functions.py\u001b[0m in \u001b[0;36mPartialCoherence_preprocess_delay_surrogate\u001b[1;34m(epochs, remove_first, d, trial_len, feat, eeg_channles, keep_feat, condition, iter_freqs)\u001b[0m\n\u001b[0;32m    376\u001b[0m         \u001b[0mc\u001b[0m \u001b[1;33m=\u001b[0m \u001b[0mnp\u001b[0m\u001b[1;33m.\u001b[0m\u001b[0mconcatenate\u001b[0m\u001b[1;33m(\u001b[0m\u001b[1;33m(\u001b[0m\u001b[0mEE\u001b[0m\u001b[1;33m[\u001b[0m\u001b[0mB\u001b[0m\u001b[1;33m[\u001b[0m\u001b[0mi\u001b[0m\u001b[1;33m]\u001b[0m\u001b[1;33m[\u001b[0m\u001b[1;33m:\u001b[0m\u001b[1;33m,\u001b[0m\u001b[1;36m0\u001b[0m\u001b[1;33m]\u001b[0m\u001b[1;33m]\u001b[0m\u001b[1;33m,\u001b[0m\u001b[0mSS\u001b[0m\u001b[1;33m[\u001b[0m\u001b[0mB\u001b[0m\u001b[1;33m[\u001b[0m\u001b[0mi\u001b[0m\u001b[1;33m]\u001b[0m\u001b[1;33m[\u001b[0m\u001b[1;33m:\u001b[0m\u001b[1;33m,\u001b[0m\u001b[1;36m1\u001b[0m\u001b[1;33m]\u001b[0m\u001b[1;33m]\u001b[0m\u001b[1;33m)\u001b[0m\u001b[1;33m,\u001b[0m\u001b[0maxis\u001b[0m\u001b[1;33m=\u001b[0m\u001b[1;36m1\u001b[0m\u001b[1;33m)\u001b[0m\u001b[1;33m\u001b[0m\u001b[0m\n\u001b[0;32m    377\u001b[0m \u001b[1;33m\u001b[0m\u001b[0m\n\u001b[1;32m--> 378\u001b[1;33m         \u001b[0mcoh\u001b[0m \u001b[1;33m=\u001b[0m \u001b[0mget_coherence\u001b[0m\u001b[1;33m(\u001b[0m\u001b[0mc\u001b[0m\u001b[1;33m,\u001b[0m\u001b[0msfreq\u001b[0m\u001b[1;33m,\u001b[0m\u001b[0mfmin\u001b[0m\u001b[1;33m,\u001b[0m\u001b[0mfmax\u001b[0m\u001b[1;33m,\u001b[0m\u001b[0mindices\u001b[0m\u001b[1;33m)\u001b[0m\u001b[1;33m\u001b[0m\u001b[0m\n\u001b[0m\u001b[0;32m    379\u001b[0m         \u001b[1;32mfor\u001b[0m \u001b[0miii\u001b[0m \u001b[1;32min\u001b[0m \u001b[0mrange\u001b[0m\u001b[1;33m(\u001b[0m\u001b[1;36m0\u001b[0m\u001b[1;33m,\u001b[0m\u001b[1;36m1\u001b[0m\u001b[1;33m)\u001b[0m\u001b[1;33m:\u001b[0m\u001b[1;33m\u001b[0m\u001b[0m\n\u001b[0;32m    380\u001b[0m             \u001b[1;32mif\u001b[0m \u001b[0miii\u001b[0m \u001b[1;33m==\u001b[0m\u001b[1;36m0\u001b[0m\u001b[1;33m:\u001b[0m\u001b[1;33m\u001b[0m\u001b[0m\n",
      "\u001b[1;32m~\\Desktop\\projects\\listen_italian_motor_entrainment\\analysis\\python\\entrainment_python\\listen_italian_functions.py\u001b[0m in \u001b[0;36mget_coherence\u001b[1;34m(epochs, sfreq, fmin, fmax, indices)\u001b[0m\n\u001b[0;32m    399\u001b[0m                                                                                    \u001b[0msfreq\u001b[0m\u001b[1;33m=\u001b[0m\u001b[0msfreq\u001b[0m\u001b[1;33m,\u001b[0m\u001b[1;33m\u001b[0m\u001b[0m\n\u001b[0;32m    400\u001b[0m                                                               \u001b[0mfmin\u001b[0m\u001b[1;33m=\u001b[0m\u001b[0mfmin\u001b[0m\u001b[1;33m,\u001b[0m \u001b[0mfmax\u001b[0m\u001b[1;33m=\u001b[0m\u001b[0mfmax\u001b[0m\u001b[1;33m,\u001b[0m\u001b[0mindices\u001b[0m\u001b[1;33m=\u001b[0m\u001b[0mindices\u001b[0m\u001b[1;33m,\u001b[0m\u001b[0mfaverage\u001b[0m\u001b[1;33m=\u001b[0m\u001b[1;32mTrue\u001b[0m\u001b[1;33m,\u001b[0m\u001b[1;33m\u001b[0m\u001b[0m\n\u001b[1;32m--> 401\u001b[1;33m                                                               tmin=0, mt_adaptive=False, block_size=1000,verbose='ERROR')\n\u001b[0m\u001b[0;32m    402\u001b[0m \u001b[1;33m\u001b[0m\u001b[0m\n\u001b[0;32m    403\u001b[0m     \u001b[1;32mreturn\u001b[0m \u001b[0mcon\u001b[0m\u001b[1;33m\u001b[0m\u001b[0m\n",
      "\u001b[1;32mC:\\ProgramData\\Anaconda3\\lib\\site-packages\\mne\\connectivity\\spectral.py\u001b[0m in \u001b[0;36mspectral_connectivity\u001b[1;34m(data, method, indices, sfreq, mode, fmin, fmax, fskip, faverage, tmin, tmax, mt_bandwidth, mt_adaptive, mt_low_bias, cwt_freqs, cwt_n_cycles, block_size, n_jobs, verbose)\u001b[0m\n",
      "\u001b[1;32mC:\\ProgramData\\Anaconda3\\lib\\site-packages\\mne\\utils.py\u001b[0m in \u001b[0;36mverbose\u001b[1;34m(function, *args, **kwargs)\u001b[0m\n\u001b[0;32m    726\u001b[0m         \u001b[1;31m# set it back if we get an exception\u001b[0m\u001b[1;33m\u001b[0m\u001b[1;33m\u001b[0m\u001b[0m\n\u001b[0;32m    727\u001b[0m         \u001b[1;32mwith\u001b[0m \u001b[0muse_log_level\u001b[0m\u001b[1;33m(\u001b[0m\u001b[0mverbose_level\u001b[0m\u001b[1;33m)\u001b[0m\u001b[1;33m:\u001b[0m\u001b[1;33m\u001b[0m\u001b[0m\n\u001b[1;32m--> 728\u001b[1;33m             \u001b[1;32mreturn\u001b[0m \u001b[0mfunction\u001b[0m\u001b[1;33m(\u001b[0m\u001b[1;33m*\u001b[0m\u001b[0margs\u001b[0m\u001b[1;33m,\u001b[0m \u001b[1;33m**\u001b[0m\u001b[0mkwargs\u001b[0m\u001b[1;33m)\u001b[0m\u001b[1;33m\u001b[0m\u001b[0m\n\u001b[0m\u001b[0;32m    729\u001b[0m     \u001b[1;32mreturn\u001b[0m \u001b[0mfunction\u001b[0m\u001b[1;33m(\u001b[0m\u001b[1;33m*\u001b[0m\u001b[0margs\u001b[0m\u001b[1;33m,\u001b[0m \u001b[1;33m**\u001b[0m\u001b[0mkwargs\u001b[0m\u001b[1;33m)\u001b[0m\u001b[1;33m\u001b[0m\u001b[0m\n\u001b[0;32m    730\u001b[0m \u001b[1;33m\u001b[0m\u001b[0m\n",
      "\u001b[1;32mC:\\ProgramData\\Anaconda3\\lib\\site-packages\\mne\\connectivity\\spectral.py\u001b[0m in \u001b[0;36mspectral_connectivity\u001b[1;34m(data, method, indices, sfreq, mode, fmin, fmax, fskip, faverage, tmin, tmax, mt_bandwidth, mt_adaptive, mt_low_bias, cwt_freqs, cwt_n_cycles, block_size, n_jobs, verbose)\u001b[0m\n\u001b[0;32m    847\u001b[0m                             % (epoch_idx + 1))\n\u001b[0;32m    848\u001b[0m                 \u001b[1;31m# con methods and psd are updated inplace\u001b[0m\u001b[1;33m\u001b[0m\u001b[1;33m\u001b[0m\u001b[0m\n\u001b[1;32m--> 849\u001b[1;33m                 \u001b[0m_epoch_spectral_connectivity\u001b[0m\u001b[1;33m(\u001b[0m\u001b[0mdata\u001b[0m\u001b[1;33m=\u001b[0m\u001b[0mthis_epoch\u001b[0m\u001b[1;33m,\u001b[0m \u001b[1;33m**\u001b[0m\u001b[0mcall_params\u001b[0m\u001b[1;33m)\u001b[0m\u001b[1;33m\u001b[0m\u001b[0m\n\u001b[0m\u001b[0;32m    850\u001b[0m                 \u001b[0mepoch_idx\u001b[0m \u001b[1;33m+=\u001b[0m \u001b[1;36m1\u001b[0m\u001b[1;33m\u001b[0m\u001b[0m\n\u001b[0;32m    851\u001b[0m         \u001b[1;32melse\u001b[0m\u001b[1;33m:\u001b[0m\u001b[1;33m\u001b[0m\u001b[0m\n",
      "\u001b[1;32mC:\\ProgramData\\Anaconda3\\lib\\site-packages\\mne\\connectivity\\spectral.py\u001b[0m in \u001b[0;36m_epoch_spectral_connectivity\u001b[1;34m(data, sig_idx, tmin_idx, tmax_idx, sfreq, mode, window_fun, eigvals, wavelets, freq_mask, mt_adaptive, idx_map, block_size, psd, accumulate_psd, con_method_types, con_methods, n_signals, n_times, accumulate_inplace)\u001b[0m\n\u001b[0;32m    356\u001b[0m             \u001b[1;32melse\u001b[0m\u001b[1;33m:\u001b[0m\u001b[1;33m\u001b[0m\u001b[0m\n\u001b[0;32m    357\u001b[0m                 \u001b[1;31m# do not use adaptive weights\u001b[0m\u001b[1;33m\u001b[0m\u001b[1;33m\u001b[0m\u001b[0m\n\u001b[1;32m--> 358\u001b[1;33m                 \u001b[0mthis_x_mt\u001b[0m \u001b[1;33m=\u001b[0m \u001b[0mthis_x_mt\u001b[0m\u001b[1;33m[\u001b[0m\u001b[1;33m:\u001b[0m\u001b[1;33m,\u001b[0m \u001b[1;33m:\u001b[0m\u001b[1;33m,\u001b[0m \u001b[0mfreq_mask\u001b[0m\u001b[1;33m]\u001b[0m\u001b[1;33m\u001b[0m\u001b[0m\n\u001b[0m\u001b[0;32m    359\u001b[0m                 \u001b[1;32mif\u001b[0m \u001b[0mmode\u001b[0m \u001b[1;33m==\u001b[0m \u001b[1;34m'multitaper'\u001b[0m\u001b[1;33m:\u001b[0m\u001b[1;33m\u001b[0m\u001b[0m\n\u001b[0;32m    360\u001b[0m                     \u001b[0mweights\u001b[0m \u001b[1;33m=\u001b[0m \u001b[0mnp\u001b[0m\u001b[1;33m.\u001b[0m\u001b[0msqrt\u001b[0m\u001b[1;33m(\u001b[0m\u001b[0meigvals\u001b[0m\u001b[1;33m)\u001b[0m\u001b[1;33m[\u001b[0m\u001b[0mnp\u001b[0m\u001b[1;33m.\u001b[0m\u001b[0mnewaxis\u001b[0m\u001b[1;33m,\u001b[0m \u001b[1;33m:\u001b[0m\u001b[1;33m,\u001b[0m \u001b[0mnp\u001b[0m\u001b[1;33m.\u001b[0m\u001b[0mnewaxis\u001b[0m\u001b[1;33m]\u001b[0m\u001b[1;33m\u001b[0m\u001b[0m\n",
      "\u001b[1;31mKeyboardInterrupt\u001b[0m: "
     ]
    }
   ],
   "source": [
    "features = ['envelop','jawaopening','lipaparature','lipProtrusion','TTCD','TMCD','TBCD']\n",
    "remove_first = 0.5 #seconds\n",
    "channel_names = GA_epoches[0].ch_names\n",
    "eeg_chan = np.setdiff1d(channel_names, features)\n",
    "condition = 'All'\n",
    "\n",
    "iter_freqs = [\n",
    "    ('fr', 1, 3),\n",
    "    ('fr', 4, 6)\n",
    "]\n",
    "\n",
    "Delay = np.arange(-5,6) / 10\n",
    "\n",
    "remove_feat = ['lipaparature']\n",
    "\n",
    "feat_comb = (['envelop','lipaparature'])\n",
    "    \n",
    "    \n",
    "frame = [] \n",
    "for s in range(0,len(subject_name)):\n",
    "    for d in Delay:       \n",
    "        surrogate_coh = listen_italian_functions.PartialCoherence_preprocess_delay_surrogate(GA_epoches[s],remove_first,\n",
    "                                                                                      d + 0.5,trial_len,features,\n",
    "                                                                                             eeg_chan,feat_comb,\n",
    "                                                                                             condition,iter_freqs)\n",
    "\n",
    "        # mean or median of the surrogate distribution\n",
    "        coh=surrogate_coh.mean(axis=3)\n",
    "\n",
    "        for fr in range(0,len(iter_freqs)):\n",
    "            a = str(iter_freqs[fr][0])+ ' '+str(iter_freqs[fr][1])+' - '+str(iter_freqs[fr][2])+'Hz'\n",
    "            \n",
    "            cc = coh[0,:,fr]            \n",
    "            df = pd.DataFrame({'Feature':feat_comb[0],'FeatureDelay':d,'RemoveFeature':feat_comb[1],\n",
    "                           'RemoveFeatureDelay':d,'Freq':a,'Condition':condition,\n",
    "                           'Subject': subject_name[s], 'Data':[cc.flatten()]})\n",
    "            frames.append(df)\n",
    "            cc = coh[1,:,fr]            \n",
    "            df = pd.DataFrame({'Feature':feat_comb[1],'FeatureDelay':d,'RemoveFeature':feat_comb[0],\n",
    "                           'RemoveFeatureDelay':d,'Freq':a,'Condition':condition,\n",
    "                           'Subject': subject_name[s], 'Data':[cc.flatten()]})\n",
    "            frames.append(df)    \n",
    "        \n",
    "        \n",
    "            \n",
    "data=pd.concat((frame),axis=0)\n",
    "a = ('-').join(feat_comb)\n",
    "save_path = data_path + '/python/data/partialCoh/Surrogate_PartialCoh-removedFirst-'+str(remove_first)+'-'+a+'.pkl'\n",
    "data.to_pickle(save_path)    "
   ]
  },
  {
   "cell_type": "code",
   "execution_count": null,
   "metadata": {},
   "outputs": [],
   "source": []
  },
  {
   "cell_type": "code",
   "execution_count": null,
   "metadata": {},
   "outputs": [],
   "source": []
  },
  {
   "cell_type": "markdown",
   "metadata": {},
   "source": [
    "# remove contribution of lipaperature from the envelop delayed version (partial coherence implemented here) "
   ]
  },
  {
   "cell_type": "code",
   "execution_count": null,
   "metadata": {},
   "outputs": [],
   "source": [
    "features = ['envelop','jawaopening','lipaparature','lipProtrusion','TTCD','TMCD','TBCD']\n",
    "remove_first = 0.5 #seconds\n",
    "channel_names = GA_epoches[0].ch_names\n",
    "eeg_chan = np.setdiff1d(channel_names, features)\n",
    "condition = 'All'\n",
    "\n",
    "iter_freqs = [\n",
    "    ('fr', 1, 3),\n",
    "    ('fr', 4, 6)\n",
    "]\n",
    "\n",
    "keep_feat = ['envelop']\n",
    "FD = np.arange(-5,6) / 10\n",
    "\n",
    "remove_feat = ['lipaparature']\n",
    "RD = np.arange(-5,6) / 10\n",
    "\n",
    "feat_comb = (['envelop','lipaparature'])\n",
    "fmin = []\n",
    "fmax = []\n",
    "for fr in range(0,len(iter_freqs)):\n",
    "    fmin.append(iter_freqs[fr][1])\n",
    "    fmax.append(iter_freqs[fr][2])"
   ]
  },
  {
   "cell_type": "code",
   "execution_count": null,
   "metadata": {
    "code_folding": []
   },
   "outputs": [],
   "source": [
    "frame = [] \n",
    "for s in range(0,len(subject_name)):\n",
    "    for f in range(0,len(feat_comb)):\n",
    "        keep_feat = feat_comb[f][0]\n",
    "        remove_feat = feat_comb[f][1]\n",
    "        indicesXY = (np.repeat(59,59),np.arange(0,59))\n",
    "        indicesXR = indicesXY\n",
    "        indicesRY = (np.repeat(1,1),np.repeat(2,1))\n",
    "\n",
    "        for fd in FD:\n",
    "            for rd in RD:\n",
    "                envelop = partialCoherence_preprocess_delay(GA_epoches[s],remove_first,fd + 0.5,trial_len,features,\n",
    "                                                            eeg_chan,keep_feat,condition)\n",
    "                lipaparature = partialCoherence_preprocess_delay(GA_epoches[s],remove_first,rd + 0.5,trial_len,features,\n",
    "                                                                 eeg_chan,remove_feat,condition)                \n",
    "\n",
    "                conXY = get_coherence(envelop,400,fmin,fmax,indicesXY)\n",
    "                conXR = get_coherence(lipaparature,400,fmin,fmax,indicesXR)\n",
    "\n",
    "                c = np.dstack((envelop[:,59,:],lipaparature[:,59,:]))\n",
    "                c = np.swapaxes(c,1,2)\n",
    "                conRY = get_coherence(c,400,fmin,fmax,indicesRY)[0]\n",
    "\n",
    "                for fr in range(0,len(iter_freqs)):\n",
    "                    b = str(iter_freqs[fr][0])+ ' '+str(iter_freqs[fr][1])+' - '+str(iter_freqs[fr][2])+'Hz'\n",
    "                    partial_coh_XY_R=[]\n",
    "                    for i in range(59):\n",
    "                        a = (abs(conXY[i,fr]-conXR[i,fr]*conRY[fr])**2) / ((1-abs(conXR[i,fr])**2)*(1-abs(conRY[fr])**2))\n",
    "                        partial_coh_XY_R.append(a)\n",
    "\n",
    "                    partial_coh_XY_R = np.asarray(partial_coh_XY_R)                        \n",
    "                    df = pd.DataFrame({'Feature':keep_feat,'FeatureDelay':fd,'RemoveFeature':remove_feat,\n",
    "                                       'RemoveFeatureDelay':rd,'Freq':b,'Condition':condition,\n",
    "                                       'Subject': subject_name[s], 'Data':[partial_coh_XY_R]})\n",
    "\n",
    "                    frame.append(df)\n",
    "                print(str(fd)+'-'+str(rd)+'-'+subject_name[s])\n",
    "\n",
    "data=pd.concat((frame),axis=0)\n",
    "save_path = data_path + '/python/data/partialCoh/Delayed_partialCoh-removedFirst-'+str(remove_first)+'.pkl'\n",
    "data.to_pickle(save_path)"
   ]
  },
  {
   "cell_type": "code",
   "execution_count": null,
   "metadata": {},
   "outputs": [],
   "source": []
  },
  {
   "cell_type": "markdown",
   "metadata": {},
   "source": [
    "# bandpass filter epoches and save as fieldtrip format for partial coherence"
   ]
  },
  {
   "cell_type": "code",
   "execution_count": null,
   "metadata": {
    "scrolled": true
   },
   "outputs": [],
   "source": [
    "iter_freqs = [\n",
    "    ('fr', 1, 3),\n",
    "    #('fr', 2, 4),\n",
    "    #('fr', 3, 5),\n",
    "    ('fr', 4, 6)\n",
    "    #('fr', 5, 7),\n",
    "    #('fr', 6, 8),\n",
    "    #('fr', 7, 9),\n",
    "    #('fr', 8, 10),\n",
    "    #('fr', 9, 11),\n",
    "    #('fr', 10, 12)\n",
    "]\n",
    "\n",
    "save_path = data_path +'/python/data/partialCoh/partialCoh-trailLen-' +str(trial_len)+'-removedFirst-'+ str(remove_first)\n",
    "\n",
    "features = ['envelop','jawaopening','lipaparature','lipProtrusion','TTCD','TMCD','TBCD']\n",
    "condition = ['Hyper','Normal','Hypo','All']\n",
    "delay = np.arange(0,1.1,0.1)\n",
    "\n",
    "\n",
    "extra_channels = ['envelop','jawaopening','lipaparature','lipProtrusion','TTCD','TMCD','TBCD']\n",
    "eeg_channles = np.setdiff1d(GA_epoches[0].ch_names, extra_channels)\n",
    "event_id = {'Hyper': 1,'Normal': 2,'Hypo': 3}\n",
    "ch_types = np.repeat('eeg', len(features)+59)\n",
    "ch_names = np.hstack((eeg_channles,features))        \n",
    "info = mne.create_info(ch_names = ch_names.tolist(),ch_types = ch_types,sfreq = GA_epoches[0].info['sfreq'])\n",
    "ch_names = np.setdiff1d(extra_channels,features)\n",
    "        \n",
    "for s in range(0,len(subject_name)):\n",
    "    for d in delay:   \n",
    "        for c in condition:\n",
    "            for fr in range(0,len(iter_freqs)):\n",
    "                b = str(iter_freqs[fr][0])+ '-'+str(iter_freqs[fr][1])+'-'+str(iter_freqs[fr][2])+'Hz'\n",
    "\n",
    "                fmin = iter_freqs[fr][1]\n",
    "                fmax = iter_freqs[fr][2]\n",
    "                a = listen_italian_functions.partialCoherence_preprocess_delay(GA_epoches[s],remove_first,d,\n",
    "                                                                               trial_len,extra_channels,eeg_channles,\n",
    "                                                                               info,ch_names,event_id,fmin,fmax,c)   \n",
    "    \n",
    "                d = d.round(decimals=1)\n",
    "                scipy.io.savemat(save_path+'s-'+'condition-'+c+'-delay-'+str(d)+'-'+b+'-' +subject_name[s],a)\n",
    "        \n",
    "        "
   ]
  }
 ],
 "metadata": {
  "kernelspec": {
   "display_name": "Python 3",
   "language": "python",
   "name": "python3"
  },
  "language_info": {
   "codemirror_mode": {
    "name": "ipython",
    "version": 3
   },
   "file_extension": ".py",
   "mimetype": "text/x-python",
   "name": "python",
   "nbconvert_exporter": "python",
   "pygments_lexer": "ipython3",
   "version": "3.6.4"
  },
  "latex_envs": {
   "LaTeX_envs_menu_present": true,
   "autoclose": false,
   "autocomplete": true,
   "bibliofile": "biblio.bib",
   "cite_by": "apalike",
   "current_citInitial": 1,
   "eqLabelWithNumbers": true,
   "eqNumInitial": 1,
   "hotkeys": {
    "equation": "Ctrl-E",
    "itemize": "Ctrl-I"
   },
   "labels_anchors": false,
   "latex_user_defs": false,
   "report_style_numbering": false,
   "user_envs_cfg": false
  }
 },
 "nbformat": 4,
 "nbformat_minor": 2
}
