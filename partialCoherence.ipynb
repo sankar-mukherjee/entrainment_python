{
 "cells": [
  {
   "cell_type": "code",
   "execution_count": 3,
   "metadata": {},
   "outputs": [],
   "source": [
    "import mne\n",
    "import os\n",
    "import scipy.io\n",
    "import listen_italian_functions\n",
    "import numpy as np\n",
    "from matplotlib import pyplot as plt\n",
    "import pandas as pd\n",
    "import pickle\n",
    "import warnings\n",
    "warnings.filterwarnings('ignore')\n",
    "from tqdm import tnrange, tqdm_notebook\n",
    "\n",
    "data_path = os.path.dirname(os.getcwd())\n",
    "\n",
    "subject_name = ['Alice','Andrea','Daniel','Elena','Elenora','Elisa','Federica','Francesca','Gianluca1','Giada','Giorgia',\n",
    "                'Jonluca','Laura','Leonardo','Linda','Lucrezia','Manu','Marco','Martina','Pagani','Pasquale','Sara',\n",
    "                'Silvia','Silvia2','Tommaso']"
   ]
  },
  {
   "cell_type": "code",
   "execution_count": 17,
   "metadata": {
    "scrolled": true
   },
   "outputs": [
    {
     "name": "stdout",
     "output_type": "stream",
     "text": [
      "This filename (C:\\Users\\SMukherjee\\Desktop\\projects\\listen_italian_motor_entrainment\\analysis\\python/data/Alice-coh-epo-0-3.51-trialLen-2.fif) does not conform to MNE naming conventions. All epochs files should end with -epo.fif or -epo.fif.gz\n",
      "Reading C:\\Users\\SMukherjee\\Desktop\\projects\\listen_italian_motor_entrainment\\analysis\\python/data/Alice-coh-epo-0-3.51-trialLen-2.fif ...\n",
      "Isotrak not found\n",
      "    Found the data of interest:\n",
      "        t =       0.00 ...    3507.50 ms\n",
      "        0 CTF compensation matrices available\n",
      "124 matching events found\n",
      "No baseline correction applied\n",
      "124 matching events found\n",
      "No baseline correction applied\n",
      "Not setting metadata\n",
      "0 projection items activated\n",
      "----------------------------------------------------------------------------------------------------------------Alice\n",
      "This filename (C:\\Users\\SMukherjee\\Desktop\\projects\\listen_italian_motor_entrainment\\analysis\\python/data/Andrea-coh-epo-0-3.51-trialLen-2.fif) does not conform to MNE naming conventions. All epochs files should end with -epo.fif or -epo.fif.gz\n",
      "Reading C:\\Users\\SMukherjee\\Desktop\\projects\\listen_italian_motor_entrainment\\analysis\\python/data/Andrea-coh-epo-0-3.51-trialLen-2.fif ...\n",
      "Isotrak not found\n",
      "    Found the data of interest:\n",
      "        t =       0.00 ...    3507.50 ms\n",
      "        0 CTF compensation matrices available\n",
      "121 matching events found\n",
      "No baseline correction applied\n",
      "121 matching events found\n",
      "No baseline correction applied\n",
      "Not setting metadata\n",
      "0 projection items activated\n",
      "----------------------------------------------------------------------------------------------------------------Andrea\n",
      "This filename (C:\\Users\\SMukherjee\\Desktop\\projects\\listen_italian_motor_entrainment\\analysis\\python/data/Daniel-coh-epo-0-3.51-trialLen-2.fif) does not conform to MNE naming conventions. All epochs files should end with -epo.fif or -epo.fif.gz\n",
      "Reading C:\\Users\\SMukherjee\\Desktop\\projects\\listen_italian_motor_entrainment\\analysis\\python/data/Daniel-coh-epo-0-3.51-trialLen-2.fif ...\n",
      "Isotrak not found\n",
      "    Found the data of interest:\n",
      "        t =       0.00 ...    3507.50 ms\n",
      "        0 CTF compensation matrices available\n",
      "122 matching events found\n",
      "No baseline correction applied\n",
      "122 matching events found\n",
      "No baseline correction applied\n",
      "Not setting metadata\n",
      "0 projection items activated\n",
      "----------------------------------------------------------------------------------------------------------------Daniel\n",
      "This filename (C:\\Users\\SMukherjee\\Desktop\\projects\\listen_italian_motor_entrainment\\analysis\\python/data/Elena-coh-epo-0-3.51-trialLen-2.fif) does not conform to MNE naming conventions. All epochs files should end with -epo.fif or -epo.fif.gz\n",
      "Reading C:\\Users\\SMukherjee\\Desktop\\projects\\listen_italian_motor_entrainment\\analysis\\python/data/Elena-coh-epo-0-3.51-trialLen-2.fif ...\n",
      "Isotrak not found\n",
      "    Found the data of interest:\n",
      "        t =       0.00 ...    3507.50 ms\n",
      "        0 CTF compensation matrices available\n",
      "121 matching events found\n",
      "No baseline correction applied\n",
      "121 matching events found\n",
      "No baseline correction applied\n",
      "Not setting metadata\n",
      "0 projection items activated\n",
      "----------------------------------------------------------------------------------------------------------------Elena\n",
      "This filename (C:\\Users\\SMukherjee\\Desktop\\projects\\listen_italian_motor_entrainment\\analysis\\python/data/Elenora-coh-epo-0-3.51-trialLen-2.fif) does not conform to MNE naming conventions. All epochs files should end with -epo.fif or -epo.fif.gz\n",
      "Reading C:\\Users\\SMukherjee\\Desktop\\projects\\listen_italian_motor_entrainment\\analysis\\python/data/Elenora-coh-epo-0-3.51-trialLen-2.fif ...\n",
      "Isotrak not found\n",
      "    Found the data of interest:\n",
      "        t =       0.00 ...    3507.50 ms\n",
      "        0 CTF compensation matrices available\n",
      "122 matching events found\n",
      "No baseline correction applied\n",
      "122 matching events found\n",
      "No baseline correction applied\n",
      "Not setting metadata\n",
      "0 projection items activated\n",
      "----------------------------------------------------------------------------------------------------------------Elenora\n",
      "This filename (C:\\Users\\SMukherjee\\Desktop\\projects\\listen_italian_motor_entrainment\\analysis\\python/data/Elisa-coh-epo-0-3.51-trialLen-2.fif) does not conform to MNE naming conventions. All epochs files should end with -epo.fif or -epo.fif.gz\n",
      "Reading C:\\Users\\SMukherjee\\Desktop\\projects\\listen_italian_motor_entrainment\\analysis\\python/data/Elisa-coh-epo-0-3.51-trialLen-2.fif ...\n",
      "Isotrak not found\n",
      "    Found the data of interest:\n",
      "        t =       0.00 ...    3507.50 ms\n",
      "        0 CTF compensation matrices available\n",
      "114 matching events found\n",
      "No baseline correction applied\n",
      "114 matching events found\n",
      "No baseline correction applied\n",
      "Not setting metadata\n",
      "0 projection items activated\n",
      "----------------------------------------------------------------------------------------------------------------Elisa\n",
      "This filename (C:\\Users\\SMukherjee\\Desktop\\projects\\listen_italian_motor_entrainment\\analysis\\python/data/Federica-coh-epo-0-3.51-trialLen-2.fif) does not conform to MNE naming conventions. All epochs files should end with -epo.fif or -epo.fif.gz\n",
      "Reading C:\\Users\\SMukherjee\\Desktop\\projects\\listen_italian_motor_entrainment\\analysis\\python/data/Federica-coh-epo-0-3.51-trialLen-2.fif ...\n",
      "Isotrak not found\n",
      "    Found the data of interest:\n",
      "        t =       0.00 ...    3507.50 ms\n",
      "        0 CTF compensation matrices available\n",
      "119 matching events found\n",
      "No baseline correction applied\n",
      "119 matching events found\n",
      "No baseline correction applied\n",
      "Not setting metadata\n",
      "0 projection items activated\n",
      "----------------------------------------------------------------------------------------------------------------Federica\n",
      "This filename (C:\\Users\\SMukherjee\\Desktop\\projects\\listen_italian_motor_entrainment\\analysis\\python/data/Francesca-coh-epo-0-3.51-trialLen-2.fif) does not conform to MNE naming conventions. All epochs files should end with -epo.fif or -epo.fif.gz\n",
      "Reading C:\\Users\\SMukherjee\\Desktop\\projects\\listen_italian_motor_entrainment\\analysis\\python/data/Francesca-coh-epo-0-3.51-trialLen-2.fif ...\n",
      "Isotrak not found\n",
      "    Found the data of interest:\n",
      "        t =       0.00 ...    3507.50 ms\n",
      "        0 CTF compensation matrices available\n",
      "119 matching events found\n",
      "No baseline correction applied\n",
      "119 matching events found\n",
      "No baseline correction applied\n",
      "Not setting metadata\n",
      "0 projection items activated\n",
      "----------------------------------------------------------------------------------------------------------------Francesca\n",
      "This filename (C:\\Users\\SMukherjee\\Desktop\\projects\\listen_italian_motor_entrainment\\analysis\\python/data/Gianluca1-coh-epo-0-3.51-trialLen-2.fif) does not conform to MNE naming conventions. All epochs files should end with -epo.fif or -epo.fif.gz\n",
      "Reading C:\\Users\\SMukherjee\\Desktop\\projects\\listen_italian_motor_entrainment\\analysis\\python/data/Gianluca1-coh-epo-0-3.51-trialLen-2.fif ...\n",
      "Isotrak not found\n",
      "    Found the data of interest:\n",
      "        t =       0.00 ...    3507.50 ms\n",
      "        0 CTF compensation matrices available\n",
      "120 matching events found\n",
      "No baseline correction applied\n",
      "120 matching events found\n",
      "No baseline correction applied\n",
      "Not setting metadata\n",
      "0 projection items activated\n",
      "----------------------------------------------------------------------------------------------------------------Gianluca1\n",
      "This filename (C:\\Users\\SMukherjee\\Desktop\\projects\\listen_italian_motor_entrainment\\analysis\\python/data/Giada-coh-epo-0-3.51-trialLen-2.fif) does not conform to MNE naming conventions. All epochs files should end with -epo.fif or -epo.fif.gz\n",
      "Reading C:\\Users\\SMukherjee\\Desktop\\projects\\listen_italian_motor_entrainment\\analysis\\python/data/Giada-coh-epo-0-3.51-trialLen-2.fif ...\n",
      "Isotrak not found\n",
      "    Found the data of interest:\n",
      "        t =       0.00 ...    3507.50 ms\n",
      "        0 CTF compensation matrices available\n",
      "121 matching events found\n",
      "No baseline correction applied\n",
      "121 matching events found\n",
      "No baseline correction applied\n",
      "Not setting metadata\n",
      "0 projection items activated\n",
      "----------------------------------------------------------------------------------------------------------------Giada\n",
      "This filename (C:\\Users\\SMukherjee\\Desktop\\projects\\listen_italian_motor_entrainment\\analysis\\python/data/Giorgia-coh-epo-0-3.51-trialLen-2.fif) does not conform to MNE naming conventions. All epochs files should end with -epo.fif or -epo.fif.gz\n",
      "Reading C:\\Users\\SMukherjee\\Desktop\\projects\\listen_italian_motor_entrainment\\analysis\\python/data/Giorgia-coh-epo-0-3.51-trialLen-2.fif ...\n",
      "Isotrak not found\n",
      "    Found the data of interest:\n",
      "        t =       0.00 ...    3507.50 ms\n",
      "        0 CTF compensation matrices available\n",
      "121 matching events found\n",
      "No baseline correction applied\n",
      "121 matching events found\n",
      "No baseline correction applied\n",
      "Not setting metadata\n",
      "0 projection items activated\n",
      "----------------------------------------------------------------------------------------------------------------Giorgia\n",
      "This filename (C:\\Users\\SMukherjee\\Desktop\\projects\\listen_italian_motor_entrainment\\analysis\\python/data/Jonluca-coh-epo-0-3.51-trialLen-2.fif) does not conform to MNE naming conventions. All epochs files should end with -epo.fif or -epo.fif.gz\n",
      "Reading C:\\Users\\SMukherjee\\Desktop\\projects\\listen_italian_motor_entrainment\\analysis\\python/data/Jonluca-coh-epo-0-3.51-trialLen-2.fif ...\n",
      "Isotrak not found\n",
      "    Found the data of interest:\n",
      "        t =       0.00 ...    3507.50 ms\n",
      "        0 CTF compensation matrices available\n",
      "110 matching events found\n",
      "No baseline correction applied\n",
      "110 matching events found\n",
      "No baseline correction applied\n",
      "Not setting metadata\n",
      "0 projection items activated\n",
      "----------------------------------------------------------------------------------------------------------------Jonluca\n",
      "This filename (C:\\Users\\SMukherjee\\Desktop\\projects\\listen_italian_motor_entrainment\\analysis\\python/data/Laura-coh-epo-0-3.51-trialLen-2.fif) does not conform to MNE naming conventions. All epochs files should end with -epo.fif or -epo.fif.gz\n",
      "Reading C:\\Users\\SMukherjee\\Desktop\\projects\\listen_italian_motor_entrainment\\analysis\\python/data/Laura-coh-epo-0-3.51-trialLen-2.fif ...\n",
      "Isotrak not found\n",
      "    Found the data of interest:\n",
      "        t =       0.00 ...    3507.50 ms\n",
      "        0 CTF compensation matrices available\n",
      "120 matching events found\n",
      "No baseline correction applied\n",
      "120 matching events found\n",
      "No baseline correction applied\n",
      "Not setting metadata\n",
      "0 projection items activated\n",
      "----------------------------------------------------------------------------------------------------------------Laura\n",
      "This filename (C:\\Users\\SMukherjee\\Desktop\\projects\\listen_italian_motor_entrainment\\analysis\\python/data/Leonardo-coh-epo-0-3.51-trialLen-2.fif) does not conform to MNE naming conventions. All epochs files should end with -epo.fif or -epo.fif.gz\n",
      "Reading C:\\Users\\SMukherjee\\Desktop\\projects\\listen_italian_motor_entrainment\\analysis\\python/data/Leonardo-coh-epo-0-3.51-trialLen-2.fif ...\n",
      "Isotrak not found\n",
      "    Found the data of interest:\n",
      "        t =       0.00 ...    3507.50 ms\n",
      "        0 CTF compensation matrices available\n",
      "119 matching events found\n",
      "No baseline correction applied\n",
      "119 matching events found\n",
      "No baseline correction applied\n",
      "Not setting metadata\n",
      "0 projection items activated\n",
      "----------------------------------------------------------------------------------------------------------------Leonardo\n",
      "This filename (C:\\Users\\SMukherjee\\Desktop\\projects\\listen_italian_motor_entrainment\\analysis\\python/data/Linda-coh-epo-0-3.51-trialLen-2.fif) does not conform to MNE naming conventions. All epochs files should end with -epo.fif or -epo.fif.gz\n",
      "Reading C:\\Users\\SMukherjee\\Desktop\\projects\\listen_italian_motor_entrainment\\analysis\\python/data/Linda-coh-epo-0-3.51-trialLen-2.fif ...\n",
      "Isotrak not found\n",
      "    Found the data of interest:\n",
      "        t =       0.00 ...    3507.50 ms\n",
      "        0 CTF compensation matrices available\n",
      "114 matching events found\n",
      "No baseline correction applied\n",
      "114 matching events found\n",
      "No baseline correction applied\n",
      "Not setting metadata\n",
      "0 projection items activated\n",
      "----------------------------------------------------------------------------------------------------------------Linda\n",
      "This filename (C:\\Users\\SMukherjee\\Desktop\\projects\\listen_italian_motor_entrainment\\analysis\\python/data/Lucrezia-coh-epo-0-3.51-trialLen-2.fif) does not conform to MNE naming conventions. All epochs files should end with -epo.fif or -epo.fif.gz\n",
      "Reading C:\\Users\\SMukherjee\\Desktop\\projects\\listen_italian_motor_entrainment\\analysis\\python/data/Lucrezia-coh-epo-0-3.51-trialLen-2.fif ...\n",
      "Isotrak not found\n",
      "    Found the data of interest:\n",
      "        t =       0.00 ...    3507.50 ms\n",
      "        0 CTF compensation matrices available\n",
      "123 matching events found\n",
      "No baseline correction applied\n",
      "123 matching events found\n",
      "No baseline correction applied\n",
      "Not setting metadata\n",
      "0 projection items activated\n",
      "----------------------------------------------------------------------------------------------------------------Lucrezia\n",
      "This filename (C:\\Users\\SMukherjee\\Desktop\\projects\\listen_italian_motor_entrainment\\analysis\\python/data/Manu-coh-epo-0-3.51-trialLen-2.fif) does not conform to MNE naming conventions. All epochs files should end with -epo.fif or -epo.fif.gz\n",
      "Reading C:\\Users\\SMukherjee\\Desktop\\projects\\listen_italian_motor_entrainment\\analysis\\python/data/Manu-coh-epo-0-3.51-trialLen-2.fif ...\n",
      "Isotrak not found\n",
      "    Found the data of interest:\n",
      "        t =       0.00 ...    3507.50 ms\n",
      "        0 CTF compensation matrices available\n",
      "120 matching events found\n",
      "No baseline correction applied\n",
      "120 matching events found\n",
      "No baseline correction applied\n",
      "Not setting metadata\n",
      "0 projection items activated\n",
      "----------------------------------------------------------------------------------------------------------------Manu\n",
      "This filename (C:\\Users\\SMukherjee\\Desktop\\projects\\listen_italian_motor_entrainment\\analysis\\python/data/Marco-coh-epo-0-3.51-trialLen-2.fif) does not conform to MNE naming conventions. All epochs files should end with -epo.fif or -epo.fif.gz\n",
      "Reading C:\\Users\\SMukherjee\\Desktop\\projects\\listen_italian_motor_entrainment\\analysis\\python/data/Marco-coh-epo-0-3.51-trialLen-2.fif ...\n",
      "Isotrak not found\n",
      "    Found the data of interest:\n",
      "        t =       0.00 ...    3507.50 ms\n",
      "        0 CTF compensation matrices available\n",
      "114 matching events found\n",
      "No baseline correction applied\n",
      "114 matching events found\n",
      "No baseline correction applied\n",
      "Not setting metadata\n",
      "0 projection items activated\n",
      "----------------------------------------------------------------------------------------------------------------Marco\n",
      "This filename (C:\\Users\\SMukherjee\\Desktop\\projects\\listen_italian_motor_entrainment\\analysis\\python/data/Martina-coh-epo-0-3.51-trialLen-2.fif) does not conform to MNE naming conventions. All epochs files should end with -epo.fif or -epo.fif.gz\n",
      "Reading C:\\Users\\SMukherjee\\Desktop\\projects\\listen_italian_motor_entrainment\\analysis\\python/data/Martina-coh-epo-0-3.51-trialLen-2.fif ...\n",
      "Isotrak not found\n",
      "    Found the data of interest:\n",
      "        t =       0.00 ...    3507.50 ms\n",
      "        0 CTF compensation matrices available\n",
      "123 matching events found\n",
      "No baseline correction applied\n",
      "123 matching events found\n",
      "No baseline correction applied\n",
      "Not setting metadata\n",
      "0 projection items activated\n",
      "----------------------------------------------------------------------------------------------------------------Martina\n",
      "This filename (C:\\Users\\SMukherjee\\Desktop\\projects\\listen_italian_motor_entrainment\\analysis\\python/data/Pagani-coh-epo-0-3.51-trialLen-2.fif) does not conform to MNE naming conventions. All epochs files should end with -epo.fif or -epo.fif.gz\n",
      "Reading C:\\Users\\SMukherjee\\Desktop\\projects\\listen_italian_motor_entrainment\\analysis\\python/data/Pagani-coh-epo-0-3.51-trialLen-2.fif ...\n",
      "Isotrak not found\n",
      "    Found the data of interest:\n",
      "        t =       0.00 ...    3507.50 ms\n",
      "        0 CTF compensation matrices available\n",
      "122 matching events found\n",
      "No baseline correction applied\n",
      "122 matching events found\n",
      "No baseline correction applied\n",
      "Not setting metadata\n",
      "0 projection items activated\n",
      "----------------------------------------------------------------------------------------------------------------Pagani\n"
     ]
    },
    {
     "name": "stdout",
     "output_type": "stream",
     "text": [
      "This filename (C:\\Users\\SMukherjee\\Desktop\\projects\\listen_italian_motor_entrainment\\analysis\\python/data/Pasquale-coh-epo-0-3.51-trialLen-2.fif) does not conform to MNE naming conventions. All epochs files should end with -epo.fif or -epo.fif.gz\n",
      "Reading C:\\Users\\SMukherjee\\Desktop\\projects\\listen_italian_motor_entrainment\\analysis\\python/data/Pasquale-coh-epo-0-3.51-trialLen-2.fif ...\n",
      "Isotrak not found\n",
      "    Found the data of interest:\n",
      "        t =       0.00 ...    3507.50 ms\n",
      "        0 CTF compensation matrices available\n",
      "117 matching events found\n",
      "No baseline correction applied\n",
      "117 matching events found\n",
      "No baseline correction applied\n",
      "Not setting metadata\n",
      "0 projection items activated\n",
      "----------------------------------------------------------------------------------------------------------------Pasquale\n",
      "This filename (C:\\Users\\SMukherjee\\Desktop\\projects\\listen_italian_motor_entrainment\\analysis\\python/data/Sara-coh-epo-0-3.51-trialLen-2.fif) does not conform to MNE naming conventions. All epochs files should end with -epo.fif or -epo.fif.gz\n",
      "Reading C:\\Users\\SMukherjee\\Desktop\\projects\\listen_italian_motor_entrainment\\analysis\\python/data/Sara-coh-epo-0-3.51-trialLen-2.fif ...\n",
      "Isotrak not found\n",
      "    Found the data of interest:\n",
      "        t =       0.00 ...    3507.50 ms\n",
      "        0 CTF compensation matrices available\n",
      "120 matching events found\n",
      "No baseline correction applied\n",
      "120 matching events found\n",
      "No baseline correction applied\n",
      "Not setting metadata\n",
      "0 projection items activated\n",
      "----------------------------------------------------------------------------------------------------------------Sara\n",
      "This filename (C:\\Users\\SMukherjee\\Desktop\\projects\\listen_italian_motor_entrainment\\analysis\\python/data/Silvia-coh-epo-0-3.51-trialLen-2.fif) does not conform to MNE naming conventions. All epochs files should end with -epo.fif or -epo.fif.gz\n",
      "Reading C:\\Users\\SMukherjee\\Desktop\\projects\\listen_italian_motor_entrainment\\analysis\\python/data/Silvia-coh-epo-0-3.51-trialLen-2.fif ...\n",
      "Isotrak not found\n",
      "    Found the data of interest:\n",
      "        t =       0.00 ...    3507.50 ms\n",
      "        0 CTF compensation matrices available\n",
      "120 matching events found\n",
      "No baseline correction applied\n",
      "120 matching events found\n",
      "No baseline correction applied\n",
      "Not setting metadata\n",
      "0 projection items activated\n",
      "----------------------------------------------------------------------------------------------------------------Silvia\n",
      "This filename (C:\\Users\\SMukherjee\\Desktop\\projects\\listen_italian_motor_entrainment\\analysis\\python/data/Silvia2-coh-epo-0-3.51-trialLen-2.fif) does not conform to MNE naming conventions. All epochs files should end with -epo.fif or -epo.fif.gz\n",
      "Reading C:\\Users\\SMukherjee\\Desktop\\projects\\listen_italian_motor_entrainment\\analysis\\python/data/Silvia2-coh-epo-0-3.51-trialLen-2.fif ...\n",
      "Isotrak not found\n",
      "    Found the data of interest:\n",
      "        t =       0.00 ...    3507.50 ms\n",
      "        0 CTF compensation matrices available\n",
      "118 matching events found\n",
      "No baseline correction applied\n",
      "118 matching events found\n",
      "No baseline correction applied\n",
      "Not setting metadata\n",
      "0 projection items activated\n",
      "----------------------------------------------------------------------------------------------------------------Silvia2\n",
      "This filename (C:\\Users\\SMukherjee\\Desktop\\projects\\listen_italian_motor_entrainment\\analysis\\python/data/Tommaso-coh-epo-0-3.51-trialLen-2.fif) does not conform to MNE naming conventions. All epochs files should end with -epo.fif or -epo.fif.gz\n",
      "Reading C:\\Users\\SMukherjee\\Desktop\\projects\\listen_italian_motor_entrainment\\analysis\\python/data/Tommaso-coh-epo-0-3.51-trialLen-2.fif ...\n",
      "Isotrak not found\n",
      "    Found the data of interest:\n",
      "        t =       0.00 ...    3507.50 ms\n",
      "        0 CTF compensation matrices available\n",
      "121 matching events found\n",
      "No baseline correction applied\n",
      "121 matching events found\n",
      "No baseline correction applied\n",
      "Not setting metadata\n",
      "0 projection items activated\n",
      "----------------------------------------------------------------------------------------------------------------Tommaso\n"
     ]
    }
   ],
   "source": [
    "Tmin = 0\n",
    "Tmax = 3.51\n",
    "trial_len = 2\n",
    "\n",
    "GA_epoches = []\n",
    "for s in subject_name:\n",
    "    save_path = data_path + '/data/'+s+'-coh-epo-'+str(Tmin)+'-'+str(Tmax)+'-trialLen-'+str(trial_len)+'.fif'\n",
    "    epochs = mne.read_epochs(save_path)\n",
    "    GA_epoches.append(epochs)\n",
    "    print('----------------------------------------------------------------------------------------------------------------'+s)\n"
   ]
  },
  {
   "cell_type": "markdown",
   "metadata": {},
   "source": [
    "# save epoches for matlab filetrip partial coherence"
   ]
  },
  {
   "cell_type": "code",
   "execution_count": 23,
   "metadata": {
    "scrolled": true
   },
   "outputs": [
    {
     "data": {
      "application/vnd.jupyter.widget-view+json": {
       "model_id": "79e1a2815cab418bb74e67d2217862a0",
       "version_major": 2,
       "version_minor": 0
      },
      "text/html": [
       "<p>Failed to display Jupyter Widget of type <code>HBox</code>.</p>\n",
       "<p>\n",
       "  If you're reading this message in the Jupyter Notebook or JupyterLab Notebook, it may mean\n",
       "  that the widgets JavaScript is still loading. If this message persists, it\n",
       "  likely means that the widgets JavaScript library is either not installed or\n",
       "  not enabled. See the <a href=\"https://ipywidgets.readthedocs.io/en/stable/user_install.html\">Jupyter\n",
       "  Widgets Documentation</a> for setup instructions.\n",
       "</p>\n",
       "<p>\n",
       "  If you're reading this message in another frontend (for example, a static\n",
       "  rendering on GitHub or <a href=\"https://nbviewer.jupyter.org/\">NBViewer</a>),\n",
       "  it may mean that your frontend doesn't currently support widgets.\n",
       "</p>\n"
      ],
      "text/plain": [
       "HBox(children=(IntProgress(value=0, description='Subjects', max=25), HTML(value='')))"
      ]
     },
     "metadata": {},
     "output_type": "display_data"
    },
    {
     "data": {
      "application/vnd.jupyter.widget-view+json": {
       "model_id": "095e41354eb643d5947c4983c35fbe37",
       "version_major": 2,
       "version_minor": 0
      },
      "text/html": [
       "<p>Failed to display Jupyter Widget of type <code>HBox</code>.</p>\n",
       "<p>\n",
       "  If you're reading this message in the Jupyter Notebook or JupyterLab Notebook, it may mean\n",
       "  that the widgets JavaScript is still loading. If this message persists, it\n",
       "  likely means that the widgets JavaScript library is either not installed or\n",
       "  not enabled. See the <a href=\"https://ipywidgets.readthedocs.io/en/stable/user_install.html\">Jupyter\n",
       "  Widgets Documentation</a> for setup instructions.\n",
       "</p>\n",
       "<p>\n",
       "  If you're reading this message in another frontend (for example, a static\n",
       "  rendering on GitHub or <a href=\"https://nbviewer.jupyter.org/\">NBViewer</a>),\n",
       "  it may mean that your frontend doesn't currently support widgets.\n",
       "</p>\n"
      ],
      "text/plain": [
       "HBox(children=(IntProgress(value=0, description='Delay', max=1), HTML(value='')))"
      ]
     },
     "metadata": {},
     "output_type": "display_data"
    },
    {
     "name": "stdout",
     "output_type": "stream",
     "text": [
      "124 matching events found\n",
      "No baseline correction applied\n",
      "Not setting metadata\n",
      "0 projection items activated\n",
      "0 bad epochs dropped\n",
      "This filename (C:\\Users\\SMukherjee\\Desktop\\projects\\listen_italian_motor_entrainment\\analysis\\python/data/partialCoh/partialCoh-trailLen-2-removedFirst-0s-condition-hyper-delay-0s-Alice.fif) does not conform to MNE naming conventions. All epochs files should end with -epo.fif or -epo.fif.gz\n",
      "This filename (C:\\Users\\SMukherjee\\Desktop\\projects\\listen_italian_motor_entrainment\\analysis\\python/data/partialCoh/partialCoh-trailLen-2-removedFirst-0s-condition-normal-delay-0s-Alice.fif) does not conform to MNE naming conventions. All epochs files should end with -epo.fif or -epo.fif.gz\n",
      "This filename (C:\\Users\\SMukherjee\\Desktop\\projects\\listen_italian_motor_entrainment\\analysis\\python/data/partialCoh/partialCoh-trailLen-2-removedFirst-0s-condition-hypo-delay-0s-Alice.fif) does not conform to MNE naming conventions. All epochs files should end with -epo.fif or -epo.fif.gz\n",
      "This filename (C:\\Users\\SMukherjee\\Desktop\\projects\\listen_italian_motor_entrainment\\analysis\\python/data/partialCoh/partialCoh-trailLen-2-removedFirst-0s-condition-All-delay-0s-Alice.fif) does not conform to MNE naming conventions. All epochs files should end with -epo.fif or -epo.fif.gz\n"
     ]
    },
    {
     "data": {
      "application/vnd.jupyter.widget-view+json": {
       "model_id": "a95b52dff8724a0a8c7b4fb3a3894538",
       "version_major": 2,
       "version_minor": 0
      },
      "text/html": [
       "<p>Failed to display Jupyter Widget of type <code>HBox</code>.</p>\n",
       "<p>\n",
       "  If you're reading this message in the Jupyter Notebook or JupyterLab Notebook, it may mean\n",
       "  that the widgets JavaScript is still loading. If this message persists, it\n",
       "  likely means that the widgets JavaScript library is either not installed or\n",
       "  not enabled. See the <a href=\"https://ipywidgets.readthedocs.io/en/stable/user_install.html\">Jupyter\n",
       "  Widgets Documentation</a> for setup instructions.\n",
       "</p>\n",
       "<p>\n",
       "  If you're reading this message in another frontend (for example, a static\n",
       "  rendering on GitHub or <a href=\"https://nbviewer.jupyter.org/\">NBViewer</a>),\n",
       "  it may mean that your frontend doesn't currently support widgets.\n",
       "</p>\n"
      ],
      "text/plain": [
       "HBox(children=(IntProgress(value=0, description='Delay', max=1), HTML(value='')))"
      ]
     },
     "metadata": {},
     "output_type": "display_data"
    },
    {
     "name": "stdout",
     "output_type": "stream",
     "text": [
      "121 matching events found\n",
      "No baseline correction applied\n",
      "Not setting metadata\n",
      "0 projection items activated\n",
      "0 bad epochs dropped\n",
      "This filename (C:\\Users\\SMukherjee\\Desktop\\projects\\listen_italian_motor_entrainment\\analysis\\python/data/partialCoh/partialCoh-trailLen-2-removedFirst-0s-condition-hyper-delay-0s-Andrea.fif) does not conform to MNE naming conventions. All epochs files should end with -epo.fif or -epo.fif.gz\n",
      "This filename (C:\\Users\\SMukherjee\\Desktop\\projects\\listen_italian_motor_entrainment\\analysis\\python/data/partialCoh/partialCoh-trailLen-2-removedFirst-0s-condition-normal-delay-0s-Andrea.fif) does not conform to MNE naming conventions. All epochs files should end with -epo.fif or -epo.fif.gz\n",
      "This filename (C:\\Users\\SMukherjee\\Desktop\\projects\\listen_italian_motor_entrainment\\analysis\\python/data/partialCoh/partialCoh-trailLen-2-removedFirst-0s-condition-hypo-delay-0s-Andrea.fif) does not conform to MNE naming conventions. All epochs files should end with -epo.fif or -epo.fif.gz\n",
      "This filename (C:\\Users\\SMukherjee\\Desktop\\projects\\listen_italian_motor_entrainment\\analysis\\python/data/partialCoh/partialCoh-trailLen-2-removedFirst-0s-condition-All-delay-0s-Andrea.fif) does not conform to MNE naming conventions. All epochs files should end with -epo.fif or -epo.fif.gz\n"
     ]
    },
    {
     "data": {
      "application/vnd.jupyter.widget-view+json": {
       "model_id": "22a5c5ab23e2482fbcf341dbc4ac48bf",
       "version_major": 2,
       "version_minor": 0
      },
      "text/html": [
       "<p>Failed to display Jupyter Widget of type <code>HBox</code>.</p>\n",
       "<p>\n",
       "  If you're reading this message in the Jupyter Notebook or JupyterLab Notebook, it may mean\n",
       "  that the widgets JavaScript is still loading. If this message persists, it\n",
       "  likely means that the widgets JavaScript library is either not installed or\n",
       "  not enabled. See the <a href=\"https://ipywidgets.readthedocs.io/en/stable/user_install.html\">Jupyter\n",
       "  Widgets Documentation</a> for setup instructions.\n",
       "</p>\n",
       "<p>\n",
       "  If you're reading this message in another frontend (for example, a static\n",
       "  rendering on GitHub or <a href=\"https://nbviewer.jupyter.org/\">NBViewer</a>),\n",
       "  it may mean that your frontend doesn't currently support widgets.\n",
       "</p>\n"
      ],
      "text/plain": [
       "HBox(children=(IntProgress(value=0, description='Delay', max=1), HTML(value='')))"
      ]
     },
     "metadata": {},
     "output_type": "display_data"
    },
    {
     "name": "stdout",
     "output_type": "stream",
     "text": [
      "122 matching events found\n",
      "No baseline correction applied\n",
      "Not setting metadata\n",
      "0 projection items activated\n",
      "0 bad epochs dropped\n",
      "This filename (C:\\Users\\SMukherjee\\Desktop\\projects\\listen_italian_motor_entrainment\\analysis\\python/data/partialCoh/partialCoh-trailLen-2-removedFirst-0s-condition-hyper-delay-0s-Daniel.fif) does not conform to MNE naming conventions. All epochs files should end with -epo.fif or -epo.fif.gz\n",
      "This filename (C:\\Users\\SMukherjee\\Desktop\\projects\\listen_italian_motor_entrainment\\analysis\\python/data/partialCoh/partialCoh-trailLen-2-removedFirst-0s-condition-normal-delay-0s-Daniel.fif) does not conform to MNE naming conventions. All epochs files should end with -epo.fif or -epo.fif.gz\n",
      "This filename (C:\\Users\\SMukherjee\\Desktop\\projects\\listen_italian_motor_entrainment\\analysis\\python/data/partialCoh/partialCoh-trailLen-2-removedFirst-0s-condition-hypo-delay-0s-Daniel.fif) does not conform to MNE naming conventions. All epochs files should end with -epo.fif or -epo.fif.gz\n",
      "This filename (C:\\Users\\SMukherjee\\Desktop\\projects\\listen_italian_motor_entrainment\\analysis\\python/data/partialCoh/partialCoh-trailLen-2-removedFirst-0s-condition-All-delay-0s-Daniel.fif) does not conform to MNE naming conventions. All epochs files should end with -epo.fif or -epo.fif.gz\n"
     ]
    },
    {
     "data": {
      "application/vnd.jupyter.widget-view+json": {
       "model_id": "ac24fea5b85c4b5eaa32a0000930638b",
       "version_major": 2,
       "version_minor": 0
      },
      "text/html": [
       "<p>Failed to display Jupyter Widget of type <code>HBox</code>.</p>\n",
       "<p>\n",
       "  If you're reading this message in the Jupyter Notebook or JupyterLab Notebook, it may mean\n",
       "  that the widgets JavaScript is still loading. If this message persists, it\n",
       "  likely means that the widgets JavaScript library is either not installed or\n",
       "  not enabled. See the <a href=\"https://ipywidgets.readthedocs.io/en/stable/user_install.html\">Jupyter\n",
       "  Widgets Documentation</a> for setup instructions.\n",
       "</p>\n",
       "<p>\n",
       "  If you're reading this message in another frontend (for example, a static\n",
       "  rendering on GitHub or <a href=\"https://nbviewer.jupyter.org/\">NBViewer</a>),\n",
       "  it may mean that your frontend doesn't currently support widgets.\n",
       "</p>\n"
      ],
      "text/plain": [
       "HBox(children=(IntProgress(value=0, description='Delay', max=1), HTML(value='')))"
      ]
     },
     "metadata": {},
     "output_type": "display_data"
    },
    {
     "name": "stdout",
     "output_type": "stream",
     "text": [
      "121 matching events found\n",
      "No baseline correction applied\n",
      "Not setting metadata\n",
      "0 projection items activated\n",
      "0 bad epochs dropped\n",
      "This filename (C:\\Users\\SMukherjee\\Desktop\\projects\\listen_italian_motor_entrainment\\analysis\\python/data/partialCoh/partialCoh-trailLen-2-removedFirst-0s-condition-hyper-delay-0s-Elena.fif) does not conform to MNE naming conventions. All epochs files should end with -epo.fif or -epo.fif.gz\n",
      "This filename (C:\\Users\\SMukherjee\\Desktop\\projects\\listen_italian_motor_entrainment\\analysis\\python/data/partialCoh/partialCoh-trailLen-2-removedFirst-0s-condition-normal-delay-0s-Elena.fif) does not conform to MNE naming conventions. All epochs files should end with -epo.fif or -epo.fif.gz\n",
      "This filename (C:\\Users\\SMukherjee\\Desktop\\projects\\listen_italian_motor_entrainment\\analysis\\python/data/partialCoh/partialCoh-trailLen-2-removedFirst-0s-condition-hypo-delay-0s-Elena.fif) does not conform to MNE naming conventions. All epochs files should end with -epo.fif or -epo.fif.gz\n",
      "This filename (C:\\Users\\SMukherjee\\Desktop\\projects\\listen_italian_motor_entrainment\\analysis\\python/data/partialCoh/partialCoh-trailLen-2-removedFirst-0s-condition-All-delay-0s-Elena.fif) does not conform to MNE naming conventions. All epochs files should end with -epo.fif or -epo.fif.gz\n"
     ]
    },
    {
     "data": {
      "application/vnd.jupyter.widget-view+json": {
       "model_id": "e28edc0cffe848a9b93be5e34340d469",
       "version_major": 2,
       "version_minor": 0
      },
      "text/html": [
       "<p>Failed to display Jupyter Widget of type <code>HBox</code>.</p>\n",
       "<p>\n",
       "  If you're reading this message in the Jupyter Notebook or JupyterLab Notebook, it may mean\n",
       "  that the widgets JavaScript is still loading. If this message persists, it\n",
       "  likely means that the widgets JavaScript library is either not installed or\n",
       "  not enabled. See the <a href=\"https://ipywidgets.readthedocs.io/en/stable/user_install.html\">Jupyter\n",
       "  Widgets Documentation</a> for setup instructions.\n",
       "</p>\n",
       "<p>\n",
       "  If you're reading this message in another frontend (for example, a static\n",
       "  rendering on GitHub or <a href=\"https://nbviewer.jupyter.org/\">NBViewer</a>),\n",
       "  it may mean that your frontend doesn't currently support widgets.\n",
       "</p>\n"
      ],
      "text/plain": [
       "HBox(children=(IntProgress(value=0, description='Delay', max=1), HTML(value='')))"
      ]
     },
     "metadata": {},
     "output_type": "display_data"
    },
    {
     "name": "stdout",
     "output_type": "stream",
     "text": [
      "122 matching events found\n",
      "No baseline correction applied\n",
      "Not setting metadata\n",
      "0 projection items activated\n",
      "0 bad epochs dropped\n",
      "This filename (C:\\Users\\SMukherjee\\Desktop\\projects\\listen_italian_motor_entrainment\\analysis\\python/data/partialCoh/partialCoh-trailLen-2-removedFirst-0s-condition-hyper-delay-0s-Elenora.fif) does not conform to MNE naming conventions. All epochs files should end with -epo.fif or -epo.fif.gz\n",
      "This filename (C:\\Users\\SMukherjee\\Desktop\\projects\\listen_italian_motor_entrainment\\analysis\\python/data/partialCoh/partialCoh-trailLen-2-removedFirst-0s-condition-normal-delay-0s-Elenora.fif) does not conform to MNE naming conventions. All epochs files should end with -epo.fif or -epo.fif.gz\n",
      "This filename (C:\\Users\\SMukherjee\\Desktop\\projects\\listen_italian_motor_entrainment\\analysis\\python/data/partialCoh/partialCoh-trailLen-2-removedFirst-0s-condition-hypo-delay-0s-Elenora.fif) does not conform to MNE naming conventions. All epochs files should end with -epo.fif or -epo.fif.gz\n",
      "This filename (C:\\Users\\SMukherjee\\Desktop\\projects\\listen_italian_motor_entrainment\\analysis\\python/data/partialCoh/partialCoh-trailLen-2-removedFirst-0s-condition-All-delay-0s-Elenora.fif) does not conform to MNE naming conventions. All epochs files should end with -epo.fif or -epo.fif.gz\n"
     ]
    },
    {
     "data": {
      "application/vnd.jupyter.widget-view+json": {
       "model_id": "e62906195b0f4166b6502752440a9f91",
       "version_major": 2,
       "version_minor": 0
      },
      "text/html": [
       "<p>Failed to display Jupyter Widget of type <code>HBox</code>.</p>\n",
       "<p>\n",
       "  If you're reading this message in the Jupyter Notebook or JupyterLab Notebook, it may mean\n",
       "  that the widgets JavaScript is still loading. If this message persists, it\n",
       "  likely means that the widgets JavaScript library is either not installed or\n",
       "  not enabled. See the <a href=\"https://ipywidgets.readthedocs.io/en/stable/user_install.html\">Jupyter\n",
       "  Widgets Documentation</a> for setup instructions.\n",
       "</p>\n",
       "<p>\n",
       "  If you're reading this message in another frontend (for example, a static\n",
       "  rendering on GitHub or <a href=\"https://nbviewer.jupyter.org/\">NBViewer</a>),\n",
       "  it may mean that your frontend doesn't currently support widgets.\n",
       "</p>\n"
      ],
      "text/plain": [
       "HBox(children=(IntProgress(value=0, description='Delay', max=1), HTML(value='')))"
      ]
     },
     "metadata": {},
     "output_type": "display_data"
    },
    {
     "name": "stdout",
     "output_type": "stream",
     "text": [
      "114 matching events found\n",
      "No baseline correction applied\n",
      "Not setting metadata\n",
      "0 projection items activated\n",
      "0 bad epochs dropped\n",
      "This filename (C:\\Users\\SMukherjee\\Desktop\\projects\\listen_italian_motor_entrainment\\analysis\\python/data/partialCoh/partialCoh-trailLen-2-removedFirst-0s-condition-hyper-delay-0s-Elisa.fif) does not conform to MNE naming conventions. All epochs files should end with -epo.fif or -epo.fif.gz\n",
      "This filename (C:\\Users\\SMukherjee\\Desktop\\projects\\listen_italian_motor_entrainment\\analysis\\python/data/partialCoh/partialCoh-trailLen-2-removedFirst-0s-condition-normal-delay-0s-Elisa.fif) does not conform to MNE naming conventions. All epochs files should end with -epo.fif or -epo.fif.gz\n",
      "This filename (C:\\Users\\SMukherjee\\Desktop\\projects\\listen_italian_motor_entrainment\\analysis\\python/data/partialCoh/partialCoh-trailLen-2-removedFirst-0s-condition-hypo-delay-0s-Elisa.fif) does not conform to MNE naming conventions. All epochs files should end with -epo.fif or -epo.fif.gz\n",
      "This filename (C:\\Users\\SMukherjee\\Desktop\\projects\\listen_italian_motor_entrainment\\analysis\\python/data/partialCoh/partialCoh-trailLen-2-removedFirst-0s-condition-All-delay-0s-Elisa.fif) does not conform to MNE naming conventions. All epochs files should end with -epo.fif or -epo.fif.gz\n"
     ]
    },
    {
     "data": {
      "application/vnd.jupyter.widget-view+json": {
       "model_id": "1ce3ee0f6acc446299cca08c439916cc",
       "version_major": 2,
       "version_minor": 0
      },
      "text/html": [
       "<p>Failed to display Jupyter Widget of type <code>HBox</code>.</p>\n",
       "<p>\n",
       "  If you're reading this message in the Jupyter Notebook or JupyterLab Notebook, it may mean\n",
       "  that the widgets JavaScript is still loading. If this message persists, it\n",
       "  likely means that the widgets JavaScript library is either not installed or\n",
       "  not enabled. See the <a href=\"https://ipywidgets.readthedocs.io/en/stable/user_install.html\">Jupyter\n",
       "  Widgets Documentation</a> for setup instructions.\n",
       "</p>\n",
       "<p>\n",
       "  If you're reading this message in another frontend (for example, a static\n",
       "  rendering on GitHub or <a href=\"https://nbviewer.jupyter.org/\">NBViewer</a>),\n",
       "  it may mean that your frontend doesn't currently support widgets.\n",
       "</p>\n"
      ],
      "text/plain": [
       "HBox(children=(IntProgress(value=0, description='Delay', max=1), HTML(value='')))"
      ]
     },
     "metadata": {},
     "output_type": "display_data"
    },
    {
     "name": "stdout",
     "output_type": "stream",
     "text": [
      "119 matching events found\n",
      "No baseline correction applied\n",
      "Not setting metadata\n",
      "0 projection items activated\n",
      "0 bad epochs dropped\n",
      "This filename (C:\\Users\\SMukherjee\\Desktop\\projects\\listen_italian_motor_entrainment\\analysis\\python/data/partialCoh/partialCoh-trailLen-2-removedFirst-0s-condition-hyper-delay-0s-Federica.fif) does not conform to MNE naming conventions. All epochs files should end with -epo.fif or -epo.fif.gz\n",
      "This filename (C:\\Users\\SMukherjee\\Desktop\\projects\\listen_italian_motor_entrainment\\analysis\\python/data/partialCoh/partialCoh-trailLen-2-removedFirst-0s-condition-normal-delay-0s-Federica.fif) does not conform to MNE naming conventions. All epochs files should end with -epo.fif or -epo.fif.gz\n",
      "This filename (C:\\Users\\SMukherjee\\Desktop\\projects\\listen_italian_motor_entrainment\\analysis\\python/data/partialCoh/partialCoh-trailLen-2-removedFirst-0s-condition-hypo-delay-0s-Federica.fif) does not conform to MNE naming conventions. All epochs files should end with -epo.fif or -epo.fif.gz\n",
      "This filename (C:\\Users\\SMukherjee\\Desktop\\projects\\listen_italian_motor_entrainment\\analysis\\python/data/partialCoh/partialCoh-trailLen-2-removedFirst-0s-condition-All-delay-0s-Federica.fif) does not conform to MNE naming conventions. All epochs files should end with -epo.fif or -epo.fif.gz\n"
     ]
    },
    {
     "data": {
      "application/vnd.jupyter.widget-view+json": {
       "model_id": "e7492a690c7e414280fd92778bc5998f",
       "version_major": 2,
       "version_minor": 0
      },
      "text/html": [
       "<p>Failed to display Jupyter Widget of type <code>HBox</code>.</p>\n",
       "<p>\n",
       "  If you're reading this message in the Jupyter Notebook or JupyterLab Notebook, it may mean\n",
       "  that the widgets JavaScript is still loading. If this message persists, it\n",
       "  likely means that the widgets JavaScript library is either not installed or\n",
       "  not enabled. See the <a href=\"https://ipywidgets.readthedocs.io/en/stable/user_install.html\">Jupyter\n",
       "  Widgets Documentation</a> for setup instructions.\n",
       "</p>\n",
       "<p>\n",
       "  If you're reading this message in another frontend (for example, a static\n",
       "  rendering on GitHub or <a href=\"https://nbviewer.jupyter.org/\">NBViewer</a>),\n",
       "  it may mean that your frontend doesn't currently support widgets.\n",
       "</p>\n"
      ],
      "text/plain": [
       "HBox(children=(IntProgress(value=0, description='Delay', max=1), HTML(value='')))"
      ]
     },
     "metadata": {},
     "output_type": "display_data"
    },
    {
     "name": "stdout",
     "output_type": "stream",
     "text": [
      "119 matching events found\n",
      "No baseline correction applied\n",
      "Not setting metadata\n",
      "0 projection items activated\n",
      "0 bad epochs dropped\n",
      "This filename (C:\\Users\\SMukherjee\\Desktop\\projects\\listen_italian_motor_entrainment\\analysis\\python/data/partialCoh/partialCoh-trailLen-2-removedFirst-0s-condition-hyper-delay-0s-Francesca.fif) does not conform to MNE naming conventions. All epochs files should end with -epo.fif or -epo.fif.gz\n",
      "This filename (C:\\Users\\SMukherjee\\Desktop\\projects\\listen_italian_motor_entrainment\\analysis\\python/data/partialCoh/partialCoh-trailLen-2-removedFirst-0s-condition-normal-delay-0s-Francesca.fif) does not conform to MNE naming conventions. All epochs files should end with -epo.fif or -epo.fif.gz\n",
      "This filename (C:\\Users\\SMukherjee\\Desktop\\projects\\listen_italian_motor_entrainment\\analysis\\python/data/partialCoh/partialCoh-trailLen-2-removedFirst-0s-condition-hypo-delay-0s-Francesca.fif) does not conform to MNE naming conventions. All epochs files should end with -epo.fif or -epo.fif.gz\n",
      "This filename (C:\\Users\\SMukherjee\\Desktop\\projects\\listen_italian_motor_entrainment\\analysis\\python/data/partialCoh/partialCoh-trailLen-2-removedFirst-0s-condition-All-delay-0s-Francesca.fif) does not conform to MNE naming conventions. All epochs files should end with -epo.fif or -epo.fif.gz\n"
     ]
    },
    {
     "data": {
      "application/vnd.jupyter.widget-view+json": {
       "model_id": "6c45e56335d548e1a1a8223ce492d168",
       "version_major": 2,
       "version_minor": 0
      },
      "text/html": [
       "<p>Failed to display Jupyter Widget of type <code>HBox</code>.</p>\n",
       "<p>\n",
       "  If you're reading this message in the Jupyter Notebook or JupyterLab Notebook, it may mean\n",
       "  that the widgets JavaScript is still loading. If this message persists, it\n",
       "  likely means that the widgets JavaScript library is either not installed or\n",
       "  not enabled. See the <a href=\"https://ipywidgets.readthedocs.io/en/stable/user_install.html\">Jupyter\n",
       "  Widgets Documentation</a> for setup instructions.\n",
       "</p>\n",
       "<p>\n",
       "  If you're reading this message in another frontend (for example, a static\n",
       "  rendering on GitHub or <a href=\"https://nbviewer.jupyter.org/\">NBViewer</a>),\n",
       "  it may mean that your frontend doesn't currently support widgets.\n",
       "</p>\n"
      ],
      "text/plain": [
       "HBox(children=(IntProgress(value=0, description='Delay', max=1), HTML(value='')))"
      ]
     },
     "metadata": {},
     "output_type": "display_data"
    },
    {
     "name": "stdout",
     "output_type": "stream",
     "text": [
      "120 matching events found\n",
      "No baseline correction applied\n",
      "Not setting metadata\n",
      "0 projection items activated\n",
      "0 bad epochs dropped\n",
      "This filename (C:\\Users\\SMukherjee\\Desktop\\projects\\listen_italian_motor_entrainment\\analysis\\python/data/partialCoh/partialCoh-trailLen-2-removedFirst-0s-condition-hyper-delay-0s-Gianluca1.fif) does not conform to MNE naming conventions. All epochs files should end with -epo.fif or -epo.fif.gz\n",
      "This filename (C:\\Users\\SMukherjee\\Desktop\\projects\\listen_italian_motor_entrainment\\analysis\\python/data/partialCoh/partialCoh-trailLen-2-removedFirst-0s-condition-normal-delay-0s-Gianluca1.fif) does not conform to MNE naming conventions. All epochs files should end with -epo.fif or -epo.fif.gz\n",
      "This filename (C:\\Users\\SMukherjee\\Desktop\\projects\\listen_italian_motor_entrainment\\analysis\\python/data/partialCoh/partialCoh-trailLen-2-removedFirst-0s-condition-hypo-delay-0s-Gianluca1.fif) does not conform to MNE naming conventions. All epochs files should end with -epo.fif or -epo.fif.gz\n",
      "This filename (C:\\Users\\SMukherjee\\Desktop\\projects\\listen_italian_motor_entrainment\\analysis\\python/data/partialCoh/partialCoh-trailLen-2-removedFirst-0s-condition-All-delay-0s-Gianluca1.fif) does not conform to MNE naming conventions. All epochs files should end with -epo.fif or -epo.fif.gz\n"
     ]
    },
    {
     "data": {
      "application/vnd.jupyter.widget-view+json": {
       "model_id": "1e59fd32fcf4487eba859b5a9022d365",
       "version_major": 2,
       "version_minor": 0
      },
      "text/html": [
       "<p>Failed to display Jupyter Widget of type <code>HBox</code>.</p>\n",
       "<p>\n",
       "  If you're reading this message in the Jupyter Notebook or JupyterLab Notebook, it may mean\n",
       "  that the widgets JavaScript is still loading. If this message persists, it\n",
       "  likely means that the widgets JavaScript library is either not installed or\n",
       "  not enabled. See the <a href=\"https://ipywidgets.readthedocs.io/en/stable/user_install.html\">Jupyter\n",
       "  Widgets Documentation</a> for setup instructions.\n",
       "</p>\n",
       "<p>\n",
       "  If you're reading this message in another frontend (for example, a static\n",
       "  rendering on GitHub or <a href=\"https://nbviewer.jupyter.org/\">NBViewer</a>),\n",
       "  it may mean that your frontend doesn't currently support widgets.\n",
       "</p>\n"
      ],
      "text/plain": [
       "HBox(children=(IntProgress(value=0, description='Delay', max=1), HTML(value='')))"
      ]
     },
     "metadata": {},
     "output_type": "display_data"
    },
    {
     "name": "stdout",
     "output_type": "stream",
     "text": [
      "121 matching events found\n",
      "No baseline correction applied\n",
      "Not setting metadata\n",
      "0 projection items activated\n",
      "0 bad epochs dropped\n",
      "This filename (C:\\Users\\SMukherjee\\Desktop\\projects\\listen_italian_motor_entrainment\\analysis\\python/data/partialCoh/partialCoh-trailLen-2-removedFirst-0s-condition-hyper-delay-0s-Giada.fif) does not conform to MNE naming conventions. All epochs files should end with -epo.fif or -epo.fif.gz\n",
      "This filename (C:\\Users\\SMukherjee\\Desktop\\projects\\listen_italian_motor_entrainment\\analysis\\python/data/partialCoh/partialCoh-trailLen-2-removedFirst-0s-condition-normal-delay-0s-Giada.fif) does not conform to MNE naming conventions. All epochs files should end with -epo.fif or -epo.fif.gz\n",
      "This filename (C:\\Users\\SMukherjee\\Desktop\\projects\\listen_italian_motor_entrainment\\analysis\\python/data/partialCoh/partialCoh-trailLen-2-removedFirst-0s-condition-hypo-delay-0s-Giada.fif) does not conform to MNE naming conventions. All epochs files should end with -epo.fif or -epo.fif.gz\n",
      "This filename (C:\\Users\\SMukherjee\\Desktop\\projects\\listen_italian_motor_entrainment\\analysis\\python/data/partialCoh/partialCoh-trailLen-2-removedFirst-0s-condition-All-delay-0s-Giada.fif) does not conform to MNE naming conventions. All epochs files should end with -epo.fif or -epo.fif.gz\n"
     ]
    },
    {
     "data": {
      "application/vnd.jupyter.widget-view+json": {
       "model_id": "2c6de7a6861d48eab788d35f4ba767ab",
       "version_major": 2,
       "version_minor": 0
      },
      "text/html": [
       "<p>Failed to display Jupyter Widget of type <code>HBox</code>.</p>\n",
       "<p>\n",
       "  If you're reading this message in the Jupyter Notebook or JupyterLab Notebook, it may mean\n",
       "  that the widgets JavaScript is still loading. If this message persists, it\n",
       "  likely means that the widgets JavaScript library is either not installed or\n",
       "  not enabled. See the <a href=\"https://ipywidgets.readthedocs.io/en/stable/user_install.html\">Jupyter\n",
       "  Widgets Documentation</a> for setup instructions.\n",
       "</p>\n",
       "<p>\n",
       "  If you're reading this message in another frontend (for example, a static\n",
       "  rendering on GitHub or <a href=\"https://nbviewer.jupyter.org/\">NBViewer</a>),\n",
       "  it may mean that your frontend doesn't currently support widgets.\n",
       "</p>\n"
      ],
      "text/plain": [
       "HBox(children=(IntProgress(value=0, description='Delay', max=1), HTML(value='')))"
      ]
     },
     "metadata": {},
     "output_type": "display_data"
    },
    {
     "name": "stdout",
     "output_type": "stream",
     "text": [
      "121 matching events found\n",
      "No baseline correction applied\n",
      "Not setting metadata\n",
      "0 projection items activated\n",
      "0 bad epochs dropped\n",
      "This filename (C:\\Users\\SMukherjee\\Desktop\\projects\\listen_italian_motor_entrainment\\analysis\\python/data/partialCoh/partialCoh-trailLen-2-removedFirst-0s-condition-hyper-delay-0s-Giorgia.fif) does not conform to MNE naming conventions. All epochs files should end with -epo.fif or -epo.fif.gz\n",
      "This filename (C:\\Users\\SMukherjee\\Desktop\\projects\\listen_italian_motor_entrainment\\analysis\\python/data/partialCoh/partialCoh-trailLen-2-removedFirst-0s-condition-normal-delay-0s-Giorgia.fif) does not conform to MNE naming conventions. All epochs files should end with -epo.fif or -epo.fif.gz\n",
      "This filename (C:\\Users\\SMukherjee\\Desktop\\projects\\listen_italian_motor_entrainment\\analysis\\python/data/partialCoh/partialCoh-trailLen-2-removedFirst-0s-condition-hypo-delay-0s-Giorgia.fif) does not conform to MNE naming conventions. All epochs files should end with -epo.fif or -epo.fif.gz\n",
      "This filename (C:\\Users\\SMukherjee\\Desktop\\projects\\listen_italian_motor_entrainment\\analysis\\python/data/partialCoh/partialCoh-trailLen-2-removedFirst-0s-condition-All-delay-0s-Giorgia.fif) does not conform to MNE naming conventions. All epochs files should end with -epo.fif or -epo.fif.gz\n"
     ]
    },
    {
     "data": {
      "application/vnd.jupyter.widget-view+json": {
       "model_id": "b36d5b641a1b465394fa0fc048476a1c",
       "version_major": 2,
       "version_minor": 0
      },
      "text/html": [
       "<p>Failed to display Jupyter Widget of type <code>HBox</code>.</p>\n",
       "<p>\n",
       "  If you're reading this message in the Jupyter Notebook or JupyterLab Notebook, it may mean\n",
       "  that the widgets JavaScript is still loading. If this message persists, it\n",
       "  likely means that the widgets JavaScript library is either not installed or\n",
       "  not enabled. See the <a href=\"https://ipywidgets.readthedocs.io/en/stable/user_install.html\">Jupyter\n",
       "  Widgets Documentation</a> for setup instructions.\n",
       "</p>\n",
       "<p>\n",
       "  If you're reading this message in another frontend (for example, a static\n",
       "  rendering on GitHub or <a href=\"https://nbviewer.jupyter.org/\">NBViewer</a>),\n",
       "  it may mean that your frontend doesn't currently support widgets.\n",
       "</p>\n"
      ],
      "text/plain": [
       "HBox(children=(IntProgress(value=0, description='Delay', max=1), HTML(value='')))"
      ]
     },
     "metadata": {},
     "output_type": "display_data"
    },
    {
     "name": "stdout",
     "output_type": "stream",
     "text": [
      "110 matching events found\n",
      "No baseline correction applied\n",
      "Not setting metadata\n",
      "0 projection items activated\n",
      "0 bad epochs dropped\n",
      "This filename (C:\\Users\\SMukherjee\\Desktop\\projects\\listen_italian_motor_entrainment\\analysis\\python/data/partialCoh/partialCoh-trailLen-2-removedFirst-0s-condition-hyper-delay-0s-Jonluca.fif) does not conform to MNE naming conventions. All epochs files should end with -epo.fif or -epo.fif.gz\n",
      "This filename (C:\\Users\\SMukherjee\\Desktop\\projects\\listen_italian_motor_entrainment\\analysis\\python/data/partialCoh/partialCoh-trailLen-2-removedFirst-0s-condition-normal-delay-0s-Jonluca.fif) does not conform to MNE naming conventions. All epochs files should end with -epo.fif or -epo.fif.gz\n",
      "This filename (C:\\Users\\SMukherjee\\Desktop\\projects\\listen_italian_motor_entrainment\\analysis\\python/data/partialCoh/partialCoh-trailLen-2-removedFirst-0s-condition-hypo-delay-0s-Jonluca.fif) does not conform to MNE naming conventions. All epochs files should end with -epo.fif or -epo.fif.gz\n",
      "This filename (C:\\Users\\SMukherjee\\Desktop\\projects\\listen_italian_motor_entrainment\\analysis\\python/data/partialCoh/partialCoh-trailLen-2-removedFirst-0s-condition-All-delay-0s-Jonluca.fif) does not conform to MNE naming conventions. All epochs files should end with -epo.fif or -epo.fif.gz\n"
     ]
    },
    {
     "data": {
      "application/vnd.jupyter.widget-view+json": {
       "model_id": "730e4aa86e6a4ba4947eeb4e4fe37219",
       "version_major": 2,
       "version_minor": 0
      },
      "text/html": [
       "<p>Failed to display Jupyter Widget of type <code>HBox</code>.</p>\n",
       "<p>\n",
       "  If you're reading this message in the Jupyter Notebook or JupyterLab Notebook, it may mean\n",
       "  that the widgets JavaScript is still loading. If this message persists, it\n",
       "  likely means that the widgets JavaScript library is either not installed or\n",
       "  not enabled. See the <a href=\"https://ipywidgets.readthedocs.io/en/stable/user_install.html\">Jupyter\n",
       "  Widgets Documentation</a> for setup instructions.\n",
       "</p>\n",
       "<p>\n",
       "  If you're reading this message in another frontend (for example, a static\n",
       "  rendering on GitHub or <a href=\"https://nbviewer.jupyter.org/\">NBViewer</a>),\n",
       "  it may mean that your frontend doesn't currently support widgets.\n",
       "</p>\n"
      ],
      "text/plain": [
       "HBox(children=(IntProgress(value=0, description='Delay', max=1), HTML(value='')))"
      ]
     },
     "metadata": {},
     "output_type": "display_data"
    },
    {
     "name": "stdout",
     "output_type": "stream",
     "text": [
      "120 matching events found\n",
      "No baseline correction applied\n",
      "Not setting metadata\n",
      "0 projection items activated\n",
      "0 bad epochs dropped\n",
      "This filename (C:\\Users\\SMukherjee\\Desktop\\projects\\listen_italian_motor_entrainment\\analysis\\python/data/partialCoh/partialCoh-trailLen-2-removedFirst-0s-condition-hyper-delay-0s-Laura.fif) does not conform to MNE naming conventions. All epochs files should end with -epo.fif or -epo.fif.gz\n",
      "This filename (C:\\Users\\SMukherjee\\Desktop\\projects\\listen_italian_motor_entrainment\\analysis\\python/data/partialCoh/partialCoh-trailLen-2-removedFirst-0s-condition-normal-delay-0s-Laura.fif) does not conform to MNE naming conventions. All epochs files should end with -epo.fif or -epo.fif.gz\n",
      "This filename (C:\\Users\\SMukherjee\\Desktop\\projects\\listen_italian_motor_entrainment\\analysis\\python/data/partialCoh/partialCoh-trailLen-2-removedFirst-0s-condition-hypo-delay-0s-Laura.fif) does not conform to MNE naming conventions. All epochs files should end with -epo.fif or -epo.fif.gz\n",
      "This filename (C:\\Users\\SMukherjee\\Desktop\\projects\\listen_italian_motor_entrainment\\analysis\\python/data/partialCoh/partialCoh-trailLen-2-removedFirst-0s-condition-All-delay-0s-Laura.fif) does not conform to MNE naming conventions. All epochs files should end with -epo.fif or -epo.fif.gz\n"
     ]
    },
    {
     "data": {
      "application/vnd.jupyter.widget-view+json": {
       "model_id": "d54be2c341024387bc4ad252429721f4",
       "version_major": 2,
       "version_minor": 0
      },
      "text/html": [
       "<p>Failed to display Jupyter Widget of type <code>HBox</code>.</p>\n",
       "<p>\n",
       "  If you're reading this message in the Jupyter Notebook or JupyterLab Notebook, it may mean\n",
       "  that the widgets JavaScript is still loading. If this message persists, it\n",
       "  likely means that the widgets JavaScript library is either not installed or\n",
       "  not enabled. See the <a href=\"https://ipywidgets.readthedocs.io/en/stable/user_install.html\">Jupyter\n",
       "  Widgets Documentation</a> for setup instructions.\n",
       "</p>\n",
       "<p>\n",
       "  If you're reading this message in another frontend (for example, a static\n",
       "  rendering on GitHub or <a href=\"https://nbviewer.jupyter.org/\">NBViewer</a>),\n",
       "  it may mean that your frontend doesn't currently support widgets.\n",
       "</p>\n"
      ],
      "text/plain": [
       "HBox(children=(IntProgress(value=0, description='Delay', max=1), HTML(value='')))"
      ]
     },
     "metadata": {},
     "output_type": "display_data"
    },
    {
     "name": "stdout",
     "output_type": "stream",
     "text": [
      "119 matching events found\n",
      "No baseline correction applied\n",
      "Not setting metadata\n",
      "0 projection items activated\n",
      "0 bad epochs dropped\n",
      "This filename (C:\\Users\\SMukherjee\\Desktop\\projects\\listen_italian_motor_entrainment\\analysis\\python/data/partialCoh/partialCoh-trailLen-2-removedFirst-0s-condition-hyper-delay-0s-Leonardo.fif) does not conform to MNE naming conventions. All epochs files should end with -epo.fif or -epo.fif.gz\n",
      "This filename (C:\\Users\\SMukherjee\\Desktop\\projects\\listen_italian_motor_entrainment\\analysis\\python/data/partialCoh/partialCoh-trailLen-2-removedFirst-0s-condition-normal-delay-0s-Leonardo.fif) does not conform to MNE naming conventions. All epochs files should end with -epo.fif or -epo.fif.gz\n",
      "This filename (C:\\Users\\SMukherjee\\Desktop\\projects\\listen_italian_motor_entrainment\\analysis\\python/data/partialCoh/partialCoh-trailLen-2-removedFirst-0s-condition-hypo-delay-0s-Leonardo.fif) does not conform to MNE naming conventions. All epochs files should end with -epo.fif or -epo.fif.gz\n",
      "This filename (C:\\Users\\SMukherjee\\Desktop\\projects\\listen_italian_motor_entrainment\\analysis\\python/data/partialCoh/partialCoh-trailLen-2-removedFirst-0s-condition-All-delay-0s-Leonardo.fif) does not conform to MNE naming conventions. All epochs files should end with -epo.fif or -epo.fif.gz\n"
     ]
    },
    {
     "data": {
      "application/vnd.jupyter.widget-view+json": {
       "model_id": "a58ddf345a76491bbc6f12dded467de6",
       "version_major": 2,
       "version_minor": 0
      },
      "text/html": [
       "<p>Failed to display Jupyter Widget of type <code>HBox</code>.</p>\n",
       "<p>\n",
       "  If you're reading this message in the Jupyter Notebook or JupyterLab Notebook, it may mean\n",
       "  that the widgets JavaScript is still loading. If this message persists, it\n",
       "  likely means that the widgets JavaScript library is either not installed or\n",
       "  not enabled. See the <a href=\"https://ipywidgets.readthedocs.io/en/stable/user_install.html\">Jupyter\n",
       "  Widgets Documentation</a> for setup instructions.\n",
       "</p>\n",
       "<p>\n",
       "  If you're reading this message in another frontend (for example, a static\n",
       "  rendering on GitHub or <a href=\"https://nbviewer.jupyter.org/\">NBViewer</a>),\n",
       "  it may mean that your frontend doesn't currently support widgets.\n",
       "</p>\n"
      ],
      "text/plain": [
       "HBox(children=(IntProgress(value=0, description='Delay', max=1), HTML(value='')))"
      ]
     },
     "metadata": {},
     "output_type": "display_data"
    },
    {
     "name": "stdout",
     "output_type": "stream",
     "text": [
      "114 matching events found\n",
      "No baseline correction applied\n",
      "Not setting metadata\n",
      "0 projection items activated\n",
      "0 bad epochs dropped\n",
      "This filename (C:\\Users\\SMukherjee\\Desktop\\projects\\listen_italian_motor_entrainment\\analysis\\python/data/partialCoh/partialCoh-trailLen-2-removedFirst-0s-condition-hyper-delay-0s-Linda.fif) does not conform to MNE naming conventions. All epochs files should end with -epo.fif or -epo.fif.gz\n",
      "This filename (C:\\Users\\SMukherjee\\Desktop\\projects\\listen_italian_motor_entrainment\\analysis\\python/data/partialCoh/partialCoh-trailLen-2-removedFirst-0s-condition-normal-delay-0s-Linda.fif) does not conform to MNE naming conventions. All epochs files should end with -epo.fif or -epo.fif.gz\n",
      "This filename (C:\\Users\\SMukherjee\\Desktop\\projects\\listen_italian_motor_entrainment\\analysis\\python/data/partialCoh/partialCoh-trailLen-2-removedFirst-0s-condition-hypo-delay-0s-Linda.fif) does not conform to MNE naming conventions. All epochs files should end with -epo.fif or -epo.fif.gz\n",
      "This filename (C:\\Users\\SMukherjee\\Desktop\\projects\\listen_italian_motor_entrainment\\analysis\\python/data/partialCoh/partialCoh-trailLen-2-removedFirst-0s-condition-All-delay-0s-Linda.fif) does not conform to MNE naming conventions. All epochs files should end with -epo.fif or -epo.fif.gz\n"
     ]
    },
    {
     "data": {
      "application/vnd.jupyter.widget-view+json": {
       "model_id": "8ee3a4db0c96442b94bb6ddeeda0b224",
       "version_major": 2,
       "version_minor": 0
      },
      "text/html": [
       "<p>Failed to display Jupyter Widget of type <code>HBox</code>.</p>\n",
       "<p>\n",
       "  If you're reading this message in the Jupyter Notebook or JupyterLab Notebook, it may mean\n",
       "  that the widgets JavaScript is still loading. If this message persists, it\n",
       "  likely means that the widgets JavaScript library is either not installed or\n",
       "  not enabled. See the <a href=\"https://ipywidgets.readthedocs.io/en/stable/user_install.html\">Jupyter\n",
       "  Widgets Documentation</a> for setup instructions.\n",
       "</p>\n",
       "<p>\n",
       "  If you're reading this message in another frontend (for example, a static\n",
       "  rendering on GitHub or <a href=\"https://nbviewer.jupyter.org/\">NBViewer</a>),\n",
       "  it may mean that your frontend doesn't currently support widgets.\n",
       "</p>\n"
      ],
      "text/plain": [
       "HBox(children=(IntProgress(value=0, description='Delay', max=1), HTML(value='')))"
      ]
     },
     "metadata": {},
     "output_type": "display_data"
    },
    {
     "name": "stdout",
     "output_type": "stream",
     "text": [
      "123 matching events found\n",
      "No baseline correction applied\n",
      "Not setting metadata\n",
      "0 projection items activated\n",
      "0 bad epochs dropped\n",
      "This filename (C:\\Users\\SMukherjee\\Desktop\\projects\\listen_italian_motor_entrainment\\analysis\\python/data/partialCoh/partialCoh-trailLen-2-removedFirst-0s-condition-hyper-delay-0s-Lucrezia.fif) does not conform to MNE naming conventions. All epochs files should end with -epo.fif or -epo.fif.gz\n",
      "This filename (C:\\Users\\SMukherjee\\Desktop\\projects\\listen_italian_motor_entrainment\\analysis\\python/data/partialCoh/partialCoh-trailLen-2-removedFirst-0s-condition-normal-delay-0s-Lucrezia.fif) does not conform to MNE naming conventions. All epochs files should end with -epo.fif or -epo.fif.gz\n",
      "This filename (C:\\Users\\SMukherjee\\Desktop\\projects\\listen_italian_motor_entrainment\\analysis\\python/data/partialCoh/partialCoh-trailLen-2-removedFirst-0s-condition-hypo-delay-0s-Lucrezia.fif) does not conform to MNE naming conventions. All epochs files should end with -epo.fif or -epo.fif.gz\n",
      "This filename (C:\\Users\\SMukherjee\\Desktop\\projects\\listen_italian_motor_entrainment\\analysis\\python/data/partialCoh/partialCoh-trailLen-2-removedFirst-0s-condition-All-delay-0s-Lucrezia.fif) does not conform to MNE naming conventions. All epochs files should end with -epo.fif or -epo.fif.gz\n"
     ]
    },
    {
     "data": {
      "application/vnd.jupyter.widget-view+json": {
       "model_id": "78f218f8f4b144ac8b5f8b0f8d585fd3",
       "version_major": 2,
       "version_minor": 0
      },
      "text/html": [
       "<p>Failed to display Jupyter Widget of type <code>HBox</code>.</p>\n",
       "<p>\n",
       "  If you're reading this message in the Jupyter Notebook or JupyterLab Notebook, it may mean\n",
       "  that the widgets JavaScript is still loading. If this message persists, it\n",
       "  likely means that the widgets JavaScript library is either not installed or\n",
       "  not enabled. See the <a href=\"https://ipywidgets.readthedocs.io/en/stable/user_install.html\">Jupyter\n",
       "  Widgets Documentation</a> for setup instructions.\n",
       "</p>\n",
       "<p>\n",
       "  If you're reading this message in another frontend (for example, a static\n",
       "  rendering on GitHub or <a href=\"https://nbviewer.jupyter.org/\">NBViewer</a>),\n",
       "  it may mean that your frontend doesn't currently support widgets.\n",
       "</p>\n"
      ],
      "text/plain": [
       "HBox(children=(IntProgress(value=0, description='Delay', max=1), HTML(value='')))"
      ]
     },
     "metadata": {},
     "output_type": "display_data"
    },
    {
     "name": "stdout",
     "output_type": "stream",
     "text": [
      "120 matching events found\n",
      "No baseline correction applied\n",
      "Not setting metadata\n",
      "0 projection items activated\n",
      "0 bad epochs dropped\n",
      "This filename (C:\\Users\\SMukherjee\\Desktop\\projects\\listen_italian_motor_entrainment\\analysis\\python/data/partialCoh/partialCoh-trailLen-2-removedFirst-0s-condition-hyper-delay-0s-Manu.fif) does not conform to MNE naming conventions. All epochs files should end with -epo.fif or -epo.fif.gz\n",
      "This filename (C:\\Users\\SMukherjee\\Desktop\\projects\\listen_italian_motor_entrainment\\analysis\\python/data/partialCoh/partialCoh-trailLen-2-removedFirst-0s-condition-normal-delay-0s-Manu.fif) does not conform to MNE naming conventions. All epochs files should end with -epo.fif or -epo.fif.gz\n",
      "This filename (C:\\Users\\SMukherjee\\Desktop\\projects\\listen_italian_motor_entrainment\\analysis\\python/data/partialCoh/partialCoh-trailLen-2-removedFirst-0s-condition-hypo-delay-0s-Manu.fif) does not conform to MNE naming conventions. All epochs files should end with -epo.fif or -epo.fif.gz\n",
      "This filename (C:\\Users\\SMukherjee\\Desktop\\projects\\listen_italian_motor_entrainment\\analysis\\python/data/partialCoh/partialCoh-trailLen-2-removedFirst-0s-condition-All-delay-0s-Manu.fif) does not conform to MNE naming conventions. All epochs files should end with -epo.fif or -epo.fif.gz\n"
     ]
    },
    {
     "data": {
      "application/vnd.jupyter.widget-view+json": {
       "model_id": "cca2e202f60746b68464d8565a5c3c21",
       "version_major": 2,
       "version_minor": 0
      },
      "text/html": [
       "<p>Failed to display Jupyter Widget of type <code>HBox</code>.</p>\n",
       "<p>\n",
       "  If you're reading this message in the Jupyter Notebook or JupyterLab Notebook, it may mean\n",
       "  that the widgets JavaScript is still loading. If this message persists, it\n",
       "  likely means that the widgets JavaScript library is either not installed or\n",
       "  not enabled. See the <a href=\"https://ipywidgets.readthedocs.io/en/stable/user_install.html\">Jupyter\n",
       "  Widgets Documentation</a> for setup instructions.\n",
       "</p>\n",
       "<p>\n",
       "  If you're reading this message in another frontend (for example, a static\n",
       "  rendering on GitHub or <a href=\"https://nbviewer.jupyter.org/\">NBViewer</a>),\n",
       "  it may mean that your frontend doesn't currently support widgets.\n",
       "</p>\n"
      ],
      "text/plain": [
       "HBox(children=(IntProgress(value=0, description='Delay', max=1), HTML(value='')))"
      ]
     },
     "metadata": {},
     "output_type": "display_data"
    },
    {
     "name": "stdout",
     "output_type": "stream",
     "text": [
      "114 matching events found\n",
      "No baseline correction applied\n",
      "Not setting metadata\n",
      "0 projection items activated\n",
      "0 bad epochs dropped\n",
      "This filename (C:\\Users\\SMukherjee\\Desktop\\projects\\listen_italian_motor_entrainment\\analysis\\python/data/partialCoh/partialCoh-trailLen-2-removedFirst-0s-condition-hyper-delay-0s-Marco.fif) does not conform to MNE naming conventions. All epochs files should end with -epo.fif or -epo.fif.gz\n",
      "This filename (C:\\Users\\SMukherjee\\Desktop\\projects\\listen_italian_motor_entrainment\\analysis\\python/data/partialCoh/partialCoh-trailLen-2-removedFirst-0s-condition-normal-delay-0s-Marco.fif) does not conform to MNE naming conventions. All epochs files should end with -epo.fif or -epo.fif.gz\n",
      "This filename (C:\\Users\\SMukherjee\\Desktop\\projects\\listen_italian_motor_entrainment\\analysis\\python/data/partialCoh/partialCoh-trailLen-2-removedFirst-0s-condition-hypo-delay-0s-Marco.fif) does not conform to MNE naming conventions. All epochs files should end with -epo.fif or -epo.fif.gz\n",
      "This filename (C:\\Users\\SMukherjee\\Desktop\\projects\\listen_italian_motor_entrainment\\analysis\\python/data/partialCoh/partialCoh-trailLen-2-removedFirst-0s-condition-All-delay-0s-Marco.fif) does not conform to MNE naming conventions. All epochs files should end with -epo.fif or -epo.fif.gz\n"
     ]
    },
    {
     "data": {
      "application/vnd.jupyter.widget-view+json": {
       "model_id": "ac19ff2a0bbb4f31aebb3b92f919bbf4",
       "version_major": 2,
       "version_minor": 0
      },
      "text/html": [
       "<p>Failed to display Jupyter Widget of type <code>HBox</code>.</p>\n",
       "<p>\n",
       "  If you're reading this message in the Jupyter Notebook or JupyterLab Notebook, it may mean\n",
       "  that the widgets JavaScript is still loading. If this message persists, it\n",
       "  likely means that the widgets JavaScript library is either not installed or\n",
       "  not enabled. See the <a href=\"https://ipywidgets.readthedocs.io/en/stable/user_install.html\">Jupyter\n",
       "  Widgets Documentation</a> for setup instructions.\n",
       "</p>\n",
       "<p>\n",
       "  If you're reading this message in another frontend (for example, a static\n",
       "  rendering on GitHub or <a href=\"https://nbviewer.jupyter.org/\">NBViewer</a>),\n",
       "  it may mean that your frontend doesn't currently support widgets.\n",
       "</p>\n"
      ],
      "text/plain": [
       "HBox(children=(IntProgress(value=0, description='Delay', max=1), HTML(value='')))"
      ]
     },
     "metadata": {},
     "output_type": "display_data"
    },
    {
     "name": "stdout",
     "output_type": "stream",
     "text": [
      "123 matching events found\n",
      "No baseline correction applied\n",
      "Not setting metadata\n",
      "0 projection items activated\n",
      "0 bad epochs dropped\n",
      "This filename (C:\\Users\\SMukherjee\\Desktop\\projects\\listen_italian_motor_entrainment\\analysis\\python/data/partialCoh/partialCoh-trailLen-2-removedFirst-0s-condition-hyper-delay-0s-Martina.fif) does not conform to MNE naming conventions. All epochs files should end with -epo.fif or -epo.fif.gz\n",
      "This filename (C:\\Users\\SMukherjee\\Desktop\\projects\\listen_italian_motor_entrainment\\analysis\\python/data/partialCoh/partialCoh-trailLen-2-removedFirst-0s-condition-normal-delay-0s-Martina.fif) does not conform to MNE naming conventions. All epochs files should end with -epo.fif or -epo.fif.gz\n",
      "This filename (C:\\Users\\SMukherjee\\Desktop\\projects\\listen_italian_motor_entrainment\\analysis\\python/data/partialCoh/partialCoh-trailLen-2-removedFirst-0s-condition-hypo-delay-0s-Martina.fif) does not conform to MNE naming conventions. All epochs files should end with -epo.fif or -epo.fif.gz\n",
      "This filename (C:\\Users\\SMukherjee\\Desktop\\projects\\listen_italian_motor_entrainment\\analysis\\python/data/partialCoh/partialCoh-trailLen-2-removedFirst-0s-condition-All-delay-0s-Martina.fif) does not conform to MNE naming conventions. All epochs files should end with -epo.fif or -epo.fif.gz\n"
     ]
    },
    {
     "data": {
      "application/vnd.jupyter.widget-view+json": {
       "model_id": "16a441b4d8a44cf0a3bfc57c7f0adad8",
       "version_major": 2,
       "version_minor": 0
      },
      "text/html": [
       "<p>Failed to display Jupyter Widget of type <code>HBox</code>.</p>\n",
       "<p>\n",
       "  If you're reading this message in the Jupyter Notebook or JupyterLab Notebook, it may mean\n",
       "  that the widgets JavaScript is still loading. If this message persists, it\n",
       "  likely means that the widgets JavaScript library is either not installed or\n",
       "  not enabled. See the <a href=\"https://ipywidgets.readthedocs.io/en/stable/user_install.html\">Jupyter\n",
       "  Widgets Documentation</a> for setup instructions.\n",
       "</p>\n",
       "<p>\n",
       "  If you're reading this message in another frontend (for example, a static\n",
       "  rendering on GitHub or <a href=\"https://nbviewer.jupyter.org/\">NBViewer</a>),\n",
       "  it may mean that your frontend doesn't currently support widgets.\n",
       "</p>\n"
      ],
      "text/plain": [
       "HBox(children=(IntProgress(value=0, description='Delay', max=1), HTML(value='')))"
      ]
     },
     "metadata": {},
     "output_type": "display_data"
    },
    {
     "name": "stdout",
     "output_type": "stream",
     "text": [
      "122 matching events found\n",
      "No baseline correction applied\n",
      "Not setting metadata\n",
      "0 projection items activated\n",
      "0 bad epochs dropped\n",
      "This filename (C:\\Users\\SMukherjee\\Desktop\\projects\\listen_italian_motor_entrainment\\analysis\\python/data/partialCoh/partialCoh-trailLen-2-removedFirst-0s-condition-hyper-delay-0s-Pagani.fif) does not conform to MNE naming conventions. All epochs files should end with -epo.fif or -epo.fif.gz\n",
      "This filename (C:\\Users\\SMukherjee\\Desktop\\projects\\listen_italian_motor_entrainment\\analysis\\python/data/partialCoh/partialCoh-trailLen-2-removedFirst-0s-condition-normal-delay-0s-Pagani.fif) does not conform to MNE naming conventions. All epochs files should end with -epo.fif or -epo.fif.gz\n",
      "This filename (C:\\Users\\SMukherjee\\Desktop\\projects\\listen_italian_motor_entrainment\\analysis\\python/data/partialCoh/partialCoh-trailLen-2-removedFirst-0s-condition-hypo-delay-0s-Pagani.fif) does not conform to MNE naming conventions. All epochs files should end with -epo.fif or -epo.fif.gz\n",
      "This filename (C:\\Users\\SMukherjee\\Desktop\\projects\\listen_italian_motor_entrainment\\analysis\\python/data/partialCoh/partialCoh-trailLen-2-removedFirst-0s-condition-All-delay-0s-Pagani.fif) does not conform to MNE naming conventions. All epochs files should end with -epo.fif or -epo.fif.gz\n"
     ]
    },
    {
     "data": {
      "application/vnd.jupyter.widget-view+json": {
       "model_id": "b22362c6bdba4651b6a27f72cab77fd1",
       "version_major": 2,
       "version_minor": 0
      },
      "text/html": [
       "<p>Failed to display Jupyter Widget of type <code>HBox</code>.</p>\n",
       "<p>\n",
       "  If you're reading this message in the Jupyter Notebook or JupyterLab Notebook, it may mean\n",
       "  that the widgets JavaScript is still loading. If this message persists, it\n",
       "  likely means that the widgets JavaScript library is either not installed or\n",
       "  not enabled. See the <a href=\"https://ipywidgets.readthedocs.io/en/stable/user_install.html\">Jupyter\n",
       "  Widgets Documentation</a> for setup instructions.\n",
       "</p>\n",
       "<p>\n",
       "  If you're reading this message in another frontend (for example, a static\n",
       "  rendering on GitHub or <a href=\"https://nbviewer.jupyter.org/\">NBViewer</a>),\n",
       "  it may mean that your frontend doesn't currently support widgets.\n",
       "</p>\n"
      ],
      "text/plain": [
       "HBox(children=(IntProgress(value=0, description='Delay', max=1), HTML(value='')))"
      ]
     },
     "metadata": {},
     "output_type": "display_data"
    },
    {
     "name": "stdout",
     "output_type": "stream",
     "text": [
      "117 matching events found\n",
      "No baseline correction applied\n",
      "Not setting metadata\n",
      "0 projection items activated\n",
      "0 bad epochs dropped\n",
      "This filename (C:\\Users\\SMukherjee\\Desktop\\projects\\listen_italian_motor_entrainment\\analysis\\python/data/partialCoh/partialCoh-trailLen-2-removedFirst-0s-condition-hyper-delay-0s-Pasquale.fif) does not conform to MNE naming conventions. All epochs files should end with -epo.fif or -epo.fif.gz\n",
      "This filename (C:\\Users\\SMukherjee\\Desktop\\projects\\listen_italian_motor_entrainment\\analysis\\python/data/partialCoh/partialCoh-trailLen-2-removedFirst-0s-condition-normal-delay-0s-Pasquale.fif) does not conform to MNE naming conventions. All epochs files should end with -epo.fif or -epo.fif.gz\n",
      "This filename (C:\\Users\\SMukherjee\\Desktop\\projects\\listen_italian_motor_entrainment\\analysis\\python/data/partialCoh/partialCoh-trailLen-2-removedFirst-0s-condition-hypo-delay-0s-Pasquale.fif) does not conform to MNE naming conventions. All epochs files should end with -epo.fif or -epo.fif.gz\n",
      "This filename (C:\\Users\\SMukherjee\\Desktop\\projects\\listen_italian_motor_entrainment\\analysis\\python/data/partialCoh/partialCoh-trailLen-2-removedFirst-0s-condition-All-delay-0s-Pasquale.fif) does not conform to MNE naming conventions. All epochs files should end with -epo.fif or -epo.fif.gz\n"
     ]
    },
    {
     "data": {
      "application/vnd.jupyter.widget-view+json": {
       "model_id": "8254e921a3ff41c9ad4e7901654724bd",
       "version_major": 2,
       "version_minor": 0
      },
      "text/html": [
       "<p>Failed to display Jupyter Widget of type <code>HBox</code>.</p>\n",
       "<p>\n",
       "  If you're reading this message in the Jupyter Notebook or JupyterLab Notebook, it may mean\n",
       "  that the widgets JavaScript is still loading. If this message persists, it\n",
       "  likely means that the widgets JavaScript library is either not installed or\n",
       "  not enabled. See the <a href=\"https://ipywidgets.readthedocs.io/en/stable/user_install.html\">Jupyter\n",
       "  Widgets Documentation</a> for setup instructions.\n",
       "</p>\n",
       "<p>\n",
       "  If you're reading this message in another frontend (for example, a static\n",
       "  rendering on GitHub or <a href=\"https://nbviewer.jupyter.org/\">NBViewer</a>),\n",
       "  it may mean that your frontend doesn't currently support widgets.\n",
       "</p>\n"
      ],
      "text/plain": [
       "HBox(children=(IntProgress(value=0, description='Delay', max=1), HTML(value='')))"
      ]
     },
     "metadata": {},
     "output_type": "display_data"
    },
    {
     "name": "stdout",
     "output_type": "stream",
     "text": [
      "120 matching events found\n",
      "No baseline correction applied\n",
      "Not setting metadata\n",
      "0 projection items activated\n",
      "0 bad epochs dropped\n",
      "This filename (C:\\Users\\SMukherjee\\Desktop\\projects\\listen_italian_motor_entrainment\\analysis\\python/data/partialCoh/partialCoh-trailLen-2-removedFirst-0s-condition-hyper-delay-0s-Sara.fif) does not conform to MNE naming conventions. All epochs files should end with -epo.fif or -epo.fif.gz\n",
      "This filename (C:\\Users\\SMukherjee\\Desktop\\projects\\listen_italian_motor_entrainment\\analysis\\python/data/partialCoh/partialCoh-trailLen-2-removedFirst-0s-condition-normal-delay-0s-Sara.fif) does not conform to MNE naming conventions. All epochs files should end with -epo.fif or -epo.fif.gz\n",
      "This filename (C:\\Users\\SMukherjee\\Desktop\\projects\\listen_italian_motor_entrainment\\analysis\\python/data/partialCoh/partialCoh-trailLen-2-removedFirst-0s-condition-hypo-delay-0s-Sara.fif) does not conform to MNE naming conventions. All epochs files should end with -epo.fif or -epo.fif.gz\n",
      "This filename (C:\\Users\\SMukherjee\\Desktop\\projects\\listen_italian_motor_entrainment\\analysis\\python/data/partialCoh/partialCoh-trailLen-2-removedFirst-0s-condition-All-delay-0s-Sara.fif) does not conform to MNE naming conventions. All epochs files should end with -epo.fif or -epo.fif.gz\n"
     ]
    },
    {
     "data": {
      "application/vnd.jupyter.widget-view+json": {
       "model_id": "34974910e1094d92958d1e84bebc61a1",
       "version_major": 2,
       "version_minor": 0
      },
      "text/html": [
       "<p>Failed to display Jupyter Widget of type <code>HBox</code>.</p>\n",
       "<p>\n",
       "  If you're reading this message in the Jupyter Notebook or JupyterLab Notebook, it may mean\n",
       "  that the widgets JavaScript is still loading. If this message persists, it\n",
       "  likely means that the widgets JavaScript library is either not installed or\n",
       "  not enabled. See the <a href=\"https://ipywidgets.readthedocs.io/en/stable/user_install.html\">Jupyter\n",
       "  Widgets Documentation</a> for setup instructions.\n",
       "</p>\n",
       "<p>\n",
       "  If you're reading this message in another frontend (for example, a static\n",
       "  rendering on GitHub or <a href=\"https://nbviewer.jupyter.org/\">NBViewer</a>),\n",
       "  it may mean that your frontend doesn't currently support widgets.\n",
       "</p>\n"
      ],
      "text/plain": [
       "HBox(children=(IntProgress(value=0, description='Delay', max=1), HTML(value='')))"
      ]
     },
     "metadata": {},
     "output_type": "display_data"
    },
    {
     "name": "stdout",
     "output_type": "stream",
     "text": [
      "120 matching events found\n",
      "No baseline correction applied\n",
      "Not setting metadata\n",
      "0 projection items activated\n",
      "0 bad epochs dropped\n",
      "This filename (C:\\Users\\SMukherjee\\Desktop\\projects\\listen_italian_motor_entrainment\\analysis\\python/data/partialCoh/partialCoh-trailLen-2-removedFirst-0s-condition-hyper-delay-0s-Silvia.fif) does not conform to MNE naming conventions. All epochs files should end with -epo.fif or -epo.fif.gz\n",
      "This filename (C:\\Users\\SMukherjee\\Desktop\\projects\\listen_italian_motor_entrainment\\analysis\\python/data/partialCoh/partialCoh-trailLen-2-removedFirst-0s-condition-normal-delay-0s-Silvia.fif) does not conform to MNE naming conventions. All epochs files should end with -epo.fif or -epo.fif.gz\n",
      "This filename (C:\\Users\\SMukherjee\\Desktop\\projects\\listen_italian_motor_entrainment\\analysis\\python/data/partialCoh/partialCoh-trailLen-2-removedFirst-0s-condition-hypo-delay-0s-Silvia.fif) does not conform to MNE naming conventions. All epochs files should end with -epo.fif or -epo.fif.gz\n",
      "This filename (C:\\Users\\SMukherjee\\Desktop\\projects\\listen_italian_motor_entrainment\\analysis\\python/data/partialCoh/partialCoh-trailLen-2-removedFirst-0s-condition-All-delay-0s-Silvia.fif) does not conform to MNE naming conventions. All epochs files should end with -epo.fif or -epo.fif.gz\n"
     ]
    },
    {
     "data": {
      "application/vnd.jupyter.widget-view+json": {
       "model_id": "5df8731b0c0445cfa08268900ccd141a",
       "version_major": 2,
       "version_minor": 0
      },
      "text/html": [
       "<p>Failed to display Jupyter Widget of type <code>HBox</code>.</p>\n",
       "<p>\n",
       "  If you're reading this message in the Jupyter Notebook or JupyterLab Notebook, it may mean\n",
       "  that the widgets JavaScript is still loading. If this message persists, it\n",
       "  likely means that the widgets JavaScript library is either not installed or\n",
       "  not enabled. See the <a href=\"https://ipywidgets.readthedocs.io/en/stable/user_install.html\">Jupyter\n",
       "  Widgets Documentation</a> for setup instructions.\n",
       "</p>\n",
       "<p>\n",
       "  If you're reading this message in another frontend (for example, a static\n",
       "  rendering on GitHub or <a href=\"https://nbviewer.jupyter.org/\">NBViewer</a>),\n",
       "  it may mean that your frontend doesn't currently support widgets.\n",
       "</p>\n"
      ],
      "text/plain": [
       "HBox(children=(IntProgress(value=0, description='Delay', max=1), HTML(value='')))"
      ]
     },
     "metadata": {},
     "output_type": "display_data"
    },
    {
     "name": "stdout",
     "output_type": "stream",
     "text": [
      "118 matching events found\n",
      "No baseline correction applied\n",
      "Not setting metadata\n",
      "0 projection items activated\n",
      "0 bad epochs dropped\n",
      "This filename (C:\\Users\\SMukherjee\\Desktop\\projects\\listen_italian_motor_entrainment\\analysis\\python/data/partialCoh/partialCoh-trailLen-2-removedFirst-0s-condition-hyper-delay-0s-Silvia2.fif) does not conform to MNE naming conventions. All epochs files should end with -epo.fif or -epo.fif.gz\n",
      "This filename (C:\\Users\\SMukherjee\\Desktop\\projects\\listen_italian_motor_entrainment\\analysis\\python/data/partialCoh/partialCoh-trailLen-2-removedFirst-0s-condition-normal-delay-0s-Silvia2.fif) does not conform to MNE naming conventions. All epochs files should end with -epo.fif or -epo.fif.gz\n",
      "This filename (C:\\Users\\SMukherjee\\Desktop\\projects\\listen_italian_motor_entrainment\\analysis\\python/data/partialCoh/partialCoh-trailLen-2-removedFirst-0s-condition-hypo-delay-0s-Silvia2.fif) does not conform to MNE naming conventions. All epochs files should end with -epo.fif or -epo.fif.gz\n",
      "This filename (C:\\Users\\SMukherjee\\Desktop\\projects\\listen_italian_motor_entrainment\\analysis\\python/data/partialCoh/partialCoh-trailLen-2-removedFirst-0s-condition-All-delay-0s-Silvia2.fif) does not conform to MNE naming conventions. All epochs files should end with -epo.fif or -epo.fif.gz\n"
     ]
    },
    {
     "data": {
      "application/vnd.jupyter.widget-view+json": {
       "model_id": "014b9e0b92124779ab8c9f7afb4d049a",
       "version_major": 2,
       "version_minor": 0
      },
      "text/html": [
       "<p>Failed to display Jupyter Widget of type <code>HBox</code>.</p>\n",
       "<p>\n",
       "  If you're reading this message in the Jupyter Notebook or JupyterLab Notebook, it may mean\n",
       "  that the widgets JavaScript is still loading. If this message persists, it\n",
       "  likely means that the widgets JavaScript library is either not installed or\n",
       "  not enabled. See the <a href=\"https://ipywidgets.readthedocs.io/en/stable/user_install.html\">Jupyter\n",
       "  Widgets Documentation</a> for setup instructions.\n",
       "</p>\n",
       "<p>\n",
       "  If you're reading this message in another frontend (for example, a static\n",
       "  rendering on GitHub or <a href=\"https://nbviewer.jupyter.org/\">NBViewer</a>),\n",
       "  it may mean that your frontend doesn't currently support widgets.\n",
       "</p>\n"
      ],
      "text/plain": [
       "HBox(children=(IntProgress(value=0, description='Delay', max=1), HTML(value='')))"
      ]
     },
     "metadata": {},
     "output_type": "display_data"
    },
    {
     "name": "stdout",
     "output_type": "stream",
     "text": [
      "121 matching events found\n",
      "No baseline correction applied\n",
      "Not setting metadata\n",
      "0 projection items activated\n",
      "0 bad epochs dropped\n",
      "This filename (C:\\Users\\SMukherjee\\Desktop\\projects\\listen_italian_motor_entrainment\\analysis\\python/data/partialCoh/partialCoh-trailLen-2-removedFirst-0s-condition-hyper-delay-0s-Tommaso.fif) does not conform to MNE naming conventions. All epochs files should end with -epo.fif or -epo.fif.gz\n",
      "This filename (C:\\Users\\SMukherjee\\Desktop\\projects\\listen_italian_motor_entrainment\\analysis\\python/data/partialCoh/partialCoh-trailLen-2-removedFirst-0s-condition-normal-delay-0s-Tommaso.fif) does not conform to MNE naming conventions. All epochs files should end with -epo.fif or -epo.fif.gz\n",
      "This filename (C:\\Users\\SMukherjee\\Desktop\\projects\\listen_italian_motor_entrainment\\analysis\\python/data/partialCoh/partialCoh-trailLen-2-removedFirst-0s-condition-hypo-delay-0s-Tommaso.fif) does not conform to MNE naming conventions. All epochs files should end with -epo.fif or -epo.fif.gz\n",
      "This filename (C:\\Users\\SMukherjee\\Desktop\\projects\\listen_italian_motor_entrainment\\analysis\\python/data/partialCoh/partialCoh-trailLen-2-removedFirst-0s-condition-All-delay-0s-Tommaso.fif) does not conform to MNE naming conventions. All epochs files should end with -epo.fif or -epo.fif.gz\n",
      "\n"
     ]
    }
   ],
   "source": [
    "remove_first = 0#seconds\n",
    "\n",
    "\n",
    "\n",
    "save_path = data_path +'/data/partialCoh/partialCoh-trailLen-' +str(trial_len)+'-removedFirst-'+ str(remove_first)\n",
    "\n",
    "features = ['envelop','jawaopening','lipaparature','lipProtrusion','TTCD','TMCD','TBCD']\n",
    "condition = ['hyper','normal','hypo']\n",
    "delay = np.arange(0,1.1,0.1)\n",
    "delay = [0]\n",
    "\n",
    "indices = (np.repeat([np.arange(59,len(features)+59)],59),np.tile(np.arange(0,59),len(features)))   \n",
    "\n",
    "extra_channels = ['envelop','jawaopening','lipaparature','lipProtrusion','TTCD','TMCD','TBCD']\n",
    "eeg_channles = np.setdiff1d(GA_epoches[0].ch_names, extra_channels)\n",
    "event_id = {'hyper': 1,'normal': 2,'hypo': 3}\n",
    "ch_types = np.repeat('eeg', len(features)+59)\n",
    "ch_names = np.hstack((eeg_channles,features))        \n",
    "info = mne.create_info(ch_names = ch_names.tolist(),ch_types = ch_types,sfreq = GA_epoches[0].info['sfreq'])\n",
    "ch_names = np.setdiff1d(extra_channels,features)\n",
    "        \n",
    "for s in tqdm_notebook(range(0,len(subject_name)), desc='Subjects'):\n",
    "    frames = []\n",
    "    for d in tqdm_notebook(delay, desc='Delay'):        \n",
    "\n",
    "        epoch = listen_italian_functions.coherence_preprocess_delay(GA_epoches[s],remove_first,d,trial_len,\n",
    "                                                                    extra_channels,eeg_channles,info,ch_names,event_id)\n",
    "\n",
    "             \n",
    "        for c in condition:\n",
    "            a = epoch[c]\n",
    "            a.save(save_path+'s-'+'condition-'+c+'-delay-'+str(d)+'s-' +subject_name[s]+'.fif')\n",
    "\n",
    "        epoch.save(save_path+'s-'+'condition-All-delay-'+str(d)+'s-' +subject_name[s]+'.fif')    \n",
    "            \n",
    "            \n",
    "           "
   ]
  },
  {
   "cell_type": "markdown",
   "metadata": {},
   "source": [
    "# read the partial coherence from mat file"
   ]
  },
  {
   "cell_type": "code",
   "execution_count": 37,
   "metadata": {},
   "outputs": [],
   "source": [
    "\n",
    "raw_fname = data_path + '/data/partialCoh/PartialCoherence.mat'\n",
    "mat = scipy.io.loadmat(raw_fname)"
   ]
  },
  {
   "cell_type": "code",
   "execution_count": 38,
   "metadata": {},
   "outputs": [],
   "source": [
    "Feature= mat['data']['Feature'][0]\n",
    "RemovedFeature= mat['data']['RemovedFeature'][0]\n",
    "Condition= mat['data']['Condition'][0]\n",
    "Delay= mat['data']['Delay'][0]\n",
    "noTrials= mat['data']['noTrials'][0]\n",
    "Subject= mat['data']['Subject'][0]\n",
    "partialCoh= mat['data']['Data'][0]\n",
    "\n",
    "Feature=np.concatenate( Feature[0][0,:], axis=0 )\n",
    "RemovedFeature=np.concatenate( RemovedFeature[0][0,:], axis=0 )\n",
    "Condition=np.concatenate( Condition[0][0,:], axis=0 )\n",
    "Delay=np.concatenate( Delay[0][0,:], axis=0 )\n",
    "noTrials=np.concatenate( noTrials[0][0,:], axis=0 )\n",
    "Subject=np.concatenate( Subject[0][0,:], axis=0 )\n"
   ]
  },
  {
   "cell_type": "code",
   "execution_count": 18,
   "metadata": {},
   "outputs": [],
   "source": [
    "Freq = np.arange(1,41)\n",
    "# let's explore some frequency bands\n",
    "iter_freqs = [\n",
    "    ('Delta', 1, 3),\n",
    "    ('Theta', 4, 7),\n",
    "    ('Alpha', 8, 12),\n",
    "    ('Beta', 13, 25),\n",
    "    ('Gamma', 30, 40)\n",
    "]\n"
   ]
  },
  {
   "cell_type": "code",
   "execution_count": 55,
   "metadata": {},
   "outputs": [
    {
     "data": {
      "text/plain": [
       "(336,)"
      ]
     },
     "execution_count": 55,
     "metadata": {},
     "output_type": "execute_result"
    }
   ],
   "source": [
    "noTrials[:,0].shape"
   ]
  },
  {
   "cell_type": "code",
   "execution_count": 57,
   "metadata": {},
   "outputs": [
    {
     "data": {
      "text/html": [
       "<div>\n",
       "<style scoped>\n",
       "    .dataframe tbody tr th:only-of-type {\n",
       "        vertical-align: middle;\n",
       "    }\n",
       "\n",
       "    .dataframe tbody tr th {\n",
       "        vertical-align: top;\n",
       "    }\n",
       "\n",
       "    .dataframe thead th {\n",
       "        text-align: right;\n",
       "    }\n",
       "</style>\n",
       "<table border=\"1\" class=\"dataframe\">\n",
       "  <thead>\n",
       "    <tr style=\"text-align: right;\">\n",
       "      <th></th>\n",
       "      <th>Condition</th>\n",
       "      <th>Delay</th>\n",
       "      <th>Feature</th>\n",
       "      <th>RemovedFeature</th>\n",
       "      <th>Subject</th>\n",
       "      <th>noTrials</th>\n",
       "    </tr>\n",
       "  </thead>\n",
       "  <tbody>\n",
       "    <tr>\n",
       "      <th>40</th>\n",
       "      <td>hyper</td>\n",
       "      <td>0</td>\n",
       "      <td>TMCD</td>\n",
       "      <td>lipProtrusion</td>\n",
       "      <td>Alice</td>\n",
       "      <td>47</td>\n",
       "    </tr>\n",
       "    <tr>\n",
       "      <th>216</th>\n",
       "      <td>normal</td>\n",
       "      <td>0</td>\n",
       "      <td>envelop</td>\n",
       "      <td>jawaopening</td>\n",
       "      <td>Lucrezia</td>\n",
       "      <td>50</td>\n",
       "    </tr>\n",
       "    <tr>\n",
       "      <th>203</th>\n",
       "      <td>hyper</td>\n",
       "      <td>0</td>\n",
       "      <td>TBCD</td>\n",
       "      <td>TMCD</td>\n",
       "      <td>Lucrezia</td>\n",
       "      <td>46</td>\n",
       "    </tr>\n",
       "    <tr>\n",
       "      <th>90</th>\n",
       "      <td>hypo</td>\n",
       "      <td>0</td>\n",
       "      <td>envelop</td>\n",
       "      <td>jawaopening</td>\n",
       "      <td>Alice</td>\n",
       "      <td>27</td>\n",
       "    </tr>\n",
       "    <tr>\n",
       "      <th>109</th>\n",
       "      <td>hypo</td>\n",
       "      <td>0</td>\n",
       "      <td>jawaopening</td>\n",
       "      <td>TBCD</td>\n",
       "      <td>Alice</td>\n",
       "      <td>27</td>\n",
       "    </tr>\n",
       "    <tr>\n",
       "      <th>321</th>\n",
       "      <td>all</td>\n",
       "      <td>0</td>\n",
       "      <td>lipProtrusion</td>\n",
       "      <td>TBCD</td>\n",
       "      <td>Lucrezia</td>\n",
       "      <td>123</td>\n",
       "    </tr>\n",
       "    <tr>\n",
       "      <th>74</th>\n",
       "      <td>normal</td>\n",
       "      <td>0</td>\n",
       "      <td>lipaparature</td>\n",
       "      <td>TMCD</td>\n",
       "      <td>Alice</td>\n",
       "      <td>50</td>\n",
       "    </tr>\n",
       "    <tr>\n",
       "      <th>277</th>\n",
       "      <td>hypo</td>\n",
       "      <td>0</td>\n",
       "      <td>jawaopening</td>\n",
       "      <td>TBCD</td>\n",
       "      <td>Lucrezia</td>\n",
       "      <td>27</td>\n",
       "    </tr>\n",
       "    <tr>\n",
       "      <th>184</th>\n",
       "      <td>hyper</td>\n",
       "      <td>0</td>\n",
       "      <td>TMCD</td>\n",
       "      <td>lipaparature</td>\n",
       "      <td>Lucrezia</td>\n",
       "      <td>46</td>\n",
       "    </tr>\n",
       "    <tr>\n",
       "      <th>55</th>\n",
       "      <td>normal</td>\n",
       "      <td>0</td>\n",
       "      <td>jawaopening</td>\n",
       "      <td>lipaparature</td>\n",
       "      <td>Alice</td>\n",
       "      <td>50</td>\n",
       "    </tr>\n",
       "  </tbody>\n",
       "</table>\n",
       "</div>"
      ],
      "text/plain": [
       "    Condition Delay        Feature RemovedFeature   Subject  noTrials\n",
       "40      hyper     0           TMCD  lipProtrusion     Alice        47\n",
       "216    normal     0        envelop    jawaopening  Lucrezia        50\n",
       "203     hyper     0           TBCD           TMCD  Lucrezia        46\n",
       "90       hypo     0        envelop    jawaopening     Alice        27\n",
       "109      hypo     0    jawaopening           TBCD     Alice        27\n",
       "321       all     0  lipProtrusion           TBCD  Lucrezia       123\n",
       "74     normal     0   lipaparature           TMCD     Alice        50\n",
       "277      hypo     0    jawaopening           TBCD  Lucrezia        27\n",
       "184     hyper     0           TMCD   lipaparature  Lucrezia        46\n",
       "55     normal     0    jawaopening   lipaparature     Alice        50"
      ]
     },
     "execution_count": 57,
     "metadata": {},
     "output_type": "execute_result"
    }
   ],
   "source": [
    "data = pd.DataFrame({'Feature':Feature,'RemovedFeature':RemovedFeature,'Condition':Condition,'Delay':Delay,\n",
    "                     'noTrials':noTrials[:,0],'Subject':Subject,'partialCoh':partialCoh})\n",
    "data.sample(10)"
   ]
  },
  {
   "cell_type": "code",
   "execution_count": null,
   "metadata": {},
   "outputs": [],
   "source": []
  }
 ],
 "metadata": {
  "kernelspec": {
   "display_name": "Python 3",
   "language": "python",
   "name": "python3"
  },
  "language_info": {
   "codemirror_mode": {
    "name": "ipython",
    "version": 3
   },
   "file_extension": ".py",
   "mimetype": "text/x-python",
   "name": "python",
   "nbconvert_exporter": "python",
   "pygments_lexer": "ipython3",
   "version": "3.6.4"
  }
 },
 "nbformat": 4,
 "nbformat_minor": 2
}
