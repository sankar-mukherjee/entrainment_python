{
 "cells": [
  {
   "cell_type": "code",
   "execution_count": null,
   "metadata": {},
   "outputs": [],
   "source": [
    "import mne\n",
    "import os\n",
    "import scipy.io\n",
    "import listen_italian_functions\n",
    "import numpy as np\n",
    "from matplotlib import pyplot as plt\n",
    "import pandas as pd\n",
    "import pickle\n",
    "import warnings\n",
    "warnings.filterwarnings('ignore')\n",
    "from IPython.display import clear_output\n",
    "from itertools import combinations,permutations\n",
    "from IPython.display import clear_output\n",
    "\n",
    "data_path = os.path.dirname(os.path.dirname(os.getcwd()))\n",
    "\n",
    "subject_name = ['Alice','Andrea','Daniel','Elena','Elenora','Elisa','Federica','Francesca','Gianluca1','Giada','Giorgia',\n",
    "                'Jonluca','Laura','Leonardo','Linda','Lucrezia','Manu','Marco','Martina','Pagani','Pasquale','Sara',\n",
    "                'Silvia','Silvia2','Tommaso']\n",
    "\n",
    "remove_first = 0.5 #seconds\n"
   ]
  },
  {
   "cell_type": "code",
   "execution_count": null,
   "metadata": {},
   "outputs": [],
   "source": [
    "\n",
    "for s in subject_name:\n",
    "    raw_fname = data_path + '/behaviour/data/subject/'+s+'_behaviour.mat'\n",
    "    mat = scipy.io.loadmat(raw_fname)\n",
    "    epochs = listen_italian_functions.epoch(raw, mat,Tmin, Tmax)\n",
    "    save_path = data_path + '/python/data/coherence_epochs/'+s+'-coh-epo-'+str(Tmin)+'-'+str(Tmax)+'-trialLen-'+str(trial_len)+'.fif'\n",
    "    epochs.save(save_path)\n",
    "    print('----------------------------------------------------------------------------------------------------------------'+s)\n",
    "\n"
   ]
  }
 ],
 "metadata": {
  "kernelspec": {
   "display_name": "Python 3",
   "language": "python",
   "name": "python3"
  },
  "language_info": {
   "codemirror_mode": {
    "name": "ipython",
    "version": 3
   },
   "file_extension": ".py",
   "mimetype": "text/x-python",
   "name": "python",
   "nbconvert_exporter": "python",
   "pygments_lexer": "ipython3",
   "version": "3.6.4"
  }
 },
 "nbformat": 4,
 "nbformat_minor": 2
}
